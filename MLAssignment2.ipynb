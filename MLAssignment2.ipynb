{
 "cells": [
  {
   "cell_type": "code",
   "execution_count": 1,
   "metadata": {},
   "outputs": [],
   "source": [
    "import pandas as pd\n",
    "import numpy as np\n",
    "from sklearn import preprocessing\n",
    "import matplotlib.pyplot as plt \n",
    "plt.rc(\"font\", size=14)\n",
    "from sklearn.linear_model import LogisticRegression\n",
    "from sklearn.model_selection import train_test_split\n",
    "import seaborn as sns\n",
    "sns.set(style=\"white\")\n",
    "sns.set(style=\"whitegrid\", color_codes=True)\n",
    "data = pd.read_csv('C:/Users/fateh/Desktop/data.csv')"
   ]
  },
  {
   "cell_type": "code",
   "execution_count": 2,
   "metadata": {},
   "outputs": [
    {
     "data": {
      "text/html": [
       "<div>\n",
       "<style scoped>\n",
       "    .dataframe tbody tr th:only-of-type {\n",
       "        vertical-align: middle;\n",
       "    }\n",
       "\n",
       "    .dataframe tbody tr th {\n",
       "        vertical-align: top;\n",
       "    }\n",
       "\n",
       "    .dataframe thead th {\n",
       "        text-align: right;\n",
       "    }\n",
       "</style>\n",
       "<table border=\"1\" class=\"dataframe\">\n",
       "  <thead>\n",
       "    <tr style=\"text-align: right;\">\n",
       "      <th></th>\n",
       "      <th>Page_Likes</th>\n",
       "      <th>Page_Checkins</th>\n",
       "      <th>Page_visit_after_like</th>\n",
       "      <th>Page_category</th>\n",
       "      <th>D1</th>\n",
       "      <th>D2</th>\n",
       "      <th>D3</th>\n",
       "      <th>D4</th>\n",
       "      <th>D5</th>\n",
       "      <th>D6</th>\n",
       "      <th>...</th>\n",
       "      <th>Published_on_Friday</th>\n",
       "      <th>Published_on_Sat</th>\n",
       "      <th>Sunday</th>\n",
       "      <th>Monday</th>\n",
       "      <th>Tuesday</th>\n",
       "      <th>Wednesday</th>\n",
       "      <th>Thursday</th>\n",
       "      <th>Friday</th>\n",
       "      <th>Saturday</th>\n",
       "      <th>Comments_in_Next_H_Hrs</th>\n",
       "    </tr>\n",
       "  </thead>\n",
       "  <tbody>\n",
       "    <tr>\n",
       "      <th>count</th>\n",
       "      <td>8.131200e+04</td>\n",
       "      <td>81312.000000</td>\n",
       "      <td>8.131200e+04</td>\n",
       "      <td>81312.000000</td>\n",
       "      <td>81312.000000</td>\n",
       "      <td>81312.000000</td>\n",
       "      <td>81312.000000</td>\n",
       "      <td>81312.000000</td>\n",
       "      <td>81312.000000</td>\n",
       "      <td>81312.000000</td>\n",
       "      <td>...</td>\n",
       "      <td>81312.000000</td>\n",
       "      <td>81312.000000</td>\n",
       "      <td>81312.000000</td>\n",
       "      <td>81312.000000</td>\n",
       "      <td>81312.000000</td>\n",
       "      <td>81312.000000</td>\n",
       "      <td>81312.000000</td>\n",
       "      <td>81312.000000</td>\n",
       "      <td>81312.000000</td>\n",
       "      <td>81312.000000</td>\n",
       "    </tr>\n",
       "    <tr>\n",
       "      <th>mean</th>\n",
       "      <td>1.313921e+06</td>\n",
       "      <td>4667.704336</td>\n",
       "      <td>4.475377e+04</td>\n",
       "      <td>24.255633</td>\n",
       "      <td>0.707190</td>\n",
       "      <td>464.665781</td>\n",
       "      <td>55.728933</td>\n",
       "      <td>35.392255</td>\n",
       "      <td>67.588653</td>\n",
       "      <td>0.143361</td>\n",
       "      <td>...</td>\n",
       "      <td>0.146153</td>\n",
       "      <td>0.136954</td>\n",
       "      <td>0.141049</td>\n",
       "      <td>0.133400</td>\n",
       "      <td>0.138417</td>\n",
       "      <td>0.145477</td>\n",
       "      <td>0.155180</td>\n",
       "      <td>0.144997</td>\n",
       "      <td>0.141480</td>\n",
       "      <td>7.190611</td>\n",
       "    </tr>\n",
       "    <tr>\n",
       "      <th>std</th>\n",
       "      <td>6.804951e+06</td>\n",
       "      <td>20561.261034</td>\n",
       "      <td>1.109279e+05</td>\n",
       "      <td>19.949156</td>\n",
       "      <td>12.169748</td>\n",
       "      <td>520.925523</td>\n",
       "      <td>85.243275</td>\n",
       "      <td>67.043844</td>\n",
       "      <td>82.836764</td>\n",
       "      <td>7.819979</td>\n",
       "      <td>...</td>\n",
       "      <td>0.353262</td>\n",
       "      <td>0.343801</td>\n",
       "      <td>0.348075</td>\n",
       "      <td>0.340008</td>\n",
       "      <td>0.345340</td>\n",
       "      <td>0.352583</td>\n",
       "      <td>0.362078</td>\n",
       "      <td>0.352100</td>\n",
       "      <td>0.348518</td>\n",
       "      <td>36.049374</td>\n",
       "    </tr>\n",
       "    <tr>\n",
       "      <th>min</th>\n",
       "      <td>3.600000e+01</td>\n",
       "      <td>0.000000</td>\n",
       "      <td>0.000000e+00</td>\n",
       "      <td>1.000000</td>\n",
       "      <td>0.000000</td>\n",
       "      <td>0.000000</td>\n",
       "      <td>0.000000</td>\n",
       "      <td>0.000000</td>\n",
       "      <td>0.000000</td>\n",
       "      <td>0.000000</td>\n",
       "      <td>...</td>\n",
       "      <td>0.000000</td>\n",
       "      <td>0.000000</td>\n",
       "      <td>0.000000</td>\n",
       "      <td>0.000000</td>\n",
       "      <td>0.000000</td>\n",
       "      <td>0.000000</td>\n",
       "      <td>0.000000</td>\n",
       "      <td>0.000000</td>\n",
       "      <td>0.000000</td>\n",
       "      <td>0.000000</td>\n",
       "    </tr>\n",
       "    <tr>\n",
       "      <th>25%</th>\n",
       "      <td>3.673400e+04</td>\n",
       "      <td>0.000000</td>\n",
       "      <td>6.980000e+02</td>\n",
       "      <td>9.000000</td>\n",
       "      <td>0.000000</td>\n",
       "      <td>47.000000</td>\n",
       "      <td>5.190751</td>\n",
       "      <td>2.000000</td>\n",
       "      <td>8.032349</td>\n",
       "      <td>0.000000</td>\n",
       "      <td>...</td>\n",
       "      <td>0.000000</td>\n",
       "      <td>0.000000</td>\n",
       "      <td>0.000000</td>\n",
       "      <td>0.000000</td>\n",
       "      <td>0.000000</td>\n",
       "      <td>0.000000</td>\n",
       "      <td>0.000000</td>\n",
       "      <td>0.000000</td>\n",
       "      <td>0.000000</td>\n",
       "      <td>0.000000</td>\n",
       "    </tr>\n",
       "    <tr>\n",
       "      <th>50%</th>\n",
       "      <td>2.929110e+05</td>\n",
       "      <td>0.000000</td>\n",
       "      <td>7.045000e+03</td>\n",
       "      <td>18.000000</td>\n",
       "      <td>0.000000</td>\n",
       "      <td>251.000000</td>\n",
       "      <td>22.794183</td>\n",
       "      <td>13.000000</td>\n",
       "      <td>32.565168</td>\n",
       "      <td>0.000000</td>\n",
       "      <td>...</td>\n",
       "      <td>0.000000</td>\n",
       "      <td>0.000000</td>\n",
       "      <td>0.000000</td>\n",
       "      <td>0.000000</td>\n",
       "      <td>0.000000</td>\n",
       "      <td>0.000000</td>\n",
       "      <td>0.000000</td>\n",
       "      <td>0.000000</td>\n",
       "      <td>0.000000</td>\n",
       "      <td>0.000000</td>\n",
       "    </tr>\n",
       "    <tr>\n",
       "      <th>75%</th>\n",
       "      <td>1.204214e+06</td>\n",
       "      <td>99.000000</td>\n",
       "      <td>5.026400e+04</td>\n",
       "      <td>32.000000</td>\n",
       "      <td>0.000000</td>\n",
       "      <td>717.000000</td>\n",
       "      <td>71.791489</td>\n",
       "      <td>42.000000</td>\n",
       "      <td>102.060861</td>\n",
       "      <td>0.000000</td>\n",
       "      <td>...</td>\n",
       "      <td>0.000000</td>\n",
       "      <td>0.000000</td>\n",
       "      <td>0.000000</td>\n",
       "      <td>0.000000</td>\n",
       "      <td>0.000000</td>\n",
       "      <td>0.000000</td>\n",
       "      <td>0.000000</td>\n",
       "      <td>0.000000</td>\n",
       "      <td>0.000000</td>\n",
       "      <td>3.000000</td>\n",
       "    </tr>\n",
       "    <tr>\n",
       "      <th>max</th>\n",
       "      <td>4.869723e+08</td>\n",
       "      <td>186370.000000</td>\n",
       "      <td>6.089942e+06</td>\n",
       "      <td>106.000000</td>\n",
       "      <td>1311.000000</td>\n",
       "      <td>2438.000000</td>\n",
       "      <td>1693.500000</td>\n",
       "      <td>1693.500000</td>\n",
       "      <td>743.091650</td>\n",
       "      <td>1311.000000</td>\n",
       "      <td>...</td>\n",
       "      <td>1.000000</td>\n",
       "      <td>1.000000</td>\n",
       "      <td>1.000000</td>\n",
       "      <td>1.000000</td>\n",
       "      <td>1.000000</td>\n",
       "      <td>1.000000</td>\n",
       "      <td>1.000000</td>\n",
       "      <td>1.000000</td>\n",
       "      <td>1.000000</td>\n",
       "      <td>1966.000000</td>\n",
       "    </tr>\n",
       "  </tbody>\n",
       "</table>\n",
       "<p>8 rows × 54 columns</p>\n",
       "</div>"
      ],
      "text/plain": [
       "         Page_Likes  Page_Checkins  Page_visit_after_like  Page_category  \\\n",
       "count  8.131200e+04   81312.000000           8.131200e+04   81312.000000   \n",
       "mean   1.313921e+06    4667.704336           4.475377e+04      24.255633   \n",
       "std    6.804951e+06   20561.261034           1.109279e+05      19.949156   \n",
       "min    3.600000e+01       0.000000           0.000000e+00       1.000000   \n",
       "25%    3.673400e+04       0.000000           6.980000e+02       9.000000   \n",
       "50%    2.929110e+05       0.000000           7.045000e+03      18.000000   \n",
       "75%    1.204214e+06      99.000000           5.026400e+04      32.000000   \n",
       "max    4.869723e+08  186370.000000           6.089942e+06     106.000000   \n",
       "\n",
       "                 D1            D2            D3            D4            D5  \\\n",
       "count  81312.000000  81312.000000  81312.000000  81312.000000  81312.000000   \n",
       "mean       0.707190    464.665781     55.728933     35.392255     67.588653   \n",
       "std       12.169748    520.925523     85.243275     67.043844     82.836764   \n",
       "min        0.000000      0.000000      0.000000      0.000000      0.000000   \n",
       "25%        0.000000     47.000000      5.190751      2.000000      8.032349   \n",
       "50%        0.000000    251.000000     22.794183     13.000000     32.565168   \n",
       "75%        0.000000    717.000000     71.791489     42.000000    102.060861   \n",
       "max     1311.000000   2438.000000   1693.500000   1693.500000    743.091650   \n",
       "\n",
       "                 D6           ...            Published_on_Friday  \\\n",
       "count  81312.000000           ...                   81312.000000   \n",
       "mean       0.143361           ...                       0.146153   \n",
       "std        7.819979           ...                       0.353262   \n",
       "min        0.000000           ...                       0.000000   \n",
       "25%        0.000000           ...                       0.000000   \n",
       "50%        0.000000           ...                       0.000000   \n",
       "75%        0.000000           ...                       0.000000   \n",
       "max     1311.000000           ...                       1.000000   \n",
       "\n",
       "       Published_on_Sat        Sunday        Monday       Tuesday  \\\n",
       "count      81312.000000  81312.000000  81312.000000  81312.000000   \n",
       "mean           0.136954      0.141049      0.133400      0.138417   \n",
       "std            0.343801      0.348075      0.340008      0.345340   \n",
       "min            0.000000      0.000000      0.000000      0.000000   \n",
       "25%            0.000000      0.000000      0.000000      0.000000   \n",
       "50%            0.000000      0.000000      0.000000      0.000000   \n",
       "75%            0.000000      0.000000      0.000000      0.000000   \n",
       "max            1.000000      1.000000      1.000000      1.000000   \n",
       "\n",
       "          Wednesday      Thursday        Friday      Saturday  \\\n",
       "count  81312.000000  81312.000000  81312.000000  81312.000000   \n",
       "mean       0.145477      0.155180      0.144997      0.141480   \n",
       "std        0.352583      0.362078      0.352100      0.348518   \n",
       "min        0.000000      0.000000      0.000000      0.000000   \n",
       "25%        0.000000      0.000000      0.000000      0.000000   \n",
       "50%        0.000000      0.000000      0.000000      0.000000   \n",
       "75%        0.000000      0.000000      0.000000      0.000000   \n",
       "max        1.000000      1.000000      1.000000      1.000000   \n",
       "\n",
       "       Comments_in_Next_H_Hrs  \n",
       "count            81312.000000  \n",
       "mean                 7.190611  \n",
       "std                 36.049374  \n",
       "min                  0.000000  \n",
       "25%                  0.000000  \n",
       "50%                  0.000000  \n",
       "75%                  3.000000  \n",
       "max               1966.000000  \n",
       "\n",
       "[8 rows x 54 columns]"
      ]
     },
     "execution_count": 2,
     "metadata": {},
     "output_type": "execute_result"
    }
   ],
   "source": [
    "data.describe()"
   ]
  },
  {
   "cell_type": "code",
   "execution_count": 3,
   "metadata": {},
   "outputs": [
    {
     "data": {
      "text/plain": [
       "Page_Likes                                                   0\n",
       "Page_Checkins                                                0\n",
       "Page_visit_after_like                                        0\n",
       "Page_category                                                0\n",
       "D1                                                           0\n",
       "D2                                                           0\n",
       "D3                                                           0\n",
       "D4                                                           0\n",
       "D5                                                           0\n",
       "D6                                                           0\n",
       "D7                                                           0\n",
       "D8                                                           0\n",
       "D9                                                           0\n",
       "D10                                                          0\n",
       "D11                                                          0\n",
       "D12                                                          0\n",
       "D13                                                          0\n",
       "D14                                                          0\n",
       "D15                                                          0\n",
       "D16                                                          0\n",
       "D17                                                          0\n",
       "D18                                                          0\n",
       "D19                                                          0\n",
       "D20                                                          0\n",
       "D21                                                          0\n",
       "D22                                                          0\n",
       "D23                                                          0\n",
       "D24                                                          0\n",
       "D25                                                          0\n",
       "Comment_before_time                                          0\n",
       "Comment_in_last_24_hrs                                       0\n",
       "Comment_in_24_to_48_hrs                                      0\n",
       "Comment_in_24_hrs_after_publication_before_base_date/time    0\n",
       "Difference_between_CC2_and_CC3                               0\n",
       "Selected_time_to_simulate_scenario                           0\n",
       "Post_Length                                                  0\n",
       "Post_Share_Count                                             0\n",
       "Post_promotion_status                                        0\n",
       "H_hrs                                                        0\n",
       "Published_on_Sunday                                          0\n",
       "Published_on_Monday                                          0\n",
       "Published_on_Tuesday                                         0\n",
       "Published_on_Wed                                             0\n",
       "Published_on_Thurs                                           0\n",
       "Published_on_Friday                                          0\n",
       "Published_on_Sat                                             0\n",
       "Sunday                                                       0\n",
       "Monday                                                       0\n",
       "Tuesday                                                      0\n",
       "Wednesday                                                    0\n",
       "Thursday                                                     0\n",
       "Friday                                                       0\n",
       "Saturday                                                     0\n",
       "Comments_in_Next_H_Hrs                                       0\n",
       "dtype: int64"
      ]
     },
     "execution_count": 3,
     "metadata": {},
     "output_type": "execute_result"
    }
   ],
   "source": [
    "data.isnull().sum()\n"
   ]
  },
  {
   "cell_type": "code",
   "execution_count": 4,
   "metadata": {},
   "outputs": [
    {
     "data": {
      "text/plain": [
       "Page_Likes                                                     int64\n",
       "Page_Checkins                                                  int64\n",
       "Page_visit_after_like                                          int64\n",
       "Page_category                                                  int64\n",
       "D1                                                             int64\n",
       "D2                                                             int64\n",
       "D3                                                           float64\n",
       "D4                                                           float64\n",
       "D5                                                           float64\n",
       "D6                                                             int64\n",
       "D7                                                             int64\n",
       "D8                                                           float64\n",
       "D9                                                           float64\n",
       "D10                                                          float64\n",
       "D11                                                            int64\n",
       "D12                                                            int64\n",
       "D13                                                          float64\n",
       "D14                                                          float64\n",
       "D15                                                          float64\n",
       "D16                                                            int64\n",
       "D17                                                            int64\n",
       "D18                                                          float64\n",
       "D19                                                          float64\n",
       "D20                                                          float64\n",
       "D21                                                            int64\n",
       "D22                                                            int64\n",
       "D23                                                          float64\n",
       "D24                                                          float64\n",
       "D25                                                          float64\n",
       "Comment_before_time                                            int64\n",
       "Comment_in_last_24_hrs                                         int64\n",
       "Comment_in_24_to_48_hrs                                        int64\n",
       "Comment_in_24_hrs_after_publication_before_base_date/time      int64\n",
       "Difference_between_CC2_and_CC3                                 int64\n",
       "Selected_time_to_simulate_scenario                             int64\n",
       "Post_Length                                                    int64\n",
       "Post_Share_Count                                               int64\n",
       "Post_promotion_status                                          int64\n",
       "H_hrs                                                          int64\n",
       "Published_on_Sunday                                            int64\n",
       "Published_on_Monday                                            int64\n",
       "Published_on_Tuesday                                           int64\n",
       "Published_on_Wed                                               int64\n",
       "Published_on_Thurs                                             int64\n",
       "Published_on_Friday                                            int64\n",
       "Published_on_Sat                                               int64\n",
       "Sunday                                                         int64\n",
       "Monday                                                         int64\n",
       "Tuesday                                                        int64\n",
       "Wednesday                                                      int64\n",
       "Thursday                                                       int64\n",
       "Friday                                                         int64\n",
       "Saturday                                                       int64\n",
       "Comments_in_Next_H_Hrs                                         int64\n",
       "dtype: object"
      ]
     },
     "execution_count": 4,
     "metadata": {},
     "output_type": "execute_result"
    }
   ],
   "source": [
    "data.dtypes"
   ]
  },
  {
   "cell_type": "code",
   "execution_count": 5,
   "metadata": {},
   "outputs": [
    {
     "name": "stdout",
     "output_type": "stream",
     "text": [
      "0       45036\n",
      "1       10276\n",
      "2        5181\n",
      "3        3153\n",
      "4        2144\n",
      "5        1661\n",
      "6        1320\n",
      "7        1093\n",
      "8         865\n",
      "9         752\n",
      "10        646\n",
      "11        538\n",
      "12        512\n",
      "13        446\n",
      "14        409\n",
      "16        337\n",
      "15        333\n",
      "17        312\n",
      "18        261\n",
      "19        255\n",
      "21        224\n",
      "20        192\n",
      "22        190\n",
      "23        176\n",
      "26        169\n",
      "24        168\n",
      "25        158\n",
      "27        146\n",
      "28        143\n",
      "30        129\n",
      "        ...  \n",
      "411         1\n",
      "872         1\n",
      "419         1\n",
      "552         1\n",
      "424         1\n",
      "232         1\n",
      "551         1\n",
      "487         1\n",
      "359         1\n",
      "295         1\n",
      "678         1\n",
      "422         1\n",
      "294         1\n",
      "230         1\n",
      "292         1\n",
      "1378        1\n",
      "412         1\n",
      "354         1\n",
      "417         1\n",
      "353         1\n",
      "608         1\n",
      "544         1\n",
      "352         1\n",
      "288         1\n",
      "351         1\n",
      "287         1\n",
      "414         1\n",
      "383         1\n",
      "221         1\n",
      "286         1\n",
      "Name: Comments_in_Next_H_Hrs, Length: 449, dtype: int64\n"
     ]
    }
   ],
   "source": [
    "#Values of Y variable\n",
    "print(data['Comments_in_Next_H_Hrs'].value_counts())"
   ]
  },
  {
   "cell_type": "code",
   "execution_count": 6,
   "metadata": {},
   "outputs": [
    {
     "data": {
      "image/png": "[encoded data removed]",
      "text/plain": [
       "<Figure size 432x288 with 1 Axes>"
      ]
     },
     "metadata": {},
     "output_type": "display_data"
    }
   ],
   "source": [
    "#Bar chart of independent variable\n",
    "labels = data['Comments_in_Next_H_Hrs'].astype('category').cat.categories.tolist()\n",
    "counts = data['Comments_in_Next_H_Hrs'].value_counts()\n",
    "sizes = [counts[var_cat] for var_cat in labels]\n",
    "fig1, ax1 = plt.subplots()\n",
    "ax1.pie(sizes, labels=labels, autopct='%1.1f%%', shadow=True) #autopct is show the % on plot\n",
    "ax1.axis('equal')\n",
    "plt.show()\n"
   ]
  },
  {
   "cell_type": "code",
   "execution_count": 7,
   "metadata": {},
   "outputs": [],
   "source": [
    "data.loc[ data['Comments_in_Next_H_Hrs'] < 1, 'Comments_in_Next_H_Hrs']  = 0\n",
    "data.loc[ data['Comments_in_Next_H_Hrs'] >= 1, 'Comments_in_Next_H_Hrs']  = 1"
   ]
  },
  {
   "cell_type": "code",
   "execution_count": 8,
   "metadata": {},
   "outputs": [
    {
     "data": {
      "image/png": "[encoded data removed]",
      "text/plain": [
       "<Figure size 432x288 with 1 Axes>"
      ]
     },
     "metadata": {},
     "output_type": "display_data"
    }
   ],
   "source": [
    "#Bar chart of independent variable\n",
    "labels = data['Comments_in_Next_H_Hrs'].astype('category').cat.categories.tolist()\n",
    "counts = data['Comments_in_Next_H_Hrs'].value_counts()\n",
    "sizes = [counts[var_cat] for var_cat in labels]\n",
    "fig1, ax1 = plt.subplots()\n",
    "ax1.pie(sizes, labels=labels, autopct='%1.1f%%', shadow=True) #autopct is show the % on plot\n",
    "ax1.axis('equal')\n",
    "plt.show()\n"
   ]
  },
  {
   "cell_type": "code",
   "execution_count": 77,
   "metadata": {},
   "outputs": [
    {
     "data": {
      "text/html": [
       "<div>\n",
       "<style scoped>\n",
       "    .dataframe tbody tr th:only-of-type {\n",
       "        vertical-align: middle;\n",
       "    }\n",
       "\n",
       "    .dataframe tbody tr th {\n",
       "        vertical-align: top;\n",
       "    }\n",
       "\n",
       "    .dataframe thead th {\n",
       "        text-align: right;\n",
       "    }\n",
       "</style>\n",
       "<table border=\"1\" class=\"dataframe\">\n",
       "  <thead>\n",
       "    <tr style=\"text-align: right;\">\n",
       "      <th></th>\n",
       "      <th>Page_Likes</th>\n",
       "      <th>Page_Checkins</th>\n",
       "      <th>Page_visit_after_like</th>\n",
       "      <th>Page_category</th>\n",
       "      <th>D1</th>\n",
       "      <th>D2</th>\n",
       "      <th>D3</th>\n",
       "      <th>D4</th>\n",
       "      <th>D5</th>\n",
       "      <th>D6</th>\n",
       "      <th>...</th>\n",
       "      <th>Published_on_Friday</th>\n",
       "      <th>Published_on_Sat</th>\n",
       "      <th>Sunday</th>\n",
       "      <th>Monday</th>\n",
       "      <th>Tuesday</th>\n",
       "      <th>Wednesday</th>\n",
       "      <th>Thursday</th>\n",
       "      <th>Friday</th>\n",
       "      <th>Saturday</th>\n",
       "      <th>Comments_in_Next_H_Hrs</th>\n",
       "    </tr>\n",
       "  </thead>\n",
       "  <tbody>\n",
       "    <tr>\n",
       "      <th>Page_Likes</th>\n",
       "      <td>1.000000</td>\n",
       "      <td>0.044807</td>\n",
       "      <td>0.623889</td>\n",
       "      <td>-0.042031</td>\n",
       "      <td>0.052409</td>\n",
       "      <td>0.157068</td>\n",
       "      <td>0.162368</td>\n",
       "      <td>0.145416</td>\n",
       "      <td>0.168368</td>\n",
       "      <td>0.025198</td>\n",
       "      <td>...</td>\n",
       "      <td>-0.009585</td>\n",
       "      <td>0.003508</td>\n",
       "      <td>-0.006410</td>\n",
       "      <td>-0.004281</td>\n",
       "      <td>-0.001866</td>\n",
       "      <td>0.012786</td>\n",
       "      <td>-0.002421</td>\n",
       "      <td>0.000066</td>\n",
       "      <td>0.001942</td>\n",
       "      <td>0.074498</td>\n",
       "    </tr>\n",
       "    <tr>\n",
       "      <th>Page_Checkins</th>\n",
       "      <td>0.044807</td>\n",
       "      <td>1.000000</td>\n",
       "      <td>0.167161</td>\n",
       "      <td>-0.060186</td>\n",
       "      <td>-0.009078</td>\n",
       "      <td>0.163089</td>\n",
       "      <td>0.153054</td>\n",
       "      <td>0.125221</td>\n",
       "      <td>0.171057</td>\n",
       "      <td>-0.002852</td>\n",
       "      <td>...</td>\n",
       "      <td>-0.006497</td>\n",
       "      <td>0.007592</td>\n",
       "      <td>-0.003616</td>\n",
       "      <td>-0.004903</td>\n",
       "      <td>-0.004674</td>\n",
       "      <td>0.004337</td>\n",
       "      <td>-0.001336</td>\n",
       "      <td>0.006868</td>\n",
       "      <td>0.003088</td>\n",
       "      <td>0.062850</td>\n",
       "    </tr>\n",
       "    <tr>\n",
       "      <th>Page_visit_after_like</th>\n",
       "      <td>0.623889</td>\n",
       "      <td>0.167161</td>\n",
       "      <td>1.000000</td>\n",
       "      <td>-0.148501</td>\n",
       "      <td>0.121792</td>\n",
       "      <td>0.492399</td>\n",
       "      <td>0.516836</td>\n",
       "      <td>0.467845</td>\n",
       "      <td>0.533483</td>\n",
       "      <td>0.078098</td>\n",
       "      <td>...</td>\n",
       "      <td>-0.027447</td>\n",
       "      <td>-0.007698</td>\n",
       "      <td>-0.021363</td>\n",
       "      <td>-0.005943</td>\n",
       "      <td>0.000210</td>\n",
       "      <td>0.024554</td>\n",
       "      <td>0.020660</td>\n",
       "      <td>-0.002727</td>\n",
       "      <td>-0.016624</td>\n",
       "      <td>0.192206</td>\n",
       "    </tr>\n",
       "    <tr>\n",
       "      <th>Page_category</th>\n",
       "      <td>-0.042031</td>\n",
       "      <td>-0.060186</td>\n",
       "      <td>-0.148501</td>\n",
       "      <td>1.000000</td>\n",
       "      <td>-0.023687</td>\n",
       "      <td>-0.314895</td>\n",
       "      <td>-0.234362</td>\n",
       "      <td>-0.195815</td>\n",
       "      <td>-0.283879</td>\n",
       "      <td>-0.010510</td>\n",
       "      <td>...</td>\n",
       "      <td>0.002661</td>\n",
       "      <td>-0.001977</td>\n",
       "      <td>-0.000914</td>\n",
       "      <td>0.000579</td>\n",
       "      <td>-0.003538</td>\n",
       "      <td>-0.003273</td>\n",
       "      <td>0.002504</td>\n",
       "      <td>0.000054</td>\n",
       "      <td>0.004509</td>\n",
       "      <td>-0.141774</td>\n",
       "    </tr>\n",
       "    <tr>\n",
       "      <th>D1</th>\n",
       "      <td>0.052409</td>\n",
       "      <td>-0.009078</td>\n",
       "      <td>0.121792</td>\n",
       "      <td>-0.023687</td>\n",
       "      <td>1.000000</td>\n",
       "      <td>0.066643</td>\n",
       "      <td>0.305412</td>\n",
       "      <td>0.365101</td>\n",
       "      <td>0.136530</td>\n",
       "      <td>0.819893</td>\n",
       "      <td>...</td>\n",
       "      <td>-0.003888</td>\n",
       "      <td>-0.009372</td>\n",
       "      <td>-0.005051</td>\n",
       "      <td>-0.008610</td>\n",
       "      <td>-0.005983</td>\n",
       "      <td>0.004060</td>\n",
       "      <td>0.013692</td>\n",
       "      <td>0.004484</td>\n",
       "      <td>-0.003490</td>\n",
       "      <td>0.057842</td>\n",
       "    </tr>\n",
       "    <tr>\n",
       "      <th>D2</th>\n",
       "      <td>0.157068</td>\n",
       "      <td>0.163089</td>\n",
       "      <td>0.492399</td>\n",
       "      <td>-0.314895</td>\n",
       "      <td>0.066643</td>\n",
       "      <td>1.000000</td>\n",
       "      <td>0.726182</td>\n",
       "      <td>0.596602</td>\n",
       "      <td>0.896847</td>\n",
       "      <td>0.035629</td>\n",
       "      <td>...</td>\n",
       "      <td>-0.011072</td>\n",
       "      <td>-0.008998</td>\n",
       "      <td>-0.009643</td>\n",
       "      <td>-0.009593</td>\n",
       "      <td>0.001484</td>\n",
       "      <td>0.010099</td>\n",
       "      <td>0.011145</td>\n",
       "      <td>0.004505</td>\n",
       "      <td>-0.008828</td>\n",
       "      <td>0.349246</td>\n",
       "    </tr>\n",
       "    <tr>\n",
       "      <th>D3</th>\n",
       "      <td>0.162368</td>\n",
       "      <td>0.153054</td>\n",
       "      <td>0.516836</td>\n",
       "      <td>-0.234362</td>\n",
       "      <td>0.305412</td>\n",
       "      <td>0.726182</td>\n",
       "      <td>1.000000</td>\n",
       "      <td>0.962699</td>\n",
       "      <td>0.911807</td>\n",
       "      <td>0.179864</td>\n",
       "      <td>...</td>\n",
       "      <td>-0.016886</td>\n",
       "      <td>-0.004117</td>\n",
       "      <td>-0.010903</td>\n",
       "      <td>-0.006183</td>\n",
       "      <td>0.000277</td>\n",
       "      <td>0.011781</td>\n",
       "      <td>0.011689</td>\n",
       "      <td>0.002632</td>\n",
       "      <td>-0.010076</td>\n",
       "      <td>0.354835</td>\n",
       "    </tr>\n",
       "    <tr>\n",
       "      <th>D4</th>\n",
       "      <td>0.145416</td>\n",
       "      <td>0.125221</td>\n",
       "      <td>0.467845</td>\n",
       "      <td>-0.195815</td>\n",
       "      <td>0.365101</td>\n",
       "      <td>0.596602</td>\n",
       "      <td>0.962699</td>\n",
       "      <td>1.000000</td>\n",
       "      <td>0.786959</td>\n",
       "      <td>0.225231</td>\n",
       "      <td>...</td>\n",
       "      <td>-0.016075</td>\n",
       "      <td>-0.001945</td>\n",
       "      <td>-0.009832</td>\n",
       "      <td>-0.004683</td>\n",
       "      <td>-0.000305</td>\n",
       "      <td>0.010966</td>\n",
       "      <td>0.009558</td>\n",
       "      <td>0.001663</td>\n",
       "      <td>-0.008013</td>\n",
       "      <td>0.315828</td>\n",
       "    </tr>\n",
       "    <tr>\n",
       "      <th>D5</th>\n",
       "      <td>0.168368</td>\n",
       "      <td>0.171057</td>\n",
       "      <td>0.533483</td>\n",
       "      <td>-0.283879</td>\n",
       "      <td>0.136530</td>\n",
       "      <td>0.896847</td>\n",
       "      <td>0.911807</td>\n",
       "      <td>0.786959</td>\n",
       "      <td>1.000000</td>\n",
       "      <td>0.055806</td>\n",
       "      <td>...</td>\n",
       "      <td>-0.015612</td>\n",
       "      <td>-0.009654</td>\n",
       "      <td>-0.012360</td>\n",
       "      <td>-0.009272</td>\n",
       "      <td>0.001318</td>\n",
       "      <td>0.013502</td>\n",
       "      <td>0.015062</td>\n",
       "      <td>0.003824</td>\n",
       "      <td>-0.013086</td>\n",
       "      <td>0.369427</td>\n",
       "    </tr>\n",
       "    <tr>\n",
       "      <th>D6</th>\n",
       "      <td>0.025198</td>\n",
       "      <td>-0.002852</td>\n",
       "      <td>0.078098</td>\n",
       "      <td>-0.010510</td>\n",
       "      <td>0.819893</td>\n",
       "      <td>0.035629</td>\n",
       "      <td>0.179864</td>\n",
       "      <td>0.225231</td>\n",
       "      <td>0.055806</td>\n",
       "      <td>1.000000</td>\n",
       "      <td>...</td>\n",
       "      <td>-0.004549</td>\n",
       "      <td>-0.005203</td>\n",
       "      <td>-0.004912</td>\n",
       "      <td>-0.005185</td>\n",
       "      <td>-0.001364</td>\n",
       "      <td>-0.000160</td>\n",
       "      <td>0.006364</td>\n",
       "      <td>0.008548</td>\n",
       "      <td>-0.003769</td>\n",
       "      <td>0.019933</td>\n",
       "    </tr>\n",
       "    <tr>\n",
       "      <th>D7</th>\n",
       "      <td>0.157473</td>\n",
       "      <td>0.220264</td>\n",
       "      <td>0.489851</td>\n",
       "      <td>-0.292118</td>\n",
       "      <td>0.053004</td>\n",
       "      <td>0.892523</td>\n",
       "      <td>0.725491</td>\n",
       "      <td>0.602210</td>\n",
       "      <td>0.851436</td>\n",
       "      <td>0.030779</td>\n",
       "      <td>...</td>\n",
       "      <td>-0.014580</td>\n",
       "      <td>-0.005049</td>\n",
       "      <td>-0.009034</td>\n",
       "      <td>-0.005190</td>\n",
       "      <td>0.001924</td>\n",
       "      <td>0.012023</td>\n",
       "      <td>0.007503</td>\n",
       "      <td>0.003776</td>\n",
       "      <td>-0.011593</td>\n",
       "      <td>0.333984</td>\n",
       "    </tr>\n",
       "    <tr>\n",
       "      <th>D8</th>\n",
       "      <td>0.157503</td>\n",
       "      <td>0.141870</td>\n",
       "      <td>0.520569</td>\n",
       "      <td>-0.219768</td>\n",
       "      <td>0.400761</td>\n",
       "      <td>0.677236</td>\n",
       "      <td>0.967289</td>\n",
       "      <td>0.945278</td>\n",
       "      <td>0.861698</td>\n",
       "      <td>0.313147</td>\n",
       "      <td>...</td>\n",
       "      <td>-0.019732</td>\n",
       "      <td>-0.008354</td>\n",
       "      <td>-0.013835</td>\n",
       "      <td>-0.009342</td>\n",
       "      <td>-0.001283</td>\n",
       "      <td>0.014392</td>\n",
       "      <td>0.019352</td>\n",
       "      <td>0.002063</td>\n",
       "      <td>-0.012546</td>\n",
       "      <td>0.334245</td>\n",
       "    </tr>\n",
       "    <tr>\n",
       "      <th>D9</th>\n",
       "      <td>0.125590</td>\n",
       "      <td>0.057488</td>\n",
       "      <td>0.417136</td>\n",
       "      <td>-0.133234</td>\n",
       "      <td>0.609010</td>\n",
       "      <td>0.438529</td>\n",
       "      <td>0.800977</td>\n",
       "      <td>0.851667</td>\n",
       "      <td>0.611401</td>\n",
       "      <td>0.529388</td>\n",
       "      <td>...</td>\n",
       "      <td>-0.016849</td>\n",
       "      <td>-0.009460</td>\n",
       "      <td>-0.011751</td>\n",
       "      <td>-0.011580</td>\n",
       "      <td>-0.003568</td>\n",
       "      <td>0.012543</td>\n",
       "      <td>0.023011</td>\n",
       "      <td>0.001134</td>\n",
       "      <td>-0.011172</td>\n",
       "      <td>0.239430</td>\n",
       "    </tr>\n",
       "    <tr>\n",
       "      <th>D10</th>\n",
       "      <td>0.171061</td>\n",
       "      <td>0.195202</td>\n",
       "      <td>0.540227</td>\n",
       "      <td>-0.274064</td>\n",
       "      <td>0.137192</td>\n",
       "      <td>0.831057</td>\n",
       "      <td>0.908151</td>\n",
       "      <td>0.809146</td>\n",
       "      <td>0.945893</td>\n",
       "      <td>0.052070</td>\n",
       "      <td>...</td>\n",
       "      <td>-0.018168</td>\n",
       "      <td>-0.008210</td>\n",
       "      <td>-0.012466</td>\n",
       "      <td>-0.007306</td>\n",
       "      <td>0.001318</td>\n",
       "      <td>0.015188</td>\n",
       "      <td>0.014453</td>\n",
       "      <td>0.002050</td>\n",
       "      <td>-0.014179</td>\n",
       "      <td>0.358431</td>\n",
       "    </tr>\n",
       "    <tr>\n",
       "      <th>D11</th>\n",
       "      <td>0.009012</td>\n",
       "      <td>-0.002012</td>\n",
       "      <td>0.024580</td>\n",
       "      <td>-0.007728</td>\n",
       "      <td>0.086936</td>\n",
       "      <td>0.009843</td>\n",
       "      <td>0.053998</td>\n",
       "      <td>0.070229</td>\n",
       "      <td>0.041271</td>\n",
       "      <td>0.033885</td>\n",
       "      <td>...</td>\n",
       "      <td>-0.003348</td>\n",
       "      <td>-0.003573</td>\n",
       "      <td>-0.003635</td>\n",
       "      <td>-0.001760</td>\n",
       "      <td>-0.002235</td>\n",
       "      <td>-0.000733</td>\n",
       "      <td>0.000815</td>\n",
       "      <td>0.010984</td>\n",
       "      <td>-0.003641</td>\n",
       "      <td>0.009521</td>\n",
       "    </tr>\n",
       "    <tr>\n",
       "      <th>D12</th>\n",
       "      <td>0.145460</td>\n",
       "      <td>0.178745</td>\n",
       "      <td>0.441457</td>\n",
       "      <td>-0.297334</td>\n",
       "      <td>0.051288</td>\n",
       "      <td>0.897947</td>\n",
       "      <td>0.729150</td>\n",
       "      <td>0.597679</td>\n",
       "      <td>0.872449</td>\n",
       "      <td>0.017155</td>\n",
       "      <td>...</td>\n",
       "      <td>-0.015654</td>\n",
       "      <td>-0.004504</td>\n",
       "      <td>-0.006969</td>\n",
       "      <td>-0.006467</td>\n",
       "      <td>0.003949</td>\n",
       "      <td>0.008405</td>\n",
       "      <td>0.008049</td>\n",
       "      <td>0.002988</td>\n",
       "      <td>-0.010527</td>\n",
       "      <td>0.342481</td>\n",
       "    </tr>\n",
       "    <tr>\n",
       "      <th>D13</th>\n",
       "      <td>0.157473</td>\n",
       "      <td>0.119221</td>\n",
       "      <td>0.496117</td>\n",
       "      <td>-0.223035</td>\n",
       "      <td>0.257301</td>\n",
       "      <td>0.713469</td>\n",
       "      <td>0.972926</td>\n",
       "      <td>0.925441</td>\n",
       "      <td>0.900356</td>\n",
       "      <td>0.107009</td>\n",
       "      <td>...</td>\n",
       "      <td>-0.015645</td>\n",
       "      <td>-0.004198</td>\n",
       "      <td>-0.009812</td>\n",
       "      <td>-0.004741</td>\n",
       "      <td>0.000622</td>\n",
       "      <td>0.010776</td>\n",
       "      <td>0.010363</td>\n",
       "      <td>0.002497</td>\n",
       "      <td>-0.010382</td>\n",
       "      <td>0.348406</td>\n",
       "    </tr>\n",
       "    <tr>\n",
       "      <th>D14</th>\n",
       "      <td>0.129660</td>\n",
       "      <td>0.075752</td>\n",
       "      <td>0.382328</td>\n",
       "      <td>-0.131352</td>\n",
       "      <td>0.375347</td>\n",
       "      <td>0.485726</td>\n",
       "      <td>0.771967</td>\n",
       "      <td>0.786963</td>\n",
       "      <td>0.629790</td>\n",
       "      <td>0.192025</td>\n",
       "      <td>...</td>\n",
       "      <td>-0.011857</td>\n",
       "      <td>-0.005919</td>\n",
       "      <td>-0.007466</td>\n",
       "      <td>-0.003877</td>\n",
       "      <td>0.000215</td>\n",
       "      <td>0.004826</td>\n",
       "      <td>0.005579</td>\n",
       "      <td>0.004607</td>\n",
       "      <td>-0.004307</td>\n",
       "      <td>0.274218</td>\n",
       "    </tr>\n",
       "    <tr>\n",
       "      <th>D15</th>\n",
       "      <td>0.159087</td>\n",
       "      <td>0.149748</td>\n",
       "      <td>0.505113</td>\n",
       "      <td>-0.263628</td>\n",
       "      <td>0.182077</td>\n",
       "      <td>0.823516</td>\n",
       "      <td>0.929354</td>\n",
       "      <td>0.828949</td>\n",
       "      <td>0.964090</td>\n",
       "      <td>0.074263</td>\n",
       "      <td>...</td>\n",
       "      <td>-0.016570</td>\n",
       "      <td>-0.007378</td>\n",
       "      <td>-0.010806</td>\n",
       "      <td>-0.007020</td>\n",
       "      <td>0.001233</td>\n",
       "      <td>0.012931</td>\n",
       "      <td>0.013360</td>\n",
       "      <td>0.003028</td>\n",
       "      <td>-0.013601</td>\n",
       "      <td>0.358830</td>\n",
       "    </tr>\n",
       "    <tr>\n",
       "      <th>D16</th>\n",
       "      <td>0.052577</td>\n",
       "      <td>-0.009018</td>\n",
       "      <td>0.121980</td>\n",
       "      <td>-0.023477</td>\n",
       "      <td>0.999611</td>\n",
       "      <td>0.066945</td>\n",
       "      <td>0.305929</td>\n",
       "      <td>0.365641</td>\n",
       "      <td>0.136985</td>\n",
       "      <td>0.823722</td>\n",
       "      <td>...</td>\n",
       "      <td>-0.003818</td>\n",
       "      <td>-0.009301</td>\n",
       "      <td>-0.004967</td>\n",
       "      <td>-0.008661</td>\n",
       "      <td>-0.005862</td>\n",
       "      <td>0.004087</td>\n",
       "      <td>0.013838</td>\n",
       "      <td>0.004515</td>\n",
       "      <td>-0.003854</td>\n",
       "      <td>0.057731</td>\n",
       "    </tr>\n",
       "    <tr>\n",
       "      <th>D17</th>\n",
       "      <td>0.160619</td>\n",
       "      <td>0.170740</td>\n",
       "      <td>0.488331</td>\n",
       "      <td>-0.313684</td>\n",
       "      <td>0.062078</td>\n",
       "      <td>0.994469</td>\n",
       "      <td>0.721552</td>\n",
       "      <td>0.591131</td>\n",
       "      <td>0.889536</td>\n",
       "      <td>0.034588</td>\n",
       "      <td>...</td>\n",
       "      <td>-0.011218</td>\n",
       "      <td>-0.008419</td>\n",
       "      <td>-0.009118</td>\n",
       "      <td>-0.009544</td>\n",
       "      <td>0.002524</td>\n",
       "      <td>0.009786</td>\n",
       "      <td>0.010136</td>\n",
       "      <td>0.004622</td>\n",
       "      <td>-0.009183</td>\n",
       "      <td>0.348344</td>\n",
       "    </tr>\n",
       "    <tr>\n",
       "      <th>D18</th>\n",
       "      <td>0.161243</td>\n",
       "      <td>0.157551</td>\n",
       "      <td>0.517719</td>\n",
       "      <td>-0.238154</td>\n",
       "      <td>0.306186</td>\n",
       "      <td>0.729803</td>\n",
       "      <td>0.999341</td>\n",
       "      <td>0.961333</td>\n",
       "      <td>0.912119</td>\n",
       "      <td>0.184723</td>\n",
       "      <td>...</td>\n",
       "      <td>-0.017140</td>\n",
       "      <td>-0.003809</td>\n",
       "      <td>-0.010936</td>\n",
       "      <td>-0.006064</td>\n",
       "      <td>0.000428</td>\n",
       "      <td>0.011747</td>\n",
       "      <td>0.011754</td>\n",
       "      <td>0.002568</td>\n",
       "      <td>-0.010276</td>\n",
       "      <td>0.355018</td>\n",
       "    </tr>\n",
       "    <tr>\n",
       "      <th>D19</th>\n",
       "      <td>0.142340</td>\n",
       "      <td>0.127488</td>\n",
       "      <td>0.466223</td>\n",
       "      <td>-0.196427</td>\n",
       "      <td>0.357352</td>\n",
       "      <td>0.596502</td>\n",
       "      <td>0.961327</td>\n",
       "      <td>0.998974</td>\n",
       "      <td>0.785775</td>\n",
       "      <td>0.225619</td>\n",
       "      <td>...</td>\n",
       "      <td>-0.016409</td>\n",
       "      <td>-0.001488</td>\n",
       "      <td>-0.009930</td>\n",
       "      <td>-0.004442</td>\n",
       "      <td>0.000012</td>\n",
       "      <td>0.010901</td>\n",
       "      <td>0.009514</td>\n",
       "      <td>0.001530</td>\n",
       "      <td>-0.008219</td>\n",
       "      <td>0.313179</td>\n",
       "    </tr>\n",
       "    <tr>\n",
       "      <th>D20</th>\n",
       "      <td>0.168960</td>\n",
       "      <td>0.178529</td>\n",
       "      <td>0.533245</td>\n",
       "      <td>-0.287896</td>\n",
       "      <td>0.128265</td>\n",
       "      <td>0.900131</td>\n",
       "      <td>0.906606</td>\n",
       "      <td>0.779578</td>\n",
       "      <td>0.997745</td>\n",
       "      <td>0.051981</td>\n",
       "      <td>...</td>\n",
       "      <td>-0.015907</td>\n",
       "      <td>-0.009152</td>\n",
       "      <td>-0.012198</td>\n",
       "      <td>-0.008934</td>\n",
       "      <td>0.001952</td>\n",
       "      <td>0.013167</td>\n",
       "      <td>0.014655</td>\n",
       "      <td>0.003730</td>\n",
       "      <td>-0.013350</td>\n",
       "      <td>0.369414</td>\n",
       "    </tr>\n",
       "    <tr>\n",
       "      <th>D21</th>\n",
       "      <td>-0.142135</td>\n",
       "      <td>-0.195975</td>\n",
       "      <td>-0.421572</td>\n",
       "      <td>0.295406</td>\n",
       "      <td>-0.029504</td>\n",
       "      <td>-0.857083</td>\n",
       "      <td>-0.704646</td>\n",
       "      <td>-0.573887</td>\n",
       "      <td>-0.842977</td>\n",
       "      <td>0.006528</td>\n",
       "      <td>...</td>\n",
       "      <td>0.015975</td>\n",
       "      <td>0.001316</td>\n",
       "      <td>0.005897</td>\n",
       "      <td>0.005183</td>\n",
       "      <td>-0.004250</td>\n",
       "      <td>-0.007459</td>\n",
       "      <td>-0.006302</td>\n",
       "      <td>-0.003355</td>\n",
       "      <td>0.010748</td>\n",
       "      <td>-0.331239</td>\n",
       "    </tr>\n",
       "    <tr>\n",
       "      <th>D22</th>\n",
       "      <td>0.158207</td>\n",
       "      <td>0.225673</td>\n",
       "      <td>0.492980</td>\n",
       "      <td>-0.290262</td>\n",
       "      <td>0.051023</td>\n",
       "      <td>0.877590</td>\n",
       "      <td>0.724418</td>\n",
       "      <td>0.603171</td>\n",
       "      <td>0.843326</td>\n",
       "      <td>0.030285</td>\n",
       "      <td>...</td>\n",
       "      <td>-0.014771</td>\n",
       "      <td>-0.004051</td>\n",
       "      <td>-0.009033</td>\n",
       "      <td>-0.004708</td>\n",
       "      <td>0.002356</td>\n",
       "      <td>0.011589</td>\n",
       "      <td>0.007801</td>\n",
       "      <td>0.003223</td>\n",
       "      <td>-0.011805</td>\n",
       "      <td>0.331620</td>\n",
       "    </tr>\n",
       "    <tr>\n",
       "      <th>D23</th>\n",
       "      <td>0.052464</td>\n",
       "      <td>0.093333</td>\n",
       "      <td>0.223006</td>\n",
       "      <td>-0.066467</td>\n",
       "      <td>0.425537</td>\n",
       "      <td>0.151530</td>\n",
       "      <td>0.310353</td>\n",
       "      <td>0.354915</td>\n",
       "      <td>0.207963</td>\n",
       "      <td>0.524049</td>\n",
       "      <td>...</td>\n",
       "      <td>-0.014890</td>\n",
       "      <td>-0.011243</td>\n",
       "      <td>-0.012796</td>\n",
       "      <td>-0.012481</td>\n",
       "      <td>-0.004307</td>\n",
       "      <td>0.012154</td>\n",
       "      <td>0.024747</td>\n",
       "      <td>-0.000198</td>\n",
       "      <td>-0.008582</td>\n",
       "      <td>0.082365</td>\n",
       "    </tr>\n",
       "    <tr>\n",
       "      <th>D24</th>\n",
       "      <td>-0.023174</td>\n",
       "      <td>-0.038753</td>\n",
       "      <td>-0.023074</td>\n",
       "      <td>0.050517</td>\n",
       "      <td>0.479826</td>\n",
       "      <td>-0.168798</td>\n",
       "      <td>-0.152274</td>\n",
       "      <td>-0.109027</td>\n",
       "      <td>-0.191427</td>\n",
       "      <td>0.616210</td>\n",
       "      <td>...</td>\n",
       "      <td>-0.003046</td>\n",
       "      <td>-0.005904</td>\n",
       "      <td>-0.005304</td>\n",
       "      <td>-0.008235</td>\n",
       "      <td>-0.006136</td>\n",
       "      <td>0.007504</td>\n",
       "      <td>0.018574</td>\n",
       "      <td>-0.001556</td>\n",
       "      <td>-0.005905</td>\n",
       "      <td>-0.096113</td>\n",
       "    </tr>\n",
       "    <tr>\n",
       "      <th>D25</th>\n",
       "      <td>0.167913</td>\n",
       "      <td>0.183445</td>\n",
       "      <td>0.535788</td>\n",
       "      <td>-0.272675</td>\n",
       "      <td>0.190073</td>\n",
       "      <td>0.819797</td>\n",
       "      <td>0.951518</td>\n",
       "      <td>0.865708</td>\n",
       "      <td>0.959710</td>\n",
       "      <td>0.081738</td>\n",
       "      <td>...</td>\n",
       "      <td>-0.018409</td>\n",
       "      <td>-0.006957</td>\n",
       "      <td>-0.011907</td>\n",
       "      <td>-0.006981</td>\n",
       "      <td>0.001691</td>\n",
       "      <td>0.014569</td>\n",
       "      <td>0.014341</td>\n",
       "      <td>0.001771</td>\n",
       "      <td>-0.014400</td>\n",
       "      <td>0.362361</td>\n",
       "    </tr>\n",
       "    <tr>\n",
       "      <th>Comment_before_time</th>\n",
       "      <td>0.101223</td>\n",
       "      <td>0.095417</td>\n",
       "      <td>0.322204</td>\n",
       "      <td>-0.146105</td>\n",
       "      <td>0.190399</td>\n",
       "      <td>0.452714</td>\n",
       "      <td>0.623417</td>\n",
       "      <td>0.600163</td>\n",
       "      <td>0.568436</td>\n",
       "      <td>0.112130</td>\n",
       "      <td>...</td>\n",
       "      <td>-0.015810</td>\n",
       "      <td>-0.011395</td>\n",
       "      <td>-0.009983</td>\n",
       "      <td>-0.005328</td>\n",
       "      <td>-0.000014</td>\n",
       "      <td>0.007145</td>\n",
       "      <td>0.005849</td>\n",
       "      <td>0.008996</td>\n",
       "      <td>-0.007211</td>\n",
       "      <td>0.303110</td>\n",
       "    </tr>\n",
       "    <tr>\n",
       "      <th>Comment_in_last_24_hrs</th>\n",
       "      <td>0.075108</td>\n",
       "      <td>0.067654</td>\n",
       "      <td>0.248244</td>\n",
       "      <td>-0.104801</td>\n",
       "      <td>0.191111</td>\n",
       "      <td>0.322954</td>\n",
       "      <td>0.461272</td>\n",
       "      <td>0.450775</td>\n",
       "      <td>0.410918</td>\n",
       "      <td>0.149331</td>\n",
       "      <td>...</td>\n",
       "      <td>-0.010820</td>\n",
       "      <td>-0.012043</td>\n",
       "      <td>-0.010489</td>\n",
       "      <td>-0.004881</td>\n",
       "      <td>0.002808</td>\n",
       "      <td>0.009949</td>\n",
       "      <td>0.013124</td>\n",
       "      <td>0.000548</td>\n",
       "      <td>-0.011799</td>\n",
       "      <td>0.296418</td>\n",
       "    </tr>\n",
       "    <tr>\n",
       "      <th>Comment_in_24_to_48_hrs</th>\n",
       "      <td>0.067785</td>\n",
       "      <td>0.051319</td>\n",
       "      <td>0.213556</td>\n",
       "      <td>-0.096007</td>\n",
       "      <td>0.110756</td>\n",
       "      <td>0.307116</td>\n",
       "      <td>0.418801</td>\n",
       "      <td>0.398361</td>\n",
       "      <td>0.387563</td>\n",
       "      <td>0.046062</td>\n",
       "      <td>...</td>\n",
       "      <td>-0.011854</td>\n",
       "      <td>-0.010034</td>\n",
       "      <td>-0.012889</td>\n",
       "      <td>-0.006748</td>\n",
       "      <td>-0.002963</td>\n",
       "      <td>0.001251</td>\n",
       "      <td>0.004984</td>\n",
       "      <td>0.016513</td>\n",
       "      <td>-0.000734</td>\n",
       "      <td>0.201801</td>\n",
       "    </tr>\n",
       "    <tr>\n",
       "      <th>Comment_in_24_hrs_after_publication_before_base_date/time</th>\n",
       "      <td>0.100926</td>\n",
       "      <td>0.098615</td>\n",
       "      <td>0.324053</td>\n",
       "      <td>-0.149066</td>\n",
       "      <td>0.191649</td>\n",
       "      <td>0.456801</td>\n",
       "      <td>0.625511</td>\n",
       "      <td>0.601721</td>\n",
       "      <td>0.570917</td>\n",
       "      <td>0.115623</td>\n",
       "      <td>...</td>\n",
       "      <td>-0.015837</td>\n",
       "      <td>-0.011860</td>\n",
       "      <td>-0.010137</td>\n",
       "      <td>-0.005313</td>\n",
       "      <td>-0.000067</td>\n",
       "      <td>0.007909</td>\n",
       "      <td>0.005979</td>\n",
       "      <td>0.008459</td>\n",
       "      <td>-0.007385</td>\n",
       "      <td>0.306703</td>\n",
       "    </tr>\n",
       "    <tr>\n",
       "      <th>Difference_between_CC2_and_CC3</th>\n",
       "      <td>0.008474</td>\n",
       "      <td>0.015075</td>\n",
       "      <td>0.036020</td>\n",
       "      <td>-0.010736</td>\n",
       "      <td>0.068733</td>\n",
       "      <td>0.024475</td>\n",
       "      <td>0.050128</td>\n",
       "      <td>0.057326</td>\n",
       "      <td>0.033590</td>\n",
       "      <td>0.084645</td>\n",
       "      <td>...</td>\n",
       "      <td>0.000375</td>\n",
       "      <td>-0.001997</td>\n",
       "      <td>0.001432</td>\n",
       "      <td>0.001240</td>\n",
       "      <td>0.004518</td>\n",
       "      <td>0.007029</td>\n",
       "      <td>0.006724</td>\n",
       "      <td>-0.012180</td>\n",
       "      <td>-0.008909</td>\n",
       "      <td>0.083667</td>\n",
       "    </tr>\n",
       "    <tr>\n",
       "      <th>Selected_time_to_simulate_scenario</th>\n",
       "      <td>-0.005074</td>\n",
       "      <td>-0.007887</td>\n",
       "      <td>-0.024463</td>\n",
       "      <td>0.005147</td>\n",
       "      <td>-0.008044</td>\n",
       "      <td>-0.011676</td>\n",
       "      <td>-0.013268</td>\n",
       "      <td>-0.010821</td>\n",
       "      <td>-0.016297</td>\n",
       "      <td>-0.010847</td>\n",
       "      <td>...</td>\n",
       "      <td>0.014903</td>\n",
       "      <td>0.011445</td>\n",
       "      <td>0.031163</td>\n",
       "      <td>0.024303</td>\n",
       "      <td>-0.020276</td>\n",
       "      <td>-0.031624</td>\n",
       "      <td>-0.011359</td>\n",
       "      <td>0.001659</td>\n",
       "      <td>0.007378</td>\n",
       "      <td>-0.401228</td>\n",
       "    </tr>\n",
       "    <tr>\n",
       "      <th>Post_Length</th>\n",
       "      <td>-0.003545</td>\n",
       "      <td>-0.005179</td>\n",
       "      <td>-0.011343</td>\n",
       "      <td>0.037157</td>\n",
       "      <td>-0.008529</td>\n",
       "      <td>0.004572</td>\n",
       "      <td>-0.002327</td>\n",
       "      <td>-0.010791</td>\n",
       "      <td>0.006636</td>\n",
       "      <td>-0.004084</td>\n",
       "      <td>...</td>\n",
       "      <td>0.001778</td>\n",
       "      <td>0.005688</td>\n",
       "      <td>0.001010</td>\n",
       "      <td>0.003373</td>\n",
       "      <td>-0.007377</td>\n",
       "      <td>-0.004523</td>\n",
       "      <td>0.003565</td>\n",
       "      <td>0.001780</td>\n",
       "      <td>0.002084</td>\n",
       "      <td>0.010290</td>\n",
       "    </tr>\n",
       "    <tr>\n",
       "      <th>Post_Share_Count</th>\n",
       "      <td>0.331511</td>\n",
       "      <td>0.053145</td>\n",
       "      <td>0.444926</td>\n",
       "      <td>-0.028347</td>\n",
       "      <td>0.037572</td>\n",
       "      <td>0.129418</td>\n",
       "      <td>0.148064</td>\n",
       "      <td>0.134522</td>\n",
       "      <td>0.147804</td>\n",
       "      <td>0.025388</td>\n",
       "      <td>...</td>\n",
       "      <td>-0.005526</td>\n",
       "      <td>-0.007180</td>\n",
       "      <td>-0.002644</td>\n",
       "      <td>-0.000697</td>\n",
       "      <td>-0.000044</td>\n",
       "      <td>-0.001338</td>\n",
       "      <td>-0.002050</td>\n",
       "      <td>0.001768</td>\n",
       "      <td>0.005061</td>\n",
       "      <td>0.080693</td>\n",
       "    </tr>\n",
       "    <tr>\n",
       "      <th>Post_promotion_status</th>\n",
       "      <td>NaN</td>\n",
       "      <td>NaN</td>\n",
       "      <td>NaN</td>\n",
       "      <td>NaN</td>\n",
       "      <td>NaN</td>\n",
       "      <td>NaN</td>\n",
       "      <td>NaN</td>\n",
       "      <td>NaN</td>\n",
       "      <td>NaN</td>\n",
       "      <td>NaN</td>\n",
       "      <td>...</td>\n",
       "      <td>NaN</td>\n",
       "      <td>NaN</td>\n",
       "      <td>NaN</td>\n",
       "      <td>NaN</td>\n",
       "      <td>NaN</td>\n",
       "      <td>NaN</td>\n",
       "      <td>NaN</td>\n",
       "      <td>NaN</td>\n",
       "      <td>NaN</td>\n",
       "      <td>NaN</td>\n",
       "    </tr>\n",
       "    <tr>\n",
       "      <th>H_hrs</th>\n",
       "      <td>-0.023940</td>\n",
       "      <td>-0.012199</td>\n",
       "      <td>-0.117702</td>\n",
       "      <td>0.015788</td>\n",
       "      <td>-0.047221</td>\n",
       "      <td>-0.061280</td>\n",
       "      <td>-0.072127</td>\n",
       "      <td>-0.064477</td>\n",
       "      <td>-0.081367</td>\n",
       "      <td>-0.019780</td>\n",
       "      <td>...</td>\n",
       "      <td>0.050491</td>\n",
       "      <td>0.048615</td>\n",
       "      <td>0.049454</td>\n",
       "      <td>0.047881</td>\n",
       "      <td>0.048915</td>\n",
       "      <td>0.050354</td>\n",
       "      <td>-0.094338</td>\n",
       "      <td>-0.145551</td>\n",
       "      <td>0.049542</td>\n",
       "      <td>0.014998</td>\n",
       "    </tr>\n",
       "    <tr>\n",
       "      <th>Published_on_Sunday</th>\n",
       "      <td>-0.004063</td>\n",
       "      <td>-0.005196</td>\n",
       "      <td>0.007643</td>\n",
       "      <td>-0.007240</td>\n",
       "      <td>-0.006167</td>\n",
       "      <td>0.008899</td>\n",
       "      <td>0.005376</td>\n",
       "      <td>0.003522</td>\n",
       "      <td>0.007697</td>\n",
       "      <td>-0.004551</td>\n",
       "      <td>...</td>\n",
       "      <td>-0.154478</td>\n",
       "      <td>-0.148739</td>\n",
       "      <td>0.005035</td>\n",
       "      <td>0.210251</td>\n",
       "      <td>0.205818</td>\n",
       "      <td>0.058400</td>\n",
       "      <td>-0.160025</td>\n",
       "      <td>-0.153762</td>\n",
       "      <td>-0.151574</td>\n",
       "      <td>0.000485</td>\n",
       "    </tr>\n",
       "    <tr>\n",
       "      <th>Published_on_Monday</th>\n",
       "      <td>0.000900</td>\n",
       "      <td>-0.005930</td>\n",
       "      <td>-0.002967</td>\n",
       "      <td>-0.004768</td>\n",
       "      <td>-0.007067</td>\n",
       "      <td>-0.005966</td>\n",
       "      <td>-0.002319</td>\n",
       "      <td>-0.000808</td>\n",
       "      <td>-0.004274</td>\n",
       "      <td>-0.004359</td>\n",
       "      <td>...</td>\n",
       "      <td>-0.169183</td>\n",
       "      <td>-0.162897</td>\n",
       "      <td>-0.165708</td>\n",
       "      <td>0.006714</td>\n",
       "      <td>0.235583</td>\n",
       "      <td>0.207921</td>\n",
       "      <td>0.049378</td>\n",
       "      <td>-0.168399</td>\n",
       "      <td>-0.166003</td>\n",
       "      <td>-0.002402</td>\n",
       "    </tr>\n",
       "    <tr>\n",
       "      <th>Published_on_Tuesday</th>\n",
       "      <td>0.010134</td>\n",
       "      <td>0.002697</td>\n",
       "      <td>0.013232</td>\n",
       "      <td>0.004668</td>\n",
       "      <td>0.008576</td>\n",
       "      <td>0.003849</td>\n",
       "      <td>0.006790</td>\n",
       "      <td>0.007338</td>\n",
       "      <td>0.006401</td>\n",
       "      <td>0.006257</td>\n",
       "      <td>...</td>\n",
       "      <td>-0.173659</td>\n",
       "      <td>-0.167207</td>\n",
       "      <td>-0.170093</td>\n",
       "      <td>-0.164684</td>\n",
       "      <td>0.012581</td>\n",
       "      <td>0.226378</td>\n",
       "      <td>0.203482</td>\n",
       "      <td>0.047561</td>\n",
       "      <td>-0.170395</td>\n",
       "      <td>0.000700</td>\n",
       "    </tr>\n",
       "    <tr>\n",
       "      <th>Published_on_Wed</th>\n",
       "      <td>0.001868</td>\n",
       "      <td>0.003089</td>\n",
       "      <td>0.033244</td>\n",
       "      <td>-0.003605</td>\n",
       "      <td>0.011775</td>\n",
       "      <td>0.013330</td>\n",
       "      <td>0.013722</td>\n",
       "      <td>0.010435</td>\n",
       "      <td>0.019828</td>\n",
       "      <td>0.002985</td>\n",
       "      <td>...</td>\n",
       "      <td>-0.178762</td>\n",
       "      <td>-0.172120</td>\n",
       "      <td>-0.175090</td>\n",
       "      <td>-0.169523</td>\n",
       "      <td>-0.173184</td>\n",
       "      <td>0.009682</td>\n",
       "      <td>0.243754</td>\n",
       "      <td>0.208669</td>\n",
       "      <td>0.038010</td>\n",
       "      <td>0.011284</td>\n",
       "    </tr>\n",
       "    <tr>\n",
       "      <th>Published_on_Thurs</th>\n",
       "      <td>-0.003133</td>\n",
       "      <td>0.003923</td>\n",
       "      <td>-0.016936</td>\n",
       "      <td>0.009763</td>\n",
       "      <td>0.004967</td>\n",
       "      <td>-0.000137</td>\n",
       "      <td>-0.002813</td>\n",
       "      <td>-0.002680</td>\n",
       "      <td>-0.004824</td>\n",
       "      <td>0.008809</td>\n",
       "      <td>...</td>\n",
       "      <td>-0.169801</td>\n",
       "      <td>-0.163492</td>\n",
       "      <td>0.068665</td>\n",
       "      <td>-0.161026</td>\n",
       "      <td>-0.164503</td>\n",
       "      <td>-0.169341</td>\n",
       "      <td>-0.013927</td>\n",
       "      <td>0.213831</td>\n",
       "      <td>0.221276</td>\n",
       "      <td>0.001932</td>\n",
       "    </tr>\n",
       "    <tr>\n",
       "      <th>Published_on_Friday</th>\n",
       "      <td>-0.009585</td>\n",
       "      <td>-0.006497</td>\n",
       "      <td>-0.027447</td>\n",
       "      <td>0.002661</td>\n",
       "      <td>-0.003888</td>\n",
       "      <td>-0.011072</td>\n",
       "      <td>-0.016886</td>\n",
       "      <td>-0.016075</td>\n",
       "      <td>-0.015612</td>\n",
       "      <td>-0.004549</td>\n",
       "      <td>...</td>\n",
       "      <td>1.000000</td>\n",
       "      <td>-0.164810</td>\n",
       "      <td>0.235421</td>\n",
       "      <td>0.078399</td>\n",
       "      <td>-0.165829</td>\n",
       "      <td>-0.170706</td>\n",
       "      <td>-0.177317</td>\n",
       "      <td>-0.006441</td>\n",
       "      <td>0.216131</td>\n",
       "      <td>-0.006993</td>\n",
       "    </tr>\n",
       "    <tr>\n",
       "      <th>Published_on_Sat</th>\n",
       "      <td>0.003508</td>\n",
       "      <td>0.007592</td>\n",
       "      <td>-0.007698</td>\n",
       "      <td>-0.001977</td>\n",
       "      <td>-0.009372</td>\n",
       "      <td>-0.008998</td>\n",
       "      <td>-0.004117</td>\n",
       "      <td>-0.001945</td>\n",
       "      <td>-0.009654</td>\n",
       "      <td>-0.005203</td>\n",
       "      <td>...</td>\n",
       "      <td>-0.164810</td>\n",
       "      <td>1.000000</td>\n",
       "      <td>0.213998</td>\n",
       "      <td>0.227195</td>\n",
       "      <td>0.072570</td>\n",
       "      <td>-0.164363</td>\n",
       "      <td>-0.170729</td>\n",
       "      <td>-0.164046</td>\n",
       "      <td>0.002102</td>\n",
       "      <td>-0.005479</td>\n",
       "    </tr>\n",
       "    <tr>\n",
       "      <th>Sunday</th>\n",
       "      <td>-0.006410</td>\n",
       "      <td>-0.003616</td>\n",
       "      <td>-0.021363</td>\n",
       "      <td>-0.000914</td>\n",
       "      <td>-0.005051</td>\n",
       "      <td>-0.009643</td>\n",
       "      <td>-0.010903</td>\n",
       "      <td>-0.009832</td>\n",
       "      <td>-0.012360</td>\n",
       "      <td>-0.004912</td>\n",
       "      <td>...</td>\n",
       "      <td>0.235421</td>\n",
       "      <td>0.213998</td>\n",
       "      <td>1.000000</td>\n",
       "      <td>-0.158990</td>\n",
       "      <td>-0.162423</td>\n",
       "      <td>-0.167200</td>\n",
       "      <td>-0.173675</td>\n",
       "      <td>-0.166877</td>\n",
       "      <td>-0.164503</td>\n",
       "      <td>-0.009504</td>\n",
       "    </tr>\n",
       "    <tr>\n",
       "      <th>Monday</th>\n",
       "      <td>-0.004281</td>\n",
       "      <td>-0.004903</td>\n",
       "      <td>-0.005943</td>\n",
       "      <td>0.000579</td>\n",
       "      <td>-0.008610</td>\n",
       "      <td>-0.009593</td>\n",
       "      <td>-0.006183</td>\n",
       "      <td>-0.004683</td>\n",
       "      <td>-0.009272</td>\n",
       "      <td>-0.005185</td>\n",
       "      <td>...</td>\n",
       "      <td>0.078399</td>\n",
       "      <td>0.227195</td>\n",
       "      <td>-0.158990</td>\n",
       "      <td>1.000000</td>\n",
       "      <td>-0.157259</td>\n",
       "      <td>-0.161884</td>\n",
       "      <td>-0.168153</td>\n",
       "      <td>-0.161571</td>\n",
       "      <td>-0.159272</td>\n",
       "      <td>-0.013550</td>\n",
       "    </tr>\n",
       "    <tr>\n",
       "      <th>Tuesday</th>\n",
       "      <td>-0.001866</td>\n",
       "      <td>-0.004674</td>\n",
       "      <td>0.000210</td>\n",
       "      <td>-0.003538</td>\n",
       "      <td>-0.005983</td>\n",
       "      <td>0.001484</td>\n",
       "      <td>0.000277</td>\n",
       "      <td>-0.000305</td>\n",
       "      <td>0.001318</td>\n",
       "      <td>-0.001364</td>\n",
       "      <td>...</td>\n",
       "      <td>-0.165829</td>\n",
       "      <td>0.072570</td>\n",
       "      <td>-0.162423</td>\n",
       "      <td>-0.157259</td>\n",
       "      <td>1.000000</td>\n",
       "      <td>-0.165380</td>\n",
       "      <td>-0.171784</td>\n",
       "      <td>-0.165060</td>\n",
       "      <td>-0.162712</td>\n",
       "      <td>0.007363</td>\n",
       "    </tr>\n",
       "    <tr>\n",
       "      <th>Wednesday</th>\n",
       "      <td>0.012786</td>\n",
       "      <td>0.004337</td>\n",
       "      <td>0.024554</td>\n",
       "      <td>-0.003273</td>\n",
       "      <td>0.004060</td>\n",
       "      <td>0.010099</td>\n",
       "      <td>0.011781</td>\n",
       "      <td>0.010966</td>\n",
       "      <td>0.013502</td>\n",
       "      <td>-0.000160</td>\n",
       "      <td>...</td>\n",
       "      <td>-0.170706</td>\n",
       "      <td>-0.164363</td>\n",
       "      <td>-0.167200</td>\n",
       "      <td>-0.161884</td>\n",
       "      <td>-0.165380</td>\n",
       "      <td>1.000000</td>\n",
       "      <td>-0.176836</td>\n",
       "      <td>-0.169915</td>\n",
       "      <td>-0.167497</td>\n",
       "      <td>0.012960</td>\n",
       "    </tr>\n",
       "    <tr>\n",
       "      <th>Thursday</th>\n",
       "      <td>-0.002421</td>\n",
       "      <td>-0.001336</td>\n",
       "      <td>0.020660</td>\n",
       "      <td>0.002504</td>\n",
       "      <td>0.013692</td>\n",
       "      <td>0.011145</td>\n",
       "      <td>0.011689</td>\n",
       "      <td>0.009558</td>\n",
       "      <td>0.015062</td>\n",
       "      <td>0.006364</td>\n",
       "      <td>...</td>\n",
       "      <td>-0.177317</td>\n",
       "      <td>-0.170729</td>\n",
       "      <td>-0.173675</td>\n",
       "      <td>-0.168153</td>\n",
       "      <td>-0.171784</td>\n",
       "      <td>-0.176836</td>\n",
       "      <td>1.000000</td>\n",
       "      <td>-0.176495</td>\n",
       "      <td>-0.173983</td>\n",
       "      <td>0.006538</td>\n",
       "    </tr>\n",
       "    <tr>\n",
       "      <th>Friday</th>\n",
       "      <td>0.000066</td>\n",
       "      <td>0.006868</td>\n",
       "      <td>-0.002727</td>\n",
       "      <td>0.000054</td>\n",
       "      <td>0.004484</td>\n",
       "      <td>0.004505</td>\n",
       "      <td>0.002632</td>\n",
       "      <td>0.001663</td>\n",
       "      <td>0.003824</td>\n",
       "      <td>0.008548</td>\n",
       "      <td>...</td>\n",
       "      <td>-0.006441</td>\n",
       "      <td>-0.164046</td>\n",
       "      <td>-0.166877</td>\n",
       "      <td>-0.161571</td>\n",
       "      <td>-0.165060</td>\n",
       "      <td>-0.169915</td>\n",
       "      <td>-0.176495</td>\n",
       "      <td>1.000000</td>\n",
       "      <td>-0.167174</td>\n",
       "      <td>-0.004772</td>\n",
       "    </tr>\n",
       "    <tr>\n",
       "      <th>Saturday</th>\n",
       "      <td>0.001942</td>\n",
       "      <td>0.003088</td>\n",
       "      <td>-0.016624</td>\n",
       "      <td>0.004509</td>\n",
       "      <td>-0.003490</td>\n",
       "      <td>-0.008828</td>\n",
       "      <td>-0.010076</td>\n",
       "      <td>-0.008013</td>\n",
       "      <td>-0.013086</td>\n",
       "      <td>-0.003769</td>\n",
       "      <td>...</td>\n",
       "      <td>0.216131</td>\n",
       "      <td>0.002102</td>\n",
       "      <td>-0.164503</td>\n",
       "      <td>-0.159272</td>\n",
       "      <td>-0.162712</td>\n",
       "      <td>-0.167497</td>\n",
       "      <td>-0.173983</td>\n",
       "      <td>-0.167174</td>\n",
       "      <td>1.000000</td>\n",
       "      <td>0.000332</td>\n",
       "    </tr>\n",
       "    <tr>\n",
       "      <th>Comments_in_Next_H_Hrs</th>\n",
       "      <td>0.074498</td>\n",
       "      <td>0.062850</td>\n",
       "      <td>0.192206</td>\n",
       "      <td>-0.141774</td>\n",
       "      <td>0.057842</td>\n",
       "      <td>0.349246</td>\n",
       "      <td>0.354835</td>\n",
       "      <td>0.315828</td>\n",
       "      <td>0.369427</td>\n",
       "      <td>0.019933</td>\n",
       "      <td>...</td>\n",
       "      <td>-0.006993</td>\n",
       "      <td>-0.005479</td>\n",
       "      <td>-0.009504</td>\n",
       "      <td>-0.013550</td>\n",
       "      <td>0.007363</td>\n",
       "      <td>0.012960</td>\n",
       "      <td>0.006538</td>\n",
       "      <td>-0.004772</td>\n",
       "      <td>0.000332</td>\n",
       "      <td>1.000000</td>\n",
       "    </tr>\n",
       "  </tbody>\n",
       "</table>\n",
       "<p>54 rows × 54 columns</p>\n",
       "</div>"
      ],
      "text/plain": [
       "                                                    Page_Likes  Page_Checkins  \\\n",
       "Page_Likes                                            1.000000       0.044807   \n",
       "Page_Checkins                                         0.044807       1.000000   \n",
       "Page_visit_after_like                                 0.623889       0.167161   \n",
       "Page_category                                        -0.042031      -0.060186   \n",
       "D1                                                    0.052409      -0.009078   \n",
       "D2                                                    0.157068       0.163089   \n",
       "D3                                                    0.162368       0.153054   \n",
       "D4                                                    0.145416       0.125221   \n",
       "D5                                                    0.168368       0.171057   \n",
       "D6                                                    0.025198      -0.002852   \n",
       "D7                                                    0.157473       0.220264   \n",
       "D8                                                    0.157503       0.141870   \n",
       "D9                                                    0.125590       0.057488   \n",
       "D10                                                   0.171061       0.195202   \n",
       "D11                                                   0.009012      -0.002012   \n",
       "D12                                                   0.145460       0.178745   \n",
       "D13                                                   0.157473       0.119221   \n",
       "D14                                                   0.129660       0.075752   \n",
       "D15                                                   0.159087       0.149748   \n",
       "D16                                                   0.052577      -0.009018   \n",
       "D17                                                   0.160619       0.170740   \n",
       "D18                                                   0.161243       0.157551   \n",
       "D19                                                   0.142340       0.127488   \n",
       "D20                                                   0.168960       0.178529   \n",
       "D21                                                  -0.142135      -0.195975   \n",
       "D22                                                   0.158207       0.225673   \n",
       "D23                                                   0.052464       0.093333   \n",
       "D24                                                  -0.023174      -0.038753   \n",
       "D25                                                   0.167913       0.183445   \n",
       "Comment_before_time                                   0.101223       0.095417   \n",
       "Comment_in_last_24_hrs                                0.075108       0.067654   \n",
       "Comment_in_24_to_48_hrs                               0.067785       0.051319   \n",
       "Comment_in_24_hrs_after_publication_before_base...    0.100926       0.098615   \n",
       "Difference_between_CC2_and_CC3                        0.008474       0.015075   \n",
       "Selected_time_to_simulate_scenario                   -0.005074      -0.007887   \n",
       "Post_Length                                          -0.003545      -0.005179   \n",
       "Post_Share_Count                                      0.331511       0.053145   \n",
       "Post_promotion_status                                      NaN            NaN   \n",
       "H_hrs                                                -0.023940      -0.012199   \n",
       "Published_on_Sunday                                  -0.004063      -0.005196   \n",
       "Published_on_Monday                                   0.000900      -0.005930   \n",
       "Published_on_Tuesday                                  0.010134       0.002697   \n",
       "Published_on_Wed                                      0.001868       0.003089   \n",
       "Published_on_Thurs                                   -0.003133       0.003923   \n",
       "Published_on_Friday                                  -0.009585      -0.006497   \n",
       "Published_on_Sat                                      0.003508       0.007592   \n",
       "Sunday                                               -0.006410      -0.003616   \n",
       "Monday                                               -0.004281      -0.004903   \n",
       "Tuesday                                              -0.001866      -0.004674   \n",
       "Wednesday                                             0.012786       0.004337   \n",
       "Thursday                                             -0.002421      -0.001336   \n",
       "Friday                                                0.000066       0.006868   \n",
       "Saturday                                              0.001942       0.003088   \n",
       "Comments_in_Next_H_Hrs                                0.074498       0.062850   \n",
       "\n",
       "                                                    Page_visit_after_like  \\\n",
       "Page_Likes                                                       0.623889   \n",
       "Page_Checkins                                                    0.167161   \n",
       "Page_visit_after_like                                            1.000000   \n",
       "Page_category                                                   -0.148501   \n",
       "D1                                                               0.121792   \n",
       "D2                                                               0.492399   \n",
       "D3                                                               0.516836   \n",
       "D4                                                               0.467845   \n",
       "D5                                                               0.533483   \n",
       "D6                                                               0.078098   \n",
       "D7                                                               0.489851   \n",
       "D8                                                               0.520569   \n",
       "D9                                                               0.417136   \n",
       "D10                                                              0.540227   \n",
       "D11                                                              0.024580   \n",
       "D12                                                              0.441457   \n",
       "D13                                                              0.496117   \n",
       "D14                                                              0.382328   \n",
       "D15                                                              0.505113   \n",
       "D16                                                              0.121980   \n",
       "D17                                                              0.488331   \n",
       "D18                                                              0.517719   \n",
       "D19                                                              0.466223   \n",
       "D20                                                              0.533245   \n",
       "D21                                                             -0.421572   \n",
       "D22                                                              0.492980   \n",
       "D23                                                              0.223006   \n",
       "D24                                                             -0.023074   \n",
       "D25                                                              0.535788   \n",
       "Comment_before_time                                              0.322204   \n",
       "Comment_in_last_24_hrs                                           0.248244   \n",
       "Comment_in_24_to_48_hrs                                          0.213556   \n",
       "Comment_in_24_hrs_after_publication_before_base...               0.324053   \n",
       "Difference_between_CC2_and_CC3                                   0.036020   \n",
       "Selected_time_to_simulate_scenario                              -0.024463   \n",
       "Post_Length                                                     -0.011343   \n",
       "Post_Share_Count                                                 0.444926   \n",
       "Post_promotion_status                                                 NaN   \n",
       "H_hrs                                                           -0.117702   \n",
       "Published_on_Sunday                                              0.007643   \n",
       "Published_on_Monday                                             -0.002967   \n",
       "Published_on_Tuesday                                             0.013232   \n",
       "Published_on_Wed                                                 0.033244   \n",
       "Published_on_Thurs                                              -0.016936   \n",
       "Published_on_Friday                                             -0.027447   \n",
       "Published_on_Sat                                                -0.007698   \n",
       "Sunday                                                          -0.021363   \n",
       "Monday                                                          -0.005943   \n",
       "Tuesday                                                          0.000210   \n",
       "Wednesday                                                        0.024554   \n",
       "Thursday                                                         0.020660   \n",
       "Friday                                                          -0.002727   \n",
       "Saturday                                                        -0.016624   \n",
       "Comments_in_Next_H_Hrs                                           0.192206   \n",
       "\n",
       "                                                    Page_category        D1  \\\n",
       "Page_Likes                                              -0.042031  0.052409   \n",
       "Page_Checkins                                           -0.060186 -0.009078   \n",
       "Page_visit_after_like                                   -0.148501  0.121792   \n",
       "Page_category                                            1.000000 -0.023687   \n",
       "D1                                                      -0.023687  1.000000   \n",
       "D2                                                      -0.314895  0.066643   \n",
       "D3                                                      -0.234362  0.305412   \n",
       "D4                                                      -0.195815  0.365101   \n",
       "D5                                                      -0.283879  0.136530   \n",
       "D6                                                      -0.010510  0.819893   \n",
       "D7                                                      -0.292118  0.053004   \n",
       "D8                                                      -0.219768  0.400761   \n",
       "D9                                                      -0.133234  0.609010   \n",
       "D10                                                     -0.274064  0.137192   \n",
       "D11                                                     -0.007728  0.086936   \n",
       "D12                                                     -0.297334  0.051288   \n",
       "D13                                                     -0.223035  0.257301   \n",
       "D14                                                     -0.131352  0.375347   \n",
       "D15                                                     -0.263628  0.182077   \n",
       "D16                                                     -0.023477  0.999611   \n",
       "D17                                                     -0.313684  0.062078   \n",
       "D18                                                     -0.238154  0.306186   \n",
       "D19                                                     -0.196427  0.357352   \n",
       "D20                                                     -0.287896  0.128265   \n",
       "D21                                                      0.295406 -0.029504   \n",
       "D22                                                     -0.290262  0.051023   \n",
       "D23                                                     -0.066467  0.425537   \n",
       "D24                                                      0.050517  0.479826   \n",
       "D25                                                     -0.272675  0.190073   \n",
       "Comment_before_time                                     -0.146105  0.190399   \n",
       "Comment_in_last_24_hrs                                  -0.104801  0.191111   \n",
       "Comment_in_24_to_48_hrs                                 -0.096007  0.110756   \n",
       "Comment_in_24_hrs_after_publication_before_base...      -0.149066  0.191649   \n",
       "Difference_between_CC2_and_CC3                          -0.010736  0.068733   \n",
       "Selected_time_to_simulate_scenario                       0.005147 -0.008044   \n",
       "Post_Length                                              0.037157 -0.008529   \n",
       "Post_Share_Count                                        -0.028347  0.037572   \n",
       "Post_promotion_status                                         NaN       NaN   \n",
       "H_hrs                                                    0.015788 -0.047221   \n",
       "Published_on_Sunday                                     -0.007240 -0.006167   \n",
       "Published_on_Monday                                     -0.004768 -0.007067   \n",
       "Published_on_Tuesday                                     0.004668  0.008576   \n",
       "Published_on_Wed                                        -0.003605  0.011775   \n",
       "Published_on_Thurs                                       0.009763  0.004967   \n",
       "Published_on_Friday                                      0.002661 -0.003888   \n",
       "Published_on_Sat                                        -0.001977 -0.009372   \n",
       "Sunday                                                  -0.000914 -0.005051   \n",
       "Monday                                                   0.000579 -0.008610   \n",
       "Tuesday                                                 -0.003538 -0.005983   \n",
       "Wednesday                                               -0.003273  0.004060   \n",
       "Thursday                                                 0.002504  0.013692   \n",
       "Friday                                                   0.000054  0.004484   \n",
       "Saturday                                                 0.004509 -0.003490   \n",
       "Comments_in_Next_H_Hrs                                  -0.141774  0.057842   \n",
       "\n",
       "                                                          D2        D3  \\\n",
       "Page_Likes                                          0.157068  0.162368   \n",
       "Page_Checkins                                       0.163089  0.153054   \n",
       "Page_visit_after_like                               0.492399  0.516836   \n",
       "Page_category                                      -0.314895 -0.234362   \n",
       "D1                                                  0.066643  0.305412   \n",
       "D2                                                  1.000000  0.726182   \n",
       "D3                                                  0.726182  1.000000   \n",
       "D4                                                  0.596602  0.962699   \n",
       "D5                                                  0.896847  0.911807   \n",
       "D6                                                  0.035629  0.179864   \n",
       "D7                                                  0.892523  0.725491   \n",
       "D8                                                  0.677236  0.967289   \n",
       "D9                                                  0.438529  0.800977   \n",
       "D10                                                 0.831057  0.908151   \n",
       "D11                                                 0.009843  0.053998   \n",
       "D12                                                 0.897947  0.729150   \n",
       "D13                                                 0.713469  0.972926   \n",
       "D14                                                 0.485726  0.771967   \n",
       "D15                                                 0.823516  0.929354   \n",
       "D16                                                 0.066945  0.305929   \n",
       "D17                                                 0.994469  0.721552   \n",
       "D18                                                 0.729803  0.999341   \n",
       "D19                                                 0.596502  0.961327   \n",
       "D20                                                 0.900131  0.906606   \n",
       "D21                                                -0.857083 -0.704646   \n",
       "D22                                                 0.877590  0.724418   \n",
       "D23                                                 0.151530  0.310353   \n",
       "D24                                                -0.168798 -0.152274   \n",
       "D25                                                 0.819797  0.951518   \n",
       "Comment_before_time                                 0.452714  0.623417   \n",
       "Comment_in_last_24_hrs                              0.322954  0.461272   \n",
       "Comment_in_24_to_48_hrs                             0.307116  0.418801   \n",
       "Comment_in_24_hrs_after_publication_before_base...  0.456801  0.625511   \n",
       "Difference_between_CC2_and_CC3                      0.024475  0.050128   \n",
       "Selected_time_to_simulate_scenario                 -0.011676 -0.013268   \n",
       "Post_Length                                         0.004572 -0.002327   \n",
       "Post_Share_Count                                    0.129418  0.148064   \n",
       "Post_promotion_status                                    NaN       NaN   \n",
       "H_hrs                                              -0.061280 -0.072127   \n",
       "Published_on_Sunday                                 0.008899  0.005376   \n",
       "Published_on_Monday                                -0.005966 -0.002319   \n",
       "Published_on_Tuesday                                0.003849  0.006790   \n",
       "Published_on_Wed                                    0.013330  0.013722   \n",
       "Published_on_Thurs                                 -0.000137 -0.002813   \n",
       "Published_on_Friday                                -0.011072 -0.016886   \n",
       "Published_on_Sat                                   -0.008998 -0.004117   \n",
       "Sunday                                             -0.009643 -0.010903   \n",
       "Monday                                             -0.009593 -0.006183   \n",
       "Tuesday                                             0.001484  0.000277   \n",
       "Wednesday                                           0.010099  0.011781   \n",
       "Thursday                                            0.011145  0.011689   \n",
       "Friday                                              0.004505  0.002632   \n",
       "Saturday                                           -0.008828 -0.010076   \n",
       "Comments_in_Next_H_Hrs                              0.349246  0.354835   \n",
       "\n",
       "                                                          D4        D5  \\\n",
       "Page_Likes                                          0.145416  0.168368   \n",
       "Page_Checkins                                       0.125221  0.171057   \n",
       "Page_visit_after_like                               0.467845  0.533483   \n",
       "Page_category                                      -0.195815 -0.283879   \n",
       "D1                                                  0.365101  0.136530   \n",
       "D2                                                  0.596602  0.896847   \n",
       "D3                                                  0.962699  0.911807   \n",
       "D4                                                  1.000000  0.786959   \n",
       "D5                                                  0.786959  1.000000   \n",
       "D6                                                  0.225231  0.055806   \n",
       "D7                                                  0.602210  0.851436   \n",
       "D8                                                  0.945278  0.861698   \n",
       "D9                                                  0.851667  0.611401   \n",
       "D10                                                 0.809146  0.945893   \n",
       "D11                                                 0.070229  0.041271   \n",
       "D12                                                 0.597679  0.872449   \n",
       "D13                                                 0.925441  0.900356   \n",
       "D14                                                 0.786963  0.629790   \n",
       "D15                                                 0.828949  0.964090   \n",
       "D16                                                 0.365641  0.136985   \n",
       "D17                                                 0.591131  0.889536   \n",
       "D18                                                 0.961333  0.912119   \n",
       "D19                                                 0.998974  0.785775   \n",
       "D20                                                 0.779578  0.997745   \n",
       "D21                                                -0.573887 -0.842977   \n",
       "D22                                                 0.603171  0.843326   \n",
       "D23                                                 0.354915  0.207963   \n",
       "D24                                                -0.109027 -0.191427   \n",
       "D25                                                 0.865708  0.959710   \n",
       "Comment_before_time                                 0.600163  0.568436   \n",
       "Comment_in_last_24_hrs                              0.450775  0.410918   \n",
       "Comment_in_24_to_48_hrs                             0.398361  0.387563   \n",
       "Comment_in_24_hrs_after_publication_before_base...  0.601721  0.570917   \n",
       "Difference_between_CC2_and_CC3                      0.057326  0.033590   \n",
       "Selected_time_to_simulate_scenario                 -0.010821 -0.016297   \n",
       "Post_Length                                        -0.010791  0.006636   \n",
       "Post_Share_Count                                    0.134522  0.147804   \n",
       "Post_promotion_status                                    NaN       NaN   \n",
       "H_hrs                                              -0.064477 -0.081367   \n",
       "Published_on_Sunday                                 0.003522  0.007697   \n",
       "Published_on_Monday                                -0.000808 -0.004274   \n",
       "Published_on_Tuesday                                0.007338  0.006401   \n",
       "Published_on_Wed                                    0.010435  0.019828   \n",
       "Published_on_Thurs                                 -0.002680 -0.004824   \n",
       "Published_on_Friday                                -0.016075 -0.015612   \n",
       "Published_on_Sat                                   -0.001945 -0.009654   \n",
       "Sunday                                             -0.009832 -0.012360   \n",
       "Monday                                             -0.004683 -0.009272   \n",
       "Tuesday                                            -0.000305  0.001318   \n",
       "Wednesday                                           0.010966  0.013502   \n",
       "Thursday                                            0.009558  0.015062   \n",
       "Friday                                              0.001663  0.003824   \n",
       "Saturday                                           -0.008013 -0.013086   \n",
       "Comments_in_Next_H_Hrs                              0.315828  0.369427   \n",
       "\n",
       "                                                          D6  \\\n",
       "Page_Likes                                          0.025198   \n",
       "Page_Checkins                                      -0.002852   \n",
       "Page_visit_after_like                               0.078098   \n",
       "Page_category                                      -0.010510   \n",
       "D1                                                  0.819893   \n",
       "D2                                                  0.035629   \n",
       "D3                                                  0.179864   \n",
       "D4                                                  0.225231   \n",
       "D5                                                  0.055806   \n",
       "D6                                                  1.000000   \n",
       "D7                                                  0.030779   \n",
       "D8                                                  0.313147   \n",
       "D9                                                  0.529388   \n",
       "D10                                                 0.052070   \n",
       "D11                                                 0.033885   \n",
       "D12                                                 0.017155   \n",
       "D13                                                 0.107009   \n",
       "D14                                                 0.192025   \n",
       "D15                                                 0.074263   \n",
       "D16                                                 0.823722   \n",
       "D17                                                 0.034588   \n",
       "D18                                                 0.184723   \n",
       "D19                                                 0.225619   \n",
       "D20                                                 0.051981   \n",
       "D21                                                 0.006528   \n",
       "D22                                                 0.030285   \n",
       "D23                                                 0.524049   \n",
       "D24                                                 0.616210   \n",
       "D25                                                 0.081738   \n",
       "Comment_before_time                                 0.112130   \n",
       "Comment_in_last_24_hrs                              0.149331   \n",
       "Comment_in_24_to_48_hrs                             0.046062   \n",
       "Comment_in_24_hrs_after_publication_before_base...  0.115623   \n",
       "Difference_between_CC2_and_CC3                      0.084645   \n",
       "Selected_time_to_simulate_scenario                 -0.010847   \n",
       "Post_Length                                        -0.004084   \n",
       "Post_Share_Count                                    0.025388   \n",
       "Post_promotion_status                                    NaN   \n",
       "H_hrs                                              -0.019780   \n",
       "Published_on_Sunday                                -0.004551   \n",
       "Published_on_Monday                                -0.004359   \n",
       "Published_on_Tuesday                                0.006257   \n",
       "Published_on_Wed                                    0.002985   \n",
       "Published_on_Thurs                                  0.008809   \n",
       "Published_on_Friday                                -0.004549   \n",
       "Published_on_Sat                                   -0.005203   \n",
       "Sunday                                             -0.004912   \n",
       "Monday                                             -0.005185   \n",
       "Tuesday                                            -0.001364   \n",
       "Wednesday                                          -0.000160   \n",
       "Thursday                                            0.006364   \n",
       "Friday                                              0.008548   \n",
       "Saturday                                           -0.003769   \n",
       "Comments_in_Next_H_Hrs                              0.019933   \n",
       "\n",
       "                                                             ...            \\\n",
       "Page_Likes                                                   ...             \n",
       "Page_Checkins                                                ...             \n",
       "Page_visit_after_like                                        ...             \n",
       "Page_category                                                ...             \n",
       "D1                                                           ...             \n",
       "D2                                                           ...             \n",
       "D3                                                           ...             \n",
       "D4                                                           ...             \n",
       "D5                                                           ...             \n",
       "D6                                                           ...             \n",
       "D7                                                           ...             \n",
       "D8                                                           ...             \n",
       "D9                                                           ...             \n",
       "D10                                                          ...             \n",
       "D11                                                          ...             \n",
       "D12                                                          ...             \n",
       "D13                                                          ...             \n",
       "D14                                                          ...             \n",
       "D15                                                          ...             \n",
       "D16                                                          ...             \n",
       "D17                                                          ...             \n",
       "D18                                                          ...             \n",
       "D19                                                          ...             \n",
       "D20                                                          ...             \n",
       "D21                                                          ...             \n",
       "D22                                                          ...             \n",
       "D23                                                          ...             \n",
       "D24                                                          ...             \n",
       "D25                                                          ...             \n",
       "Comment_before_time                                          ...             \n",
       "Comment_in_last_24_hrs                                       ...             \n",
       "Comment_in_24_to_48_hrs                                      ...             \n",
       "Comment_in_24_hrs_after_publication_before_base...           ...             \n",
       "Difference_between_CC2_and_CC3                               ...             \n",
       "Selected_time_to_simulate_scenario                           ...             \n",
       "Post_Length                                                  ...             \n",
       "Post_Share_Count                                             ...             \n",
       "Post_promotion_status                                        ...             \n",
       "H_hrs                                                        ...             \n",
       "Published_on_Sunday                                          ...             \n",
       "Published_on_Monday                                          ...             \n",
       "Published_on_Tuesday                                         ...             \n",
       "Published_on_Wed                                             ...             \n",
       "Published_on_Thurs                                           ...             \n",
       "Published_on_Friday                                          ...             \n",
       "Published_on_Sat                                             ...             \n",
       "Sunday                                                       ...             \n",
       "Monday                                                       ...             \n",
       "Tuesday                                                      ...             \n",
       "Wednesday                                                    ...             \n",
       "Thursday                                                     ...             \n",
       "Friday                                                       ...             \n",
       "Saturday                                                     ...             \n",
       "Comments_in_Next_H_Hrs                                       ...             \n",
       "\n",
       "                                                    Published_on_Friday  \\\n",
       "Page_Likes                                                    -0.009585   \n",
       "Page_Checkins                                                 -0.006497   \n",
       "Page_visit_after_like                                         -0.027447   \n",
       "Page_category                                                  0.002661   \n",
       "D1                                                            -0.003888   \n",
       "D2                                                            -0.011072   \n",
       "D3                                                            -0.016886   \n",
       "D4                                                            -0.016075   \n",
       "D5                                                            -0.015612   \n",
       "D6                                                            -0.004549   \n",
       "D7                                                            -0.014580   \n",
       "D8                                                            -0.019732   \n",
       "D9                                                            -0.016849   \n",
       "D10                                                           -0.018168   \n",
       "D11                                                           -0.003348   \n",
       "D12                                                           -0.015654   \n",
       "D13                                                           -0.015645   \n",
       "D14                                                           -0.011857   \n",
       "D15                                                           -0.016570   \n",
       "D16                                                           -0.003818   \n",
       "D17                                                           -0.011218   \n",
       "D18                                                           -0.017140   \n",
       "D19                                                           -0.016409   \n",
       "D20                                                           -0.015907   \n",
       "D21                                                            0.015975   \n",
       "D22                                                           -0.014771   \n",
       "D23                                                           -0.014890   \n",
       "D24                                                           -0.003046   \n",
       "D25                                                           -0.018409   \n",
       "Comment_before_time                                           -0.015810   \n",
       "Comment_in_last_24_hrs                                        -0.010820   \n",
       "Comment_in_24_to_48_hrs                                       -0.011854   \n",
       "Comment_in_24_hrs_after_publication_before_base...            -0.015837   \n",
       "Difference_between_CC2_and_CC3                                 0.000375   \n",
       "Selected_time_to_simulate_scenario                             0.014903   \n",
       "Post_Length                                                    0.001778   \n",
       "Post_Share_Count                                              -0.005526   \n",
       "Post_promotion_status                                               NaN   \n",
       "H_hrs                                                          0.050491   \n",
       "Published_on_Sunday                                           -0.154478   \n",
       "Published_on_Monday                                           -0.169183   \n",
       "Published_on_Tuesday                                          -0.173659   \n",
       "Published_on_Wed                                              -0.178762   \n",
       "Published_on_Thurs                                            -0.169801   \n",
       "Published_on_Friday                                            1.000000   \n",
       "Published_on_Sat                                              -0.164810   \n",
       "Sunday                                                         0.235421   \n",
       "Monday                                                         0.078399   \n",
       "Tuesday                                                       -0.165829   \n",
       "Wednesday                                                     -0.170706   \n",
       "Thursday                                                      -0.177317   \n",
       "Friday                                                        -0.006441   \n",
       "Saturday                                                       0.216131   \n",
       "Comments_in_Next_H_Hrs                                        -0.006993   \n",
       "\n",
       "                                                    Published_on_Sat  \\\n",
       "Page_Likes                                                  0.003508   \n",
       "Page_Checkins                                               0.007592   \n",
       "Page_visit_after_like                                      -0.007698   \n",
       "Page_category                                              -0.001977   \n",
       "D1                                                         -0.009372   \n",
       "D2                                                         -0.008998   \n",
       "D3                                                         -0.004117   \n",
       "D4                                                         -0.001945   \n",
       "D5                                                         -0.009654   \n",
       "D6                                                         -0.005203   \n",
       "D7                                                         -0.005049   \n",
       "D8                                                         -0.008354   \n",
       "D9                                                         -0.009460   \n",
       "D10                                                        -0.008210   \n",
       "D11                                                        -0.003573   \n",
       "D12                                                        -0.004504   \n",
       "D13                                                        -0.004198   \n",
       "D14                                                        -0.005919   \n",
       "D15                                                        -0.007378   \n",
       "D16                                                        -0.009301   \n",
       "D17                                                        -0.008419   \n",
       "D18                                                        -0.003809   \n",
       "D19                                                        -0.001488   \n",
       "D20                                                        -0.009152   \n",
       "D21                                                         0.001316   \n",
       "D22                                                        -0.004051   \n",
       "D23                                                        -0.011243   \n",
       "D24                                                        -0.005904   \n",
       "D25                                                        -0.006957   \n",
       "Comment_before_time                                        -0.011395   \n",
       "Comment_in_last_24_hrs                                     -0.012043   \n",
       "Comment_in_24_to_48_hrs                                    -0.010034   \n",
       "Comment_in_24_hrs_after_publication_before_base...         -0.011860   \n",
       "Difference_between_CC2_and_CC3                             -0.001997   \n",
       "Selected_time_to_simulate_scenario                          0.011445   \n",
       "Post_Length                                                 0.005688   \n",
       "Post_Share_Count                                           -0.007180   \n",
       "Post_promotion_status                                            NaN   \n",
       "H_hrs                                                       0.048615   \n",
       "Published_on_Sunday                                        -0.148739   \n",
       "Published_on_Monday                                        -0.162897   \n",
       "Published_on_Tuesday                                       -0.167207   \n",
       "Published_on_Wed                                           -0.172120   \n",
       "Published_on_Thurs                                         -0.163492   \n",
       "Published_on_Friday                                        -0.164810   \n",
       "Published_on_Sat                                            1.000000   \n",
       "Sunday                                                      0.213998   \n",
       "Monday                                                      0.227195   \n",
       "Tuesday                                                     0.072570   \n",
       "Wednesday                                                  -0.164363   \n",
       "Thursday                                                   -0.170729   \n",
       "Friday                                                     -0.164046   \n",
       "Saturday                                                    0.002102   \n",
       "Comments_in_Next_H_Hrs                                     -0.005479   \n",
       "\n",
       "                                                      Sunday    Monday  \\\n",
       "Page_Likes                                         -0.006410 -0.004281   \n",
       "Page_Checkins                                      -0.003616 -0.004903   \n",
       "Page_visit_after_like                              -0.021363 -0.005943   \n",
       "Page_category                                      -0.000914  0.000579   \n",
       "D1                                                 -0.005051 -0.008610   \n",
       "D2                                                 -0.009643 -0.009593   \n",
       "D3                                                 -0.010903 -0.006183   \n",
       "D4                                                 -0.009832 -0.004683   \n",
       "D5                                                 -0.012360 -0.009272   \n",
       "D6                                                 -0.004912 -0.005185   \n",
       "D7                                                 -0.009034 -0.005190   \n",
       "D8                                                 -0.013835 -0.009342   \n",
       "D9                                                 -0.011751 -0.011580   \n",
       "D10                                                -0.012466 -0.007306   \n",
       "D11                                                -0.003635 -0.001760   \n",
       "D12                                                -0.006969 -0.006467   \n",
       "D13                                                -0.009812 -0.004741   \n",
       "D14                                                -0.007466 -0.003877   \n",
       "D15                                                -0.010806 -0.007020   \n",
       "D16                                                -0.004967 -0.008661   \n",
       "D17                                                -0.009118 -0.009544   \n",
       "D18                                                -0.010936 -0.006064   \n",
       "D19                                                -0.009930 -0.004442   \n",
       "D20                                                -0.012198 -0.008934   \n",
       "D21                                                 0.005897  0.005183   \n",
       "D22                                                -0.009033 -0.004708   \n",
       "D23                                                -0.012796 -0.012481   \n",
       "D24                                                -0.005304 -0.008235   \n",
       "D25                                                -0.011907 -0.006981   \n",
       "Comment_before_time                                -0.009983 -0.005328   \n",
       "Comment_in_last_24_hrs                             -0.010489 -0.004881   \n",
       "Comment_in_24_to_48_hrs                            -0.012889 -0.006748   \n",
       "Comment_in_24_hrs_after_publication_before_base... -0.010137 -0.005313   \n",
       "Difference_between_CC2_and_CC3                      0.001432  0.001240   \n",
       "Selected_time_to_simulate_scenario                  0.031163  0.024303   \n",
       "Post_Length                                         0.001010  0.003373   \n",
       "Post_Share_Count                                   -0.002644 -0.000697   \n",
       "Post_promotion_status                                    NaN       NaN   \n",
       "H_hrs                                               0.049454  0.047881   \n",
       "Published_on_Sunday                                 0.005035  0.210251   \n",
       "Published_on_Monday                                -0.165708  0.006714   \n",
       "Published_on_Tuesday                               -0.170093 -0.164684   \n",
       "Published_on_Wed                                   -0.175090 -0.169523   \n",
       "Published_on_Thurs                                  0.068665 -0.161026   \n",
       "Published_on_Friday                                 0.235421  0.078399   \n",
       "Published_on_Sat                                    0.213998  0.227195   \n",
       "Sunday                                              1.000000 -0.158990   \n",
       "Monday                                             -0.158990  1.000000   \n",
       "Tuesday                                            -0.162423 -0.157259   \n",
       "Wednesday                                          -0.167200 -0.161884   \n",
       "Thursday                                           -0.173675 -0.168153   \n",
       "Friday                                             -0.166877 -0.161571   \n",
       "Saturday                                           -0.164503 -0.159272   \n",
       "Comments_in_Next_H_Hrs                             -0.009504 -0.013550   \n",
       "\n",
       "                                                     Tuesday  Wednesday  \\\n",
       "Page_Likes                                         -0.001866   0.012786   \n",
       "Page_Checkins                                      -0.004674   0.004337   \n",
       "Page_visit_after_like                               0.000210   0.024554   \n",
       "Page_category                                      -0.003538  -0.003273   \n",
       "D1                                                 -0.005983   0.004060   \n",
       "D2                                                  0.001484   0.010099   \n",
       "D3                                                  0.000277   0.011781   \n",
       "D4                                                 -0.000305   0.010966   \n",
       "D5                                                  0.001318   0.013502   \n",
       "D6                                                 -0.001364  -0.000160   \n",
       "D7                                                  0.001924   0.012023   \n",
       "D8                                                 -0.001283   0.014392   \n",
       "D9                                                 -0.003568   0.012543   \n",
       "D10                                                 0.001318   0.015188   \n",
       "D11                                                -0.002235  -0.000733   \n",
       "D12                                                 0.003949   0.008405   \n",
       "D13                                                 0.000622   0.010776   \n",
       "D14                                                 0.000215   0.004826   \n",
       "D15                                                 0.001233   0.012931   \n",
       "D16                                                -0.005862   0.004087   \n",
       "D17                                                 0.002524   0.009786   \n",
       "D18                                                 0.000428   0.011747   \n",
       "D19                                                 0.000012   0.010901   \n",
       "D20                                                 0.001952   0.013167   \n",
       "D21                                                -0.004250  -0.007459   \n",
       "D22                                                 0.002356   0.011589   \n",
       "D23                                                -0.004307   0.012154   \n",
       "D24                                                -0.006136   0.007504   \n",
       "D25                                                 0.001691   0.014569   \n",
       "Comment_before_time                                -0.000014   0.007145   \n",
       "Comment_in_last_24_hrs                              0.002808   0.009949   \n",
       "Comment_in_24_to_48_hrs                            -0.002963   0.001251   \n",
       "Comment_in_24_hrs_after_publication_before_base... -0.000067   0.007909   \n",
       "Difference_between_CC2_and_CC3                      0.004518   0.007029   \n",
       "Selected_time_to_simulate_scenario                 -0.020276  -0.031624   \n",
       "Post_Length                                        -0.007377  -0.004523   \n",
       "Post_Share_Count                                   -0.000044  -0.001338   \n",
       "Post_promotion_status                                    NaN        NaN   \n",
       "H_hrs                                               0.048915   0.050354   \n",
       "Published_on_Sunday                                 0.205818   0.058400   \n",
       "Published_on_Monday                                 0.235583   0.207921   \n",
       "Published_on_Tuesday                                0.012581   0.226378   \n",
       "Published_on_Wed                                   -0.173184   0.009682   \n",
       "Published_on_Thurs                                 -0.164503  -0.169341   \n",
       "Published_on_Friday                                -0.165829  -0.170706   \n",
       "Published_on_Sat                                    0.072570  -0.164363   \n",
       "Sunday                                             -0.162423  -0.167200   \n",
       "Monday                                             -0.157259  -0.161884   \n",
       "Tuesday                                             1.000000  -0.165380   \n",
       "Wednesday                                          -0.165380   1.000000   \n",
       "Thursday                                           -0.171784  -0.176836   \n",
       "Friday                                             -0.165060  -0.169915   \n",
       "Saturday                                           -0.162712  -0.167497   \n",
       "Comments_in_Next_H_Hrs                              0.007363   0.012960   \n",
       "\n",
       "                                                    Thursday    Friday  \\\n",
       "Page_Likes                                         -0.002421  0.000066   \n",
       "Page_Checkins                                      -0.001336  0.006868   \n",
       "Page_visit_after_like                               0.020660 -0.002727   \n",
       "Page_category                                       0.002504  0.000054   \n",
       "D1                                                  0.013692  0.004484   \n",
       "D2                                                  0.011145  0.004505   \n",
       "D3                                                  0.011689  0.002632   \n",
       "D4                                                  0.009558  0.001663   \n",
       "D5                                                  0.015062  0.003824   \n",
       "D6                                                  0.006364  0.008548   \n",
       "D7                                                  0.007503  0.003776   \n",
       "D8                                                  0.019352  0.002063   \n",
       "D9                                                  0.023011  0.001134   \n",
       "D10                                                 0.014453  0.002050   \n",
       "D11                                                 0.000815  0.010984   \n",
       "D12                                                 0.008049  0.002988   \n",
       "D13                                                 0.010363  0.002497   \n",
       "D14                                                 0.005579  0.004607   \n",
       "D15                                                 0.013360  0.003028   \n",
       "D16                                                 0.013838  0.004515   \n",
       "D17                                                 0.010136  0.004622   \n",
       "D18                                                 0.011754  0.002568   \n",
       "D19                                                 0.009514  0.001530   \n",
       "D20                                                 0.014655  0.003730   \n",
       "D21                                                -0.006302 -0.003355   \n",
       "D22                                                 0.007801  0.003223   \n",
       "D23                                                 0.024747 -0.000198   \n",
       "D24                                                 0.018574 -0.001556   \n",
       "D25                                                 0.014341  0.001771   \n",
       "Comment_before_time                                 0.005849  0.008996   \n",
       "Comment_in_last_24_hrs                              0.013124  0.000548   \n",
       "Comment_in_24_to_48_hrs                             0.004984  0.016513   \n",
       "Comment_in_24_hrs_after_publication_before_base...  0.005979  0.008459   \n",
       "Difference_between_CC2_and_CC3                      0.006724 -0.012180   \n",
       "Selected_time_to_simulate_scenario                 -0.011359  0.001659   \n",
       "Post_Length                                         0.003565  0.001780   \n",
       "Post_Share_Count                                   -0.002050  0.001768   \n",
       "Post_promotion_status                                    NaN       NaN   \n",
       "H_hrs                                              -0.094338 -0.145551   \n",
       "Published_on_Sunday                                -0.160025 -0.153762   \n",
       "Published_on_Monday                                 0.049378 -0.168399   \n",
       "Published_on_Tuesday                                0.203482  0.047561   \n",
       "Published_on_Wed                                    0.243754  0.208669   \n",
       "Published_on_Thurs                                 -0.013927  0.213831   \n",
       "Published_on_Friday                                -0.177317 -0.006441   \n",
       "Published_on_Sat                                   -0.170729 -0.164046   \n",
       "Sunday                                             -0.173675 -0.166877   \n",
       "Monday                                             -0.168153 -0.161571   \n",
       "Tuesday                                            -0.171784 -0.165060   \n",
       "Wednesday                                          -0.176836 -0.169915   \n",
       "Thursday                                            1.000000 -0.176495   \n",
       "Friday                                             -0.176495  1.000000   \n",
       "Saturday                                           -0.173983 -0.167174   \n",
       "Comments_in_Next_H_Hrs                              0.006538 -0.004772   \n",
       "\n",
       "                                                    Saturday  \\\n",
       "Page_Likes                                          0.001942   \n",
       "Page_Checkins                                       0.003088   \n",
       "Page_visit_after_like                              -0.016624   \n",
       "Page_category                                       0.004509   \n",
       "D1                                                 -0.003490   \n",
       "D2                                                 -0.008828   \n",
       "D3                                                 -0.010076   \n",
       "D4                                                 -0.008013   \n",
       "D5                                                 -0.013086   \n",
       "D6                                                 -0.003769   \n",
       "D7                                                 -0.011593   \n",
       "D8                                                 -0.012546   \n",
       "D9                                                 -0.011172   \n",
       "D10                                                -0.014179   \n",
       "D11                                                -0.003641   \n",
       "D12                                                -0.010527   \n",
       "D13                                                -0.010382   \n",
       "D14                                                -0.004307   \n",
       "D15                                                -0.013601   \n",
       "D16                                                -0.003854   \n",
       "D17                                                -0.009183   \n",
       "D18                                                -0.010276   \n",
       "D19                                                -0.008219   \n",
       "D20                                                -0.013350   \n",
       "D21                                                 0.010748   \n",
       "D22                                                -0.011805   \n",
       "D23                                                -0.008582   \n",
       "D24                                                -0.005905   \n",
       "D25                                                -0.014400   \n",
       "Comment_before_time                                -0.007211   \n",
       "Comment_in_last_24_hrs                             -0.011799   \n",
       "Comment_in_24_to_48_hrs                            -0.000734   \n",
       "Comment_in_24_hrs_after_publication_before_base... -0.007385   \n",
       "Difference_between_CC2_and_CC3                     -0.008909   \n",
       "Selected_time_to_simulate_scenario                  0.007378   \n",
       "Post_Length                                         0.002084   \n",
       "Post_Share_Count                                    0.005061   \n",
       "Post_promotion_status                                    NaN   \n",
       "H_hrs                                               0.049542   \n",
       "Published_on_Sunday                                -0.151574   \n",
       "Published_on_Monday                                -0.166003   \n",
       "Published_on_Tuesday                               -0.170395   \n",
       "Published_on_Wed                                    0.038010   \n",
       "Published_on_Thurs                                  0.221276   \n",
       "Published_on_Friday                                 0.216131   \n",
       "Published_on_Sat                                    0.002102   \n",
       "Sunday                                             -0.164503   \n",
       "Monday                                             -0.159272   \n",
       "Tuesday                                            -0.162712   \n",
       "Wednesday                                          -0.167497   \n",
       "Thursday                                           -0.173983   \n",
       "Friday                                             -0.167174   \n",
       "Saturday                                            1.000000   \n",
       "Comments_in_Next_H_Hrs                              0.000332   \n",
       "\n",
       "                                                    Comments_in_Next_H_Hrs  \n",
       "Page_Likes                                                        0.074498  \n",
       "Page_Checkins                                                     0.062850  \n",
       "Page_visit_after_like                                             0.192206  \n",
       "Page_category                                                    -0.141774  \n",
       "D1                                                                0.057842  \n",
       "D2                                                                0.349246  \n",
       "D3                                                                0.354835  \n",
       "D4                                                                0.315828  \n",
       "D5                                                                0.369427  \n",
       "D6                                                                0.019933  \n",
       "D7                                                                0.333984  \n",
       "D8                                                                0.334245  \n",
       "D9                                                                0.239430  \n",
       "D10                                                               0.358431  \n",
       "D11                                                               0.009521  \n",
       "D12                                                               0.342481  \n",
       "D13                                                               0.348406  \n",
       "D14                                                               0.274218  \n",
       "D15                                                               0.358830  \n",
       "D16                                                               0.057731  \n",
       "D17                                                               0.348344  \n",
       "D18                                                               0.355018  \n",
       "D19                                                               0.313179  \n",
       "D20                                                               0.369414  \n",
       "D21                                                              -0.331239  \n",
       "D22                                                               0.331620  \n",
       "D23                                                               0.082365  \n",
       "D24                                                              -0.096113  \n",
       "D25                                                               0.362361  \n",
       "Comment_before_time                                               0.303110  \n",
       "Comment_in_last_24_hrs                                            0.296418  \n",
       "Comment_in_24_to_48_hrs                                           0.201801  \n",
       "Comment_in_24_hrs_after_publication_before_base...                0.306703  \n",
       "Difference_between_CC2_and_CC3                                    0.083667  \n",
       "Selected_time_to_simulate_scenario                               -0.401228  \n",
       "Post_Length                                                       0.010290  \n",
       "Post_Share_Count                                                  0.080693  \n",
       "Post_promotion_status                                                  NaN  \n",
       "H_hrs                                                             0.014998  \n",
       "Published_on_Sunday                                               0.000485  \n",
       "Published_on_Monday                                              -0.002402  \n",
       "Published_on_Tuesday                                              0.000700  \n",
       "Published_on_Wed                                                  0.011284  \n",
       "Published_on_Thurs                                                0.001932  \n",
       "Published_on_Friday                                              -0.006993  \n",
       "Published_on_Sat                                                 -0.005479  \n",
       "Sunday                                                           -0.009504  \n",
       "Monday                                                           -0.013550  \n",
       "Tuesday                                                           0.007363  \n",
       "Wednesday                                                         0.012960  \n",
       "Thursday                                                          0.006538  \n",
       "Friday                                                           -0.004772  \n",
       "Saturday                                                          0.000332  \n",
       "Comments_in_Next_H_Hrs                                            1.000000  \n",
       "\n",
       "[54 rows x 54 columns]"
      ]
     },
     "execution_count": 77,
     "metadata": {},
     "output_type": "execute_result"
    }
   ],
   "source": [
    "data.corr()"
   ]
  },
  {
   "cell_type": "code",
   "execution_count": 9,
   "metadata": {},
   "outputs": [],
   "source": [
    "#Feature Selection\n",
    "Y = data['Comments_in_Next_H_Hrs']\n",
    "X = data.drop(['Comments_in_Next_H_Hrs','D1' , 'D2' , 'D3' , 'D4' , 'D5' , 'D6' , 'D7' , 'D8' , 'D9' , 'D10' , 'D11' , 'D12' , 'D13' , 'D14' , 'D15' , 'D16' , 'D17' , 'D18' , 'D19' , 'D20' , 'D21' , 'D22' , 'D23' , 'D24' , 'D25','Post_Length' , 'Published_on_Sunday' , 'Published_on_Monday' ,'Published_on_Tuesday','Published_on_Wed', 'Published_on_Thurs' ,'Published_on_Friday', 'Published_on_Sat' , 'Monday' ,'Tuesday','Wednesday','Thursday' , 'Friday' , 'Saturday','Sunday','Post_promotion_status', ], axis = 1)"
   ]
  },
  {
   "cell_type": "code",
   "execution_count": 38,
   "metadata": {},
   "outputs": [
    {
     "data": {
      "text/html": [
       "<div>\n",
       "<style scoped>\n",
       "    .dataframe tbody tr th:only-of-type {\n",
       "        vertical-align: middle;\n",
       "    }\n",
       "\n",
       "    .dataframe tbody tr th {\n",
       "        vertical-align: top;\n",
       "    }\n",
       "\n",
       "    .dataframe thead th {\n",
       "        text-align: right;\n",
       "    }\n",
       "</style>\n",
       "<table border=\"1\" class=\"dataframe\">\n",
       "  <thead>\n",
       "    <tr style=\"text-align: right;\">\n",
       "      <th></th>\n",
       "      <th>Page_Likes</th>\n",
       "      <th>Page_Checkins</th>\n",
       "      <th>Page_visit_after_like</th>\n",
       "      <th>Page_category</th>\n",
       "      <th>Comment_before_time</th>\n",
       "      <th>Comment_in_last_24_hrs</th>\n",
       "      <th>Comment_in_24_to_48_hrs</th>\n",
       "      <th>Comment_in_24_hrs_after_publication_before_base_date/time</th>\n",
       "      <th>Difference_between_CC2_and_CC3</th>\n",
       "      <th>Selected_time_to_simulate_scenario</th>\n",
       "      <th>Post_Share_Count</th>\n",
       "      <th>H_hrs</th>\n",
       "    </tr>\n",
       "  </thead>\n",
       "  <tbody>\n",
       "    <tr>\n",
       "      <th>count</th>\n",
       "      <td>8.131200e+04</td>\n",
       "      <td>81312.000000</td>\n",
       "      <td>8.131200e+04</td>\n",
       "      <td>81312.000000</td>\n",
       "      <td>81312.000000</td>\n",
       "      <td>81312.000000</td>\n",
       "      <td>81312.000000</td>\n",
       "      <td>81312.000000</td>\n",
       "      <td>81312.000000</td>\n",
       "      <td>81312.000000</td>\n",
       "      <td>81312.000000</td>\n",
       "      <td>81312.000000</td>\n",
       "    </tr>\n",
       "    <tr>\n",
       "      <th>mean</th>\n",
       "      <td>1.313921e+06</td>\n",
       "      <td>4667.704336</td>\n",
       "      <td>4.475377e+04</td>\n",
       "      <td>24.255633</td>\n",
       "      <td>55.728933</td>\n",
       "      <td>21.872196</td>\n",
       "      <td>19.783464</td>\n",
       "      <td>52.588290</td>\n",
       "      <td>2.088732</td>\n",
       "      <td>35.407529</td>\n",
       "      <td>116.828758</td>\n",
       "      <td>23.766455</td>\n",
       "    </tr>\n",
       "    <tr>\n",
       "      <th>std</th>\n",
       "      <td>6.804951e+06</td>\n",
       "      <td>20561.261034</td>\n",
       "      <td>1.109279e+05</td>\n",
       "      <td>19.949156</td>\n",
       "      <td>136.735612</td>\n",
       "      <td>75.349527</td>\n",
       "      <td>71.753185</td>\n",
       "      <td>127.673521</td>\n",
       "      <td>93.885123</td>\n",
       "      <td>20.958361</td>\n",
       "      <td>945.066795</td>\n",
       "      <td>1.913700</td>\n",
       "    </tr>\n",
       "    <tr>\n",
       "      <th>min</th>\n",
       "      <td>3.600000e+01</td>\n",
       "      <td>0.000000</td>\n",
       "      <td>0.000000e+00</td>\n",
       "      <td>1.000000</td>\n",
       "      <td>0.000000</td>\n",
       "      <td>0.000000</td>\n",
       "      <td>0.000000</td>\n",
       "      <td>0.000000</td>\n",
       "      <td>-1793.000000</td>\n",
       "      <td>0.000000</td>\n",
       "      <td>1.000000</td>\n",
       "      <td>1.000000</td>\n",
       "    </tr>\n",
       "    <tr>\n",
       "      <th>25%</th>\n",
       "      <td>3.673400e+04</td>\n",
       "      <td>0.000000</td>\n",
       "      <td>6.980000e+02</td>\n",
       "      <td>9.000000</td>\n",
       "      <td>2.000000</td>\n",
       "      <td>0.000000</td>\n",
       "      <td>0.000000</td>\n",
       "      <td>2.000000</td>\n",
       "      <td>-6.000000</td>\n",
       "      <td>17.000000</td>\n",
       "      <td>2.000000</td>\n",
       "      <td>24.000000</td>\n",
       "    </tr>\n",
       "    <tr>\n",
       "      <th>50%</th>\n",
       "      <td>2.929110e+05</td>\n",
       "      <td>0.000000</td>\n",
       "      <td>7.045000e+03</td>\n",
       "      <td>18.000000</td>\n",
       "      <td>11.000000</td>\n",
       "      <td>2.000000</td>\n",
       "      <td>0.000000</td>\n",
       "      <td>10.000000</td>\n",
       "      <td>0.000000</td>\n",
       "      <td>35.000000</td>\n",
       "      <td>13.000000</td>\n",
       "      <td>24.000000</td>\n",
       "    </tr>\n",
       "    <tr>\n",
       "      <th>75%</th>\n",
       "      <td>1.204214e+06</td>\n",
       "      <td>99.000000</td>\n",
       "      <td>5.026400e+04</td>\n",
       "      <td>32.000000</td>\n",
       "      <td>46.000000</td>\n",
       "      <td>11.000000</td>\n",
       "      <td>9.000000</td>\n",
       "      <td>44.000000</td>\n",
       "      <td>3.000000</td>\n",
       "      <td>53.000000</td>\n",
       "      <td>61.000000</td>\n",
       "      <td>24.000000</td>\n",
       "    </tr>\n",
       "    <tr>\n",
       "      <th>max</th>\n",
       "      <td>4.869723e+08</td>\n",
       "      <td>186370.000000</td>\n",
       "      <td>6.089942e+06</td>\n",
       "      <td>106.000000</td>\n",
       "      <td>2438.000000</td>\n",
       "      <td>2042.000000</td>\n",
       "      <td>2040.000000</td>\n",
       "      <td>2184.000000</td>\n",
       "      <td>2042.000000</td>\n",
       "      <td>72.000000</td>\n",
       "      <td>144860.000000</td>\n",
       "      <td>24.000000</td>\n",
       "    </tr>\n",
       "  </tbody>\n",
       "</table>\n",
       "</div>"
      ],
      "text/plain": [
       "         Page_Likes  Page_Checkins  Page_visit_after_like  Page_category  \\\n",
       "count  8.131200e+04   81312.000000           8.131200e+04   81312.000000   \n",
       "mean   1.313921e+06    4667.704336           4.475377e+04      24.255633   \n",
       "std    6.804951e+06   20561.261034           1.109279e+05      19.949156   \n",
       "min    3.600000e+01       0.000000           0.000000e+00       1.000000   \n",
       "25%    3.673400e+04       0.000000           6.980000e+02       9.000000   \n",
       "50%    2.929110e+05       0.000000           7.045000e+03      18.000000   \n",
       "75%    1.204214e+06      99.000000           5.026400e+04      32.000000   \n",
       "max    4.869723e+08  186370.000000           6.089942e+06     106.000000   \n",
       "\n",
       "       Comment_before_time  Comment_in_last_24_hrs  Comment_in_24_to_48_hrs  \\\n",
       "count         81312.000000            81312.000000             81312.000000   \n",
       "mean             55.728933               21.872196                19.783464   \n",
       "std             136.735612               75.349527                71.753185   \n",
       "min               0.000000                0.000000                 0.000000   \n",
       "25%               2.000000                0.000000                 0.000000   \n",
       "50%              11.000000                2.000000                 0.000000   \n",
       "75%              46.000000               11.000000                 9.000000   \n",
       "max            2438.000000             2042.000000              2040.000000   \n",
       "\n",
       "       Comment_in_24_hrs_after_publication_before_base_date/time  \\\n",
       "count                                       81312.000000           \n",
       "mean                                           52.588290           \n",
       "std                                           127.673521           \n",
       "min                                             0.000000           \n",
       "25%                                             2.000000           \n",
       "50%                                            10.000000           \n",
       "75%                                            44.000000           \n",
       "max                                          2184.000000           \n",
       "\n",
       "       Difference_between_CC2_and_CC3  Selected_time_to_simulate_scenario  \\\n",
       "count                    81312.000000                        81312.000000   \n",
       "mean                         2.088732                           35.407529   \n",
       "std                         93.885123                           20.958361   \n",
       "min                      -1793.000000                            0.000000   \n",
       "25%                         -6.000000                           17.000000   \n",
       "50%                          0.000000                           35.000000   \n",
       "75%                          3.000000                           53.000000   \n",
       "max                       2042.000000                           72.000000   \n",
       "\n",
       "       Post_Share_Count         H_hrs  \n",
       "count      81312.000000  81312.000000  \n",
       "mean         116.828758     23.766455  \n",
       "std          945.066795      1.913700  \n",
       "min            1.000000      1.000000  \n",
       "25%            2.000000     24.000000  \n",
       "50%           13.000000     24.000000  \n",
       "75%           61.000000     24.000000  \n",
       "max       144860.000000     24.000000  "
      ]
     },
     "execution_count": 38,
     "metadata": {},
     "output_type": "execute_result"
    }
   ],
   "source": [
    "X.describe()"
   ]
  },
  {
   "cell_type": "code",
   "execution_count": 10,
   "metadata": {},
   "outputs": [
    {
     "name": "stdout",
     "output_type": "stream",
     "text": [
      "X_train shape is :  (56918, 12)\n",
      "X_test shape is :  (24394, 12)\n",
      "Y_train shape is :  (56918,)\n",
      "Y_test shape is :  (24394,)\n"
     ]
    }
   ],
   "source": [
    "#Creating train and test data\n",
    "from sklearn.model_selection import train_test_split\n",
    "X_train, X_test, Y_train, Y_test = train_test_split(X, Y, random_state=0, test_size = 0.3)\n",
    "\n",
    "print ('X_train shape is : ', X_train.shape)\n",
    "print('X_test shape is : ', X_test.shape)\n",
    "print('Y_train shape is : ', Y_train.shape)\n",
    "print('Y_test shape is : ', Y_test.shape)\n"
   ]
  },
  {
   "cell_type": "code",
   "execution_count": 11,
   "metadata": {},
   "outputs": [
    {
     "name": "stderr",
     "output_type": "stream",
     "text": [
      "C:\\Users\\fateh\\Anaconda3\\lib\\site-packages\\sklearn\\preprocessing\\data.py:323: DataConversionWarning: Data with input dtype int64 were all converted to float64 by MinMaxScaler.\n",
      "  return self.partial_fit(X, y)\n"
     ]
    }
   ],
   "source": [
    "#Scaling \n",
    "from sklearn.preprocessing import MinMaxScaler\n",
    "scaler = MinMaxScaler()\n",
    "X_train_scaled = scaler.fit_transform(X_train)\n",
    "X_test_scaled = scaler.transform(X_test)\n"
   ]
  },
  {
   "cell_type": "code",
   "execution_count": 12,
   "metadata": {},
   "outputs": [
    {
     "data": {
      "text/plain": [
       "79.2"
      ]
     },
     "execution_count": 12,
     "metadata": {},
     "output_type": "execute_result"
    }
   ],
   "source": [
    "#Support vector machines - linear kernel\n",
    "from sklearn import svm \n",
    "svc1 = svm.SVC(kernel='linear')\n",
    "svc1.fit(X_train_scaled, Y_train)\n",
    "acc_svc = round(svc1.score(X_test_scaled, Y_test) * 100, 2)\n",
    "acc_svc"
   ]
  },
  {
   "cell_type": "code",
   "execution_count": 13,
   "metadata": {},
   "outputs": [
    {
     "name": "stdout",
     "output_type": "stream",
     "text": [
      "              precision    recall  f1-score   support\n",
      "\n",
      "           0       0.81      0.83      0.82     13675\n",
      "           1       0.77      0.75      0.76     10719\n",
      "\n",
      "   micro avg       0.79      0.79      0.79     24394\n",
      "   macro avg       0.79      0.79      0.79     24394\n",
      "weighted avg       0.79      0.79      0.79     24394\n",
      "\n"
     ]
    }
   ],
   "source": [
    "predictions = svc1.predict(X_test_scaled)\n",
    "from sklearn.metrics import classification_report\n",
    "print(classification_report(Y_test, predictions))"
   ]
  },
  {
   "cell_type": "code",
   "execution_count": 14,
   "metadata": {},
   "outputs": [
    {
     "name": "stdout",
     "output_type": "stream",
     "text": [
      "[[11328  2347]\n",
      " [ 2728  7991]]\n"
     ]
    }
   ],
   "source": [
    "from sklearn.metrics import confusion_matrix\n",
    "print(confusion_matrix(Y_test, predictions))"
   ]
  },
  {
   "cell_type": "code",
   "execution_count": 40,
   "metadata": {},
   "outputs": [
    {
     "data": {
      "text/plain": [
       "0.7869357952945555"
      ]
     },
     "execution_count": 40,
     "metadata": {},
     "output_type": "execute_result"
    }
   ],
   "source": [
    "auc_roc=metrics.roc_auc_score(Y_test,predictions)\n",
    "auc_roc"
   ]
  },
  {
   "cell_type": "code",
   "execution_count": 42,
   "metadata": {},
   "outputs": [
    {
     "data": {
      "text/plain": [
       "0.7869357952945555"
      ]
     },
     "execution_count": 42,
     "metadata": {},
     "output_type": "execute_result"
    }
   ],
   "source": [
    "from sklearn.metrics import roc_curve, auc\n",
    "false_positive_rate, true_positive_rate, thresholds = roc_curve(Y_test, predictions)\n",
    "roc_auc = auc(false_positive_rate, true_positive_rate)\n",
    "roc_auc"
   ]
  },
  {
   "cell_type": "code",
   "execution_count": 43,
   "metadata": {},
   "outputs": [
    {
     "data": {
      "text/plain": [
       "Text(0.5, 0, 'False Positive Rate')"
      ]
     },
     "execution_count": 43,
     "metadata": {},
     "output_type": "execute_result"
    },
    {
     "data": {
      "image/png": "[encoded data removed]",
      "text/plain": [
       "<Figure size 720x720 with 1 Axes>"
      ]
     },
     "metadata": {
      "needs_background": "light"
     },
     "output_type": "display_data"
    }
   ],
   "source": [
    "import matplotlib.pyplot as plt\n",
    "plt.figure(figsize=(10,10))\n",
    "plt.title('Receiver Operating Characteristic')\n",
    "plt.plot(false_positive_rate,true_positive_rate, color='red',label = 'AUC = %0.2f' % roc_auc)\n",
    "plt.legend(loc = 'lower right')\n",
    "plt.plot([0, 1], [0, 1],linestyle='--')\n",
    "plt.axis('tight')\n",
    "plt.ylabel('True Positive Rate')\n",
    "plt.xlabel('False Positive Rate')"
   ]
  },
  {
   "cell_type": "code",
   "execution_count": 84,
   "metadata": {},
   "outputs": [
    {
     "name": "stdout",
     "output_type": "stream",
     "text": [
      "Automatically created module for IPython interactive environment\n"
     ]
    },
    {
     "ename": "ModuleNotFoundError",
     "evalue": "No module named 'model_selection'",
     "output_type": "error",
     "traceback": [
      "\u001b[1;31m---------------------------------------------------------------------------\u001b[0m",
      "\u001b[1;31mModuleNotFoundError\u001b[0m                       Traceback (most recent call last)",
      "\u001b[1;32m<ipython-input-84-cb7e4cf7772a>\u001b[0m in \u001b[0;36m<module>\u001b[1;34m\u001b[0m\n\u001b[0;32m      8\u001b[0m \u001b[1;32mfrom\u001b[0m \u001b[0msklearn\u001b[0m\u001b[1;33m.\u001b[0m\u001b[0mdatasets\u001b[0m \u001b[1;32mimport\u001b[0m \u001b[0mload_digits\u001b[0m\u001b[1;33m\u001b[0m\u001b[1;33m\u001b[0m\u001b[0m\n\u001b[0;32m      9\u001b[0m \u001b[1;32mfrom\u001b[0m \u001b[0msklearn\u001b[0m\u001b[1;33m.\u001b[0m\u001b[0mmodel_selection\u001b[0m \u001b[1;32mimport\u001b[0m \u001b[0mlearning_curve\u001b[0m\u001b[1;33m\u001b[0m\u001b[1;33m\u001b[0m\u001b[0m\n\u001b[1;32m---> 10\u001b[1;33m \u001b[1;32mfrom\u001b[0m \u001b[0mmodel_selection\u001b[0m \u001b[1;32mimport\u001b[0m \u001b[0mShuffleSplit\u001b[0m\u001b[1;33m\u001b[0m\u001b[1;33m\u001b[0m\u001b[0m\n\u001b[0m\u001b[0;32m     11\u001b[0m \u001b[1;33m\u001b[0m\u001b[0m\n\u001b[0;32m     12\u001b[0m \u001b[1;33m\u001b[0m\u001b[0m\n",
      "\u001b[1;31mModuleNotFoundError\u001b[0m: No module named 'model_selection'"
     ]
    }
   ],
   "source": [
    "print(__doc__)\n",
    "\n",
    "import numpy as np\n",
    "import matplotlib.pyplot as plt\n",
    "from sklearn import model_selection\n",
    "from sklearn.naive_bayes import GaussianNB\n",
    "from sklearn.svm import SVC\n",
    "from sklearn.datasets import load_digits\n",
    "from sklearn.model_selection import learning_curve\n",
    "from model_selection import ShuffleSplit\n",
    "\n",
    "\n",
    "def plot_learning_curve(estimator, title, X1, y1, ylim=None, cv=None,\n",
    "                        n_jobs=1, train_sizes=np.linspace(.1, 1.0, 5)):\n",
    "    \"\"\"\n",
    "    Generate a simple plot of the test and traning learning curve.\n",
    "\n",
    "    Parameters\n",
    "    ----------\n",
    "    estimator : object type that implements the \"fit\" and \"predict\" methods\n",
    "        An object of that type which is cloned for each validation.\n",
    "\n",
    "    title : string\n",
    "        Title for the chart.\n",
    "\n",
    "    X : array-like, shape (n_samples, n_features)\n",
    "        Training vector, where n_samples is the number of samples and\n",
    "        n_features is the number of features.\n",
    "\n",
    "    y : array-like, shape (n_samples) or (n_samples, n_features), optional\n",
    "        Target relative to X for classification or regression;\n",
    "        None for unsupervised learning.\n",
    "\n",
    "    ylim : tuple, shape (ymin, ymax), optional\n",
    "        Defines minimum and maximum yvalues plotted.\n",
    "\n",
    "    cv : integer, cross-validation generator, optional\n",
    "        If an integer is passed, it is the number of folds (defaults to 3).\n",
    "        Specific cross-validation objects can be passed, see\n",
    "        sklearn.cross_validation module for the list of possible objects\n",
    "\n",
    "    n_jobs : integer, optional\n",
    "        Number of jobs to run in parallel (default 1).\n",
    "    \"\"\"\n",
    "    plt.figure()\n",
    "    plt.title(title)\n",
    "    if ylim is not None:\n",
    "        plt.ylim(*ylim)\n",
    "    plt.xlabel(\"Training examples\")\n",
    "    plt.ylabel(\"Score\")\n",
    "    train_sizes, train_scores, test_scores = learning_curve(\n",
    "        estimator, X, y, cv=cv, n_jobs=n_jobs, train_sizes=train_sizes)\n",
    "    train_scores_mean = np.mean(train_scores, axis=1)\n",
    "    train_scores_std = np.std(train_scores, axis=1)\n",
    "    test_scores_mean = np.mean(test_scores, axis=1)\n",
    "    test_scores_std = np.std(test_scores, axis=1)\n",
    "    plt.grid()\n",
    "\n",
    "    plt.fill_between(train_sizes, train_scores_mean - train_scores_std,\n",
    "                     train_scores_mean + train_scores_std, alpha=0.1,\n",
    "                     color=\"r\")\n",
    "    plt.fill_between(train_sizes, test_scores_mean - test_scores_std,\n",
    "                     test_scores_mean + test_scores_std, alpha=0.1, color=\"g\")\n",
    "    plt.plot(train_sizes, train_scores_mean, 'o-', color=\"r\",\n",
    "             label=\"Training score\")\n",
    "    plt.plot(train_sizes, test_scores_mean, 'o-', color=\"g\",\n",
    "             label=\"Cross-validation score\")\n",
    "\n",
    "    plt.legend(loc=\"best\")\n",
    "    return plt\n",
    "\n",
    "\n",
    "X1, y1 = X_train_scaled, Y_train\n",
    "\n",
    "\n",
    "title = \"Learning Curves (Linear SVM)\"\n",
    "# Cross validation with 100 iterations to get smoother mean test and train\n",
    "# score curves, each time with 20% data randomly selected as a validation set.\n",
    "cv = cross_validation.ShuffleSplit(digits.data.shape[0], n_iter=100,\n",
    "                                   test_size=0.2, random_state=0)\n",
    "\n",
    "estimator = svc1\n",
    "plot_learning_curve(estimator, title, X, y, ylim=(0.7, 1.01), cv=cv, n_jobs=4)"
   ]
  },
  {
   "cell_type": "code",
   "execution_count": null,
   "metadata": {},
   "outputs": [],
   "source": []
  },
  {
   "cell_type": "code",
   "execution_count": 15,
   "metadata": {},
   "outputs": [
    {
     "name": "stderr",
     "output_type": "stream",
     "text": [
      "C:\\Users\\fateh\\Anaconda3\\lib\\site-packages\\sklearn\\svm\\base.py:196: FutureWarning: The default value of gamma will change from 'auto' to 'scale' in version 0.22 to account better for unscaled features. Set gamma explicitly to 'auto' or 'scale' to avoid this warning.\n",
      "  \"avoid this warning.\", FutureWarning)\n"
     ]
    },
    {
     "data": {
      "text/plain": [
       "71.83"
      ]
     },
     "execution_count": 15,
     "metadata": {},
     "output_type": "execute_result"
    }
   ],
   "source": [
    "#Support vector machines - polynomial kernel\n",
    "from sklearn import svm \n",
    "svc2 = svm.SVC(kernel='poly')\n",
    "svc2.fit(X_train_scaled, Y_train)\n",
    "acc_svc = round(svc2.score(X_test_scaled, Y_test) * 100, 2)\n",
    "acc_svc"
   ]
  },
  {
   "cell_type": "code",
   "execution_count": 16,
   "metadata": {},
   "outputs": [
    {
     "name": "stdout",
     "output_type": "stream",
     "text": [
      "              precision    recall  f1-score   support\n",
      "\n",
      "           0       0.77      0.71      0.74     13675\n",
      "           1       0.67      0.72      0.69     10719\n",
      "\n",
      "   micro avg       0.72      0.72      0.72     24394\n",
      "   macro avg       0.72      0.72      0.72     24394\n",
      "weighted avg       0.72      0.72      0.72     24394\n",
      "\n"
     ]
    }
   ],
   "source": [
    "predictions2 = svc2.predict(X_test_scaled)\n",
    "from sklearn.metrics import classification_report\n",
    "print(classification_report(Y_test, predictions2))"
   ]
  },
  {
   "cell_type": "code",
   "execution_count": 17,
   "metadata": {},
   "outputs": [
    {
     "name": "stdout",
     "output_type": "stream",
     "text": [
      "[[9775 3900]\n",
      " [2972 7747]]\n"
     ]
    }
   ],
   "source": [
    "from sklearn.metrics import confusion_matrix\n",
    "print(confusion_matrix(Y_test, predictions2))"
   ]
  },
  {
   "cell_type": "code",
   "execution_count": 44,
   "metadata": {},
   "outputs": [
    {
     "data": {
      "text/plain": [
       "Text(0.5, 0, 'False Positive Rate')"
      ]
     },
     "execution_count": 44,
     "metadata": {},
     "output_type": "execute_result"
    },
    {
     "data": {
      "image/png": "[encoded data removed]",
      "text/plain": [
       "<Figure size 720x720 with 1 Axes>"
      ]
     },
     "metadata": {
      "needs_background": "light"
     },
     "output_type": "display_data"
    }
   ],
   "source": [
    "auc_roc=metrics.roc_auc_score(Y_test,predictions2)\n",
    "from sklearn.metrics import roc_curve, auc\n",
    "false_positive_rate, true_positive_rate, thresholds = roc_curve(Y_test, predictions2)\n",
    "roc_auc = auc(false_positive_rate, true_positive_rate)\n",
    "import matplotlib.pyplot as plt\n",
    "plt.figure(figsize=(10,10))\n",
    "plt.title('Receiver Operating Characteristic')\n",
    "plt.plot(false_positive_rate,true_positive_rate, color='red',label = 'AUC = %0.2f' % roc_auc)\n",
    "plt.legend(loc = 'lower right')\n",
    "plt.plot([0, 1], [0, 1],linestyle='--')\n",
    "plt.axis('tight')\n",
    "plt.ylabel('True Positive Rate')\n",
    "plt.xlabel('False Positive Rate')"
   ]
  },
  {
   "cell_type": "code",
   "execution_count": 18,
   "metadata": {},
   "outputs": [
    {
     "name": "stderr",
     "output_type": "stream",
     "text": [
      "C:\\Users\\fateh\\Anaconda3\\lib\\site-packages\\sklearn\\svm\\base.py:196: FutureWarning: The default value of gamma will change from 'auto' to 'scale' in version 0.22 to account better for unscaled features. Set gamma explicitly to 'auto' or 'scale' to avoid this warning.\n",
      "  \"avoid this warning.\", FutureWarning)\n"
     ]
    },
    {
     "data": {
      "text/plain": [
       "78.1"
      ]
     },
     "execution_count": 18,
     "metadata": {},
     "output_type": "execute_result"
    }
   ],
   "source": [
    "#Support vector machines - RBF kernel\n",
    "from sklearn import svm \n",
    "svc3 = svm.SVC(kernel='rbf')\n",
    "svc3.fit(X_train_scaled, Y_train)\n",
    "acc_svc = round(svc3.score(X_test_scaled, Y_test) * 100, 2)\n",
    "acc_svc"
   ]
  },
  {
   "cell_type": "code",
   "execution_count": 19,
   "metadata": {},
   "outputs": [
    {
     "name": "stdout",
     "output_type": "stream",
     "text": [
      "              precision    recall  f1-score   support\n",
      "\n",
      "           0       0.78      0.85      0.81     13675\n",
      "           1       0.78      0.70      0.74     10719\n",
      "\n",
      "   micro avg       0.78      0.78      0.78     24394\n",
      "   macro avg       0.78      0.77      0.77     24394\n",
      "weighted avg       0.78      0.78      0.78     24394\n",
      "\n"
     ]
    }
   ],
   "source": [
    "predictions3 = svc3.predict(X_test_scaled)\n",
    "from sklearn.metrics import classification_report\n",
    "print(classification_report(Y_test, predictions3))"
   ]
  },
  {
   "cell_type": "code",
   "execution_count": 20,
   "metadata": {},
   "outputs": [
    {
     "name": "stdout",
     "output_type": "stream",
     "text": [
      "[[11570  2105]\n",
      " [ 3237  7482]]\n"
     ]
    }
   ],
   "source": [
    "from sklearn.metrics import confusion_matrix\n",
    "print(confusion_matrix(Y_test, predictions3))"
   ]
  },
  {
   "cell_type": "code",
   "execution_count": 45,
   "metadata": {},
   "outputs": [
    {
     "data": {
      "text/plain": [
       "Text(0.5, 0, 'False Positive Rate')"
      ]
     },
     "execution_count": 45,
     "metadata": {},
     "output_type": "execute_result"
    },
    {
     "data": {
      "image/png": "[encoded data removed]",
      "text/plain": [
       "<Figure size 720x720 with 1 Axes>"
      ]
     },
     "metadata": {
      "needs_background": "light"
     },
     "output_type": "display_data"
    }
   ],
   "source": [
    "auc_roc=metrics.roc_auc_score(Y_test,predictions3)\n",
    "from sklearn.metrics import roc_curve, auc\n",
    "false_positive_rate, true_positive_rate, thresholds = roc_curve(Y_test, predictions3)\n",
    "roc_auc = auc(false_positive_rate, true_positive_rate)\n",
    "import matplotlib.pyplot as plt\n",
    "plt.figure(figsize=(10,10))\n",
    "plt.title('Receiver Operating Characteristic')\n",
    "plt.plot(false_positive_rate,true_positive_rate, color='red',label = 'AUC = %0.2f' % roc_auc)\n",
    "plt.legend(loc = 'lower right')\n",
    "plt.plot([0, 1], [0, 1],linestyle='--')\n",
    "plt.axis('tight')\n",
    "plt.ylabel('True Positive Rate')\n",
    "plt.xlabel('False Positive Rate')"
   ]
  },
  {
   "cell_type": "code",
   "execution_count": 21,
   "metadata": {},
   "outputs": [],
   "source": [
    "#DECISION TREES"
   ]
  },
  {
   "cell_type": "code",
   "execution_count": 22,
   "metadata": {},
   "outputs": [
    {
     "name": "stdout",
     "output_type": "stream",
     "text": [
      "              precision    recall  f1-score   support\n",
      "\n",
      "           0       0.80      0.80      0.80     13675\n",
      "           1       0.74      0.74      0.74     10719\n",
      "\n",
      "   micro avg       0.77      0.77      0.77     24394\n",
      "   macro avg       0.77      0.77      0.77     24394\n",
      "weighted avg       0.77      0.77      0.77     24394\n",
      "\n"
     ]
    }
   ],
   "source": [
    "#Unrestrained decision tree\n",
    "from sklearn.tree import DecisionTreeClassifier\n",
    "dtree = DecisionTreeClassifier(criterion='gini', max_depth=None)\n",
    "dtree.fit(X_train_scaled,Y_train)\n",
    "\n",
    "predictions4 = dtree.predict(X_test_scaled)\n",
    "from sklearn.metrics import classification_report,confusion_matrix\n",
    "print(classification_report(Y_test,predictions4))"
   ]
  },
  {
   "cell_type": "code",
   "execution_count": 23,
   "metadata": {},
   "outputs": [
    {
     "name": "stdout",
     "output_type": "stream",
     "text": [
      "[[10920  2755]\n",
      " [ 2735  7984]]\n"
     ]
    }
   ],
   "source": [
    "print(confusion_matrix(Y_test,predictions4))"
   ]
  },
  {
   "cell_type": "code",
   "execution_count": 24,
   "metadata": {},
   "outputs": [
    {
     "data": {
      "text/plain": [
       "77.49"
      ]
     },
     "execution_count": 24,
     "metadata": {},
     "output_type": "execute_result"
    }
   ],
   "source": [
    "dtree_score = round(dtree.score(X_test_scaled, Y_test) * 100, 2)\n",
    "dtree_score"
   ]
  },
  {
   "cell_type": "code",
   "execution_count": 46,
   "metadata": {},
   "outputs": [
    {
     "data": {
      "text/plain": [
       "Text(0.5, 0, 'False Positive Rate')"
      ]
     },
     "execution_count": 46,
     "metadata": {},
     "output_type": "execute_result"
    },
    {
     "data": {
      "image/png": "[encoded data removed]",
      "text/plain": [
       "<Figure size 720x720 with 1 Axes>"
      ]
     },
     "metadata": {
      "needs_background": "light"
     },
     "output_type": "display_data"
    }
   ],
   "source": [
    "auc_roc=metrics.roc_auc_score(Y_test,predictions4)\n",
    "from sklearn.metrics import roc_curve, auc\n",
    "false_positive_rate, true_positive_rate, thresholds = roc_curve(Y_test, predictions4)\n",
    "roc_auc = auc(false_positive_rate, true_positive_rate)\n",
    "import matplotlib.pyplot as plt\n",
    "plt.figure(figsize=(10,10))\n",
    "plt.title('Receiver Operating Characteristic')\n",
    "plt.plot(false_positive_rate,true_positive_rate, color='red',label = 'AUC = %0.2f' % roc_auc)\n",
    "plt.legend(loc = 'lower right')\n",
    "plt.plot([0, 1], [0, 1],linestyle='--')\n",
    "plt.axis('tight')\n",
    "plt.ylabel('True Positive Rate')\n",
    "plt.xlabel('False Positive Rate')"
   ]
  },
  {
   "cell_type": "code",
   "execution_count": 25,
   "metadata": {},
   "outputs": [
    {
     "name": "stdout",
     "output_type": "stream",
     "text": [
      "              precision    recall  f1-score   support\n",
      "\n",
      "           0       0.83      0.87      0.85     13675\n",
      "           1       0.82      0.76      0.79     10719\n",
      "\n",
      "   micro avg       0.83      0.83      0.83     24394\n",
      "   macro avg       0.83      0.82      0.82     24394\n",
      "weighted avg       0.83      0.83      0.82     24394\n",
      "\n"
     ]
    }
   ],
   "source": [
    "#Decision tree (max depth=3)\n",
    "dtree2 = DecisionTreeClassifier(criterion='gini', max_depth=3)\n",
    "dtree2.fit(X_train_scaled,Y_train)\n",
    "\n",
    "predictions5 = dtree2.predict(X_test_scaled)\n",
    "from sklearn.metrics import classification_report,confusion_matrix\n",
    "print(classification_report(Y_test,predictions5))\n"
   ]
  },
  {
   "cell_type": "code",
   "execution_count": 26,
   "metadata": {},
   "outputs": [
    {
     "name": "stdout",
     "output_type": "stream",
     "text": [
      "[[11934  1741]\n",
      " [ 2524  8195]]\n"
     ]
    }
   ],
   "source": [
    "print(confusion_matrix(Y_test,predictions5))"
   ]
  },
  {
   "cell_type": "code",
   "execution_count": 27,
   "metadata": {},
   "outputs": [
    {
     "data": {
      "text/plain": [
       "82.52"
      ]
     },
     "execution_count": 27,
     "metadata": {},
     "output_type": "execute_result"
    }
   ],
   "source": [
    "dtree_score = round(dtree2.score(X_test_scaled, Y_test) * 100, 2)\n",
    "dtree_score"
   ]
  },
  {
   "cell_type": "code",
   "execution_count": 47,
   "metadata": {},
   "outputs": [
    {
     "data": {
      "text/plain": [
       "Text(0.5, 0, 'False Positive Rate')"
      ]
     },
     "execution_count": 47,
     "metadata": {},
     "output_type": "execute_result"
    },
    {
     "data": {
      "image/png": "[encoded data removed]",
      "text/plain": [
       "<Figure size 720x720 with 1 Axes>"
      ]
     },
     "metadata": {
      "needs_background": "light"
     },
     "output_type": "display_data"
    }
   ],
   "source": [
    "auc_roc=metrics.roc_auc_score(Y_test,predictions5)\n",
    "from sklearn.metrics import roc_curve, auc\n",
    "false_positive_rate, true_positive_rate, thresholds = roc_curve(Y_test, predictions5)\n",
    "roc_auc = auc(false_positive_rate, true_positive_rate)\n",
    "import matplotlib.pyplot as plt\n",
    "plt.figure(figsize=(10,10))\n",
    "plt.title('Receiver Operating Characteristic')\n",
    "plt.plot(false_positive_rate,true_positive_rate, color='red',label = 'AUC = %0.2f' % roc_auc)\n",
    "plt.legend(loc = 'lower right')\n",
    "plt.plot([0, 1], [0, 1],linestyle='--')\n",
    "plt.axis('tight')\n",
    "plt.ylabel('True Positive Rate')\n",
    "plt.xlabel('False Positive Rate')"
   ]
  },
  {
   "cell_type": "code",
   "execution_count": 28,
   "metadata": {},
   "outputs": [
    {
     "name": "stdout",
     "output_type": "stream",
     "text": [
      "              precision    recall  f1-score   support\n",
      "\n",
      "           0       0.84      0.83      0.83     13675\n",
      "           1       0.79      0.79      0.79     10719\n",
      "\n",
      "   micro avg       0.81      0.81      0.81     24394\n",
      "   macro avg       0.81      0.81      0.81     24394\n",
      "weighted avg       0.81      0.81      0.81     24394\n",
      "\n"
     ]
    }
   ],
   "source": [
    "#Decision tree (max depth=2)\n",
    "dtree3 = DecisionTreeClassifier(criterion='gini', max_depth=2)\n",
    "dtree3.fit(X_train_scaled,Y_train)\n",
    "\n",
    "predictions6 = dtree3.predict(X_test_scaled)\n",
    "from sklearn.metrics import classification_report,confusion_matrix\n",
    "print(classification_report(Y_test,predictions6))"
   ]
  },
  {
   "cell_type": "code",
   "execution_count": 29,
   "metadata": {},
   "outputs": [
    {
     "name": "stdout",
     "output_type": "stream",
     "text": [
      "[[11377  2298]\n",
      " [ 2243  8476]]\n"
     ]
    }
   ],
   "source": [
    "print(confusion_matrix(Y_test,predictions6))"
   ]
  },
  {
   "cell_type": "code",
   "execution_count": 30,
   "metadata": {},
   "outputs": [
    {
     "data": {
      "text/plain": [
       "81.38"
      ]
     },
     "execution_count": 30,
     "metadata": {},
     "output_type": "execute_result"
    }
   ],
   "source": [
    "dtree_score = round(dtree3.score(X_test_scaled, Y_test) * 100, 2)\n",
    "dtree_score"
   ]
  },
  {
   "cell_type": "code",
   "execution_count": 48,
   "metadata": {},
   "outputs": [
    {
     "data": {
      "text/plain": [
       "Text(0.5, 0, 'False Positive Rate')"
      ]
     },
     "execution_count": 48,
     "metadata": {},
     "output_type": "execute_result"
    },
    {
     "data": {
      "image/png": "[encoded data removed]",
      "text/plain": [
       "<Figure size 720x720 with 1 Axes>"
      ]
     },
     "metadata": {
      "needs_background": "light"
     },
     "output_type": "display_data"
    }
   ],
   "source": [
    "auc_roc=metrics.roc_auc_score(Y_test,predictions6)\n",
    "from sklearn.metrics import roc_curve, auc\n",
    "false_positive_rate, true_positive_rate, thresholds = roc_curve(Y_test, predictions6)\n",
    "roc_auc = auc(false_positive_rate, true_positive_rate)\n",
    "import matplotlib.pyplot as plt\n",
    "plt.figure(figsize=(10,10))\n",
    "plt.title('Receiver Operating Characteristic')\n",
    "plt.plot(false_positive_rate,true_positive_rate, color='red',label = 'AUC = %0.2f' % roc_auc)\n",
    "plt.legend(loc = 'lower right')\n",
    "plt.plot([0, 1], [0, 1],linestyle='--')\n",
    "plt.axis('tight')\n",
    "plt.ylabel('True Positive Rate')\n",
    "plt.xlabel('False Positive Rate')"
   ]
  },
  {
   "cell_type": "code",
   "execution_count": 49,
   "metadata": {},
   "outputs": [],
   "source": [
    "#Boosting"
   ]
  },
  {
   "cell_type": "code",
   "execution_count": 54,
   "metadata": {},
   "outputs": [
    {
     "data": {
      "text/plain": [
       "83.68"
      ]
     },
     "execution_count": 54,
     "metadata": {},
     "output_type": "execute_result"
    }
   ],
   "source": [
    "#AdaBoost, max depth=NONE: \n",
    "from sklearn.ensemble import AdaBoostClassifier \n",
    "classifier1 = AdaBoostClassifier(n_estimators=100)\n",
    "classifier1.fit(X_train_scaled, Y_train)\n",
    "Y_pred = classifier1.predict(X_test_scaled)\n",
    "acc_boosted_decision_tree = round(classifier1.score(X_test_scaled, Y_test) * 100, 2)\n",
    "acc_boosted_decision_tree"
   ]
  },
  {
   "cell_type": "code",
   "execution_count": 56,
   "metadata": {},
   "outputs": [
    {
     "name": "stdout",
     "output_type": "stream",
     "text": [
      "              precision    recall  f1-score   support\n",
      "\n",
      "           0       0.84      0.88      0.86     13675\n",
      "           1       0.83      0.79      0.81     10719\n",
      "\n",
      "   micro avg       0.84      0.84      0.84     24394\n",
      "   macro avg       0.84      0.83      0.83     24394\n",
      "weighted avg       0.84      0.84      0.84     24394\n",
      "\n"
     ]
    }
   ],
   "source": [
    "predictions7 = classifier1.predict(X_test_scaled)\n",
    "from sklearn.metrics import classification_report\n",
    "print(classification_report(Y_test, predictions7))"
   ]
  },
  {
   "cell_type": "code",
   "execution_count": 59,
   "metadata": {},
   "outputs": [
    {
     "name": "stdout",
     "output_type": "stream",
     "text": [
      "[[11970  1705]\n",
      " [ 2275  8444]]\n"
     ]
    }
   ],
   "source": [
    "from sklearn.metrics import confusion_matrix\n",
    "print(confusion_matrix(Y_test, predictions7))"
   ]
  },
  {
   "cell_type": "code",
   "execution_count": 60,
   "metadata": {},
   "outputs": [
    {
     "data": {
      "text/plain": [
       "Text(0.5, 0, 'False Positive Rate')"
      ]
     },
     "execution_count": 60,
     "metadata": {},
     "output_type": "execute_result"
    },
    {
     "data": {
      "image/png": "[encoded data removed]",
      "text/plain": [
       "<Figure size 720x720 with 1 Axes>"
      ]
     },
     "metadata": {
      "needs_background": "light"
     },
     "output_type": "display_data"
    }
   ],
   "source": [
    "auc_roc=metrics.roc_auc_score(Y_test,predictions7)\n",
    "from sklearn.metrics import roc_curve, auc\n",
    "false_positive_rate, true_positive_rate, thresholds = roc_curve(Y_test, predictions7)\n",
    "roc_auc = auc(false_positive_rate, true_positive_rate)\n",
    "import matplotlib.pyplot as plt\n",
    "plt.figure(figsize=(10,10))\n",
    "plt.title('Receiver Operating Characteristic')\n",
    "plt.plot(false_positive_rate,true_positive_rate, color='red',label = 'AUC = %0.2f' % roc_auc)\n",
    "plt.legend(loc = 'lower right')\n",
    "plt.plot([0, 1], [0, 1],linestyle='--')\n",
    "plt.axis('tight')\n",
    "plt.ylabel('True Positive Rate')\n",
    "plt.xlabel('False Positive Rate')"
   ]
  },
  {
   "cell_type": "code",
   "execution_count": 64,
   "metadata": {},
   "outputs": [
    {
     "data": {
      "text/plain": [
       "82.41"
      ]
     },
     "execution_count": 64,
     "metadata": {},
     "output_type": "execute_result"
    }
   ],
   "source": [
    "#AdaBoost, max depth=3: ****************************************************************\n",
    "from sklearn.ensemble import AdaBoostClassifier \n",
    "classifier2 = AdaBoostClassifier(base_estimator=DecisionTreeClassifier(max_depth=3), n_estimators=500, learning_rate=1.3)\n",
    "classifier2.fit(X_train_scaled, Y_train)\n",
    "Y_pred = classifier2.predict(X_test_scaled)\n",
    "acc_boosted_decision_tree = round(classifier2.score(X_test_scaled, Y_test) * 100, 2)\n",
    "acc_boosted_decision_tree"
   ]
  },
  {
   "cell_type": "code",
   "execution_count": 66,
   "metadata": {},
   "outputs": [
    {
     "name": "stdout",
     "output_type": "stream",
     "text": [
      "              precision    recall  f1-score   support\n",
      "\n",
      "           0       0.83      0.87      0.85     13675\n",
      "           1       0.82      0.76      0.79     10719\n",
      "\n",
      "   micro avg       0.82      0.82      0.82     24394\n",
      "   macro avg       0.82      0.82      0.82     24394\n",
      "weighted avg       0.82      0.82      0.82     24394\n",
      "\n"
     ]
    }
   ],
   "source": [
    "predictions8 = classifier2.predict(X_test_scaled)\n",
    "from sklearn.metrics import classification_report\n",
    "print(classification_report(Y_test, predictions8))"
   ]
  },
  {
   "cell_type": "code",
   "execution_count": 68,
   "metadata": {},
   "outputs": [
    {
     "name": "stdout",
     "output_type": "stream",
     "text": [
      "[[11909  1766]\n",
      " [ 2526  8193]]\n"
     ]
    }
   ],
   "source": [
    "from sklearn.metrics import confusion_matrix\n",
    "print(confusion_matrix(Y_test, predictions8))"
   ]
  },
  {
   "cell_type": "code",
   "execution_count": 69,
   "metadata": {},
   "outputs": [
    {
     "data": {
      "text/plain": [
       "Text(0.5, 0, 'False Positive Rate')"
      ]
     },
     "execution_count": 69,
     "metadata": {},
     "output_type": "execute_result"
    },
    {
     "data": {
      "image/png": "[encoded data removed]",
      "text/plain": [
       "<Figure size 720x720 with 1 Axes>"
      ]
     },
     "metadata": {
      "needs_background": "light"
     },
     "output_type": "display_data"
    }
   ],
   "source": [
    "auc_roc=metrics.roc_auc_score(Y_test,predictions8)\n",
    "from sklearn.metrics import roc_curve, auc\n",
    "false_positive_rate, true_positive_rate, thresholds = roc_curve(Y_test, predictions8)\n",
    "roc_auc = auc(false_positive_rate, true_positive_rate)\n",
    "import matplotlib.pyplot as plt\n",
    "plt.figure(figsize=(10,10))\n",
    "plt.title('Receiver Operating Characteristic')\n",
    "plt.plot(false_positive_rate,true_positive_rate, color='red',label = 'AUC = %0.2f' % roc_auc)\n",
    "plt.legend(loc = 'lower right')\n",
    "plt.plot([0, 1], [0, 1],linestyle='--')\n",
    "plt.axis('tight')\n",
    "plt.ylabel('True Positive Rate')\n",
    "plt.xlabel('False Positive Rate')"
   ]
  },
  {
   "cell_type": "code",
   "execution_count": 72,
   "metadata": {},
   "outputs": [
    {
     "data": {
      "text/plain": [
       "80.58"
      ]
     },
     "execution_count": 72,
     "metadata": {},
     "output_type": "execute_result"
    }
   ],
   "source": [
    "#AdaBoost, max depth=5: ***************************************************************\n",
    "from sklearn.ensemble import AdaBoostClassifier \n",
    "classifier3 = AdaBoostClassifier(base_estimator=DecisionTreeClassifier(max_depth=5), n_estimators=500, learning_rate=1.3)\n",
    "classifier3.fit(X_train_scaled, Y_train)\n",
    "Y_pred = classifier3.predict(X_test_scaled)\n",
    "acc_boosted_decision_tree = round(classifier3.score(X_test_scaled, Y_test) * 100, 2)\n",
    "acc_boosted_decision_tree"
   ]
  },
  {
   "cell_type": "code",
   "execution_count": 73,
   "metadata": {},
   "outputs": [
    {
     "name": "stdout",
     "output_type": "stream",
     "text": [
      "              precision    recall  f1-score   support\n",
      "\n",
      "           0       0.82      0.84      0.83     13675\n",
      "           1       0.79      0.77      0.78     10719\n",
      "\n",
      "   micro avg       0.81      0.81      0.81     24394\n",
      "   macro avg       0.80      0.80      0.80     24394\n",
      "weighted avg       0.81      0.81      0.81     24394\n",
      "\n"
     ]
    }
   ],
   "source": [
    "predictions9 = classifier3.predict(X_test_scaled)\n",
    "from sklearn.metrics import classification_report\n",
    "print(classification_report(Y_test, predictions9))"
   ]
  },
  {
   "cell_type": "code",
   "execution_count": 75,
   "metadata": {},
   "outputs": [
    {
     "name": "stdout",
     "output_type": "stream",
     "text": [
      "[[11421  2254]\n",
      " [ 2483  8236]]\n"
     ]
    }
   ],
   "source": [
    "from sklearn.metrics import confusion_matrix\n",
    "print(confusion_matrix(Y_test, predictions9))"
   ]
  },
  {
   "cell_type": "code",
   "execution_count": 76,
   "metadata": {},
   "outputs": [
    {
     "data": {
      "text/plain": [
       "Text(0.5, 0, 'False Positive Rate')"
      ]
     },
     "execution_count": 76,
     "metadata": {},
     "output_type": "execute_result"
    },
    {
     "data": {
      "image/png": "[encoded data removed]",
      "text/plain": [
       "<Figure size 720x720 with 1 Axes>"
      ]
     },
     "metadata": {
      "needs_background": "light"
     },
     "output_type": "display_data"
    }
   ],
   "source": [
    "auc_roc=metrics.roc_auc_score(Y_test,predictions9)\n",
    "from sklearn.metrics import roc_curve, auc\n",
    "false_positive_rate, true_positive_rate, thresholds = roc_curve(Y_test, predictions9)\n",
    "roc_auc = auc(false_positive_rate, true_positive_rate)\n",
    "import matplotlib.pyplot as plt\n",
    "plt.figure(figsize=(10,10))\n",
    "plt.title('Receiver Operating Characteristic')\n",
    "plt.plot(false_positive_rate,true_positive_rate, color='red',label = 'AUC = %0.2f' % roc_auc)\n",
    "plt.legend(loc = 'lower right')\n",
    "plt.plot([0, 1], [0, 1],linestyle='--')\n",
    "plt.axis('tight')\n",
    "plt.ylabel('True Positive Rate')\n",
    "plt.xlabel('False Positive Rate')"
   ]
  },
  {
   "cell_type": "code",
   "execution_count": 224,
   "metadata": {},
   "outputs": [],
   "source": [
    "data2 = pd.read_csv('C:/Users/fateh/Desktop/turnover.csv')"
   ]
  },
  {
   "cell_type": "code",
   "execution_count": 225,
   "metadata": {},
   "outputs": [
    {
     "data": {
      "text/html": [
       "<div>\n",
       "<style scoped>\n",
       "    .dataframe tbody tr th:only-of-type {\n",
       "        vertical-align: middle;\n",
       "    }\n",
       "\n",
       "    .dataframe tbody tr th {\n",
       "        vertical-align: top;\n",
       "    }\n",
       "\n",
       "    .dataframe thead th {\n",
       "        text-align: right;\n",
       "    }\n",
       "</style>\n",
       "<table border=\"1\" class=\"dataframe\">\n",
       "  <thead>\n",
       "    <tr style=\"text-align: right;\">\n",
       "      <th></th>\n",
       "      <th>satisfaction_level</th>\n",
       "      <th>last_evaluation</th>\n",
       "      <th>number_project</th>\n",
       "      <th>average_montly_hours</th>\n",
       "      <th>time_spend_company</th>\n",
       "      <th>Work_accident</th>\n",
       "      <th>left</th>\n",
       "      <th>promotion_last_5years</th>\n",
       "    </tr>\n",
       "  </thead>\n",
       "  <tbody>\n",
       "    <tr>\n",
       "      <th>count</th>\n",
       "      <td>14999.000000</td>\n",
       "      <td>14999.000000</td>\n",
       "      <td>14999.000000</td>\n",
       "      <td>14999.000000</td>\n",
       "      <td>14999.000000</td>\n",
       "      <td>14999.000000</td>\n",
       "      <td>14999.000000</td>\n",
       "      <td>14999.000000</td>\n",
       "    </tr>\n",
       "    <tr>\n",
       "      <th>mean</th>\n",
       "      <td>0.612834</td>\n",
       "      <td>0.716102</td>\n",
       "      <td>3.803054</td>\n",
       "      <td>201.050337</td>\n",
       "      <td>3.498233</td>\n",
       "      <td>0.144610</td>\n",
       "      <td>0.238083</td>\n",
       "      <td>0.021268</td>\n",
       "    </tr>\n",
       "    <tr>\n",
       "      <th>std</th>\n",
       "      <td>0.248631</td>\n",
       "      <td>0.171169</td>\n",
       "      <td>1.232592</td>\n",
       "      <td>49.943099</td>\n",
       "      <td>1.460136</td>\n",
       "      <td>0.351719</td>\n",
       "      <td>0.425924</td>\n",
       "      <td>0.144281</td>\n",
       "    </tr>\n",
       "    <tr>\n",
       "      <th>min</th>\n",
       "      <td>0.090000</td>\n",
       "      <td>0.360000</td>\n",
       "      <td>2.000000</td>\n",
       "      <td>96.000000</td>\n",
       "      <td>2.000000</td>\n",
       "      <td>0.000000</td>\n",
       "      <td>0.000000</td>\n",
       "      <td>0.000000</td>\n",
       "    </tr>\n",
       "    <tr>\n",
       "      <th>25%</th>\n",
       "      <td>0.440000</td>\n",
       "      <td>0.560000</td>\n",
       "      <td>3.000000</td>\n",
       "      <td>156.000000</td>\n",
       "      <td>3.000000</td>\n",
       "      <td>0.000000</td>\n",
       "      <td>0.000000</td>\n",
       "      <td>0.000000</td>\n",
       "    </tr>\n",
       "    <tr>\n",
       "      <th>50%</th>\n",
       "      <td>0.640000</td>\n",
       "      <td>0.720000</td>\n",
       "      <td>4.000000</td>\n",
       "      <td>200.000000</td>\n",
       "      <td>3.000000</td>\n",
       "      <td>0.000000</td>\n",
       "      <td>0.000000</td>\n",
       "      <td>0.000000</td>\n",
       "    </tr>\n",
       "    <tr>\n",
       "      <th>75%</th>\n",
       "      <td>0.820000</td>\n",
       "      <td>0.870000</td>\n",
       "      <td>5.000000</td>\n",
       "      <td>245.000000</td>\n",
       "      <td>4.000000</td>\n",
       "      <td>0.000000</td>\n",
       "      <td>0.000000</td>\n",
       "      <td>0.000000</td>\n",
       "    </tr>\n",
       "    <tr>\n",
       "      <th>max</th>\n",
       "      <td>1.000000</td>\n",
       "      <td>1.000000</td>\n",
       "      <td>7.000000</td>\n",
       "      <td>310.000000</td>\n",
       "      <td>10.000000</td>\n",
       "      <td>1.000000</td>\n",
       "      <td>1.000000</td>\n",
       "      <td>1.000000</td>\n",
       "    </tr>\n",
       "  </tbody>\n",
       "</table>\n",
       "</div>"
      ],
      "text/plain": [
       "       satisfaction_level  last_evaluation  number_project  \\\n",
       "count        14999.000000     14999.000000    14999.000000   \n",
       "mean             0.612834         0.716102        3.803054   \n",
       "std              0.248631         0.171169        1.232592   \n",
       "min              0.090000         0.360000        2.000000   \n",
       "25%              0.440000         0.560000        3.000000   \n",
       "50%              0.640000         0.720000        4.000000   \n",
       "75%              0.820000         0.870000        5.000000   \n",
       "max              1.000000         1.000000        7.000000   \n",
       "\n",
       "       average_montly_hours  time_spend_company  Work_accident          left  \\\n",
       "count          14999.000000        14999.000000   14999.000000  14999.000000   \n",
       "mean             201.050337            3.498233       0.144610      0.238083   \n",
       "std               49.943099            1.460136       0.351719      0.425924   \n",
       "min               96.000000            2.000000       0.000000      0.000000   \n",
       "25%              156.000000            3.000000       0.000000      0.000000   \n",
       "50%              200.000000            3.000000       0.000000      0.000000   \n",
       "75%              245.000000            4.000000       0.000000      0.000000   \n",
       "max              310.000000           10.000000       1.000000      1.000000   \n",
       "\n",
       "       promotion_last_5years  \n",
       "count           14999.000000  \n",
       "mean                0.021268  \n",
       "std                 0.144281  \n",
       "min                 0.000000  \n",
       "25%                 0.000000  \n",
       "50%                 0.000000  \n",
       "75%                 0.000000  \n",
       "max                 1.000000  "
      ]
     },
     "execution_count": 225,
     "metadata": {},
     "output_type": "execute_result"
    }
   ],
   "source": [
    "data2.describe()"
   ]
  },
  {
   "cell_type": "code",
   "execution_count": 226,
   "metadata": {},
   "outputs": [
    {
     "data": {
      "text/plain": [
       "satisfaction_level       float64\n",
       "last_evaluation          float64\n",
       "number_project             int64\n",
       "average_montly_hours       int64\n",
       "time_spend_company         int64\n",
       "Work_accident              int64\n",
       "left                       int64\n",
       "promotion_last_5years      int64\n",
       "Sales                     object\n",
       "salary                    object\n",
       "dtype: object"
      ]
     },
     "execution_count": 226,
     "metadata": {},
     "output_type": "execute_result"
    }
   ],
   "source": [
    "data2.dtypes"
   ]
  },
  {
   "cell_type": "code",
   "execution_count": 227,
   "metadata": {},
   "outputs": [
    {
     "data": {
      "text/plain": [
       "satisfaction_level       0\n",
       "last_evaluation          0\n",
       "number_project           0\n",
       "average_montly_hours     0\n",
       "time_spend_company       0\n",
       "Work_accident            0\n",
       "left                     0\n",
       "promotion_last_5years    0\n",
       "Sales                    0\n",
       "salary                   0\n",
       "dtype: int64"
      ]
     },
     "execution_count": 227,
     "metadata": {},
     "output_type": "execute_result"
    }
   ],
   "source": [
    "data2.isnull().sum()"
   ]
  },
  {
   "cell_type": "code",
   "execution_count": 228,
   "metadata": {},
   "outputs": [
    {
     "name": "stdout",
     "output_type": "stream",
     "text": [
      "0    11428\n",
      "1     3571\n",
      "Name: left, dtype: int64\n"
     ]
    }
   ],
   "source": [
    "#Values of Y variable\n",
    "print(data2['left'].value_counts())"
   ]
  },
  {
   "cell_type": "code",
   "execution_count": 229,
   "metadata": {},
   "outputs": [],
   "source": [
    "data2['salary'] = data2['salary'].fillna('low')\n",
    "data2['Sales'] = data2['Sales'].fillna('accounting')\n",
    "data2['Sales'] = data2['Sales'].map( {'accounting': 0, 'hr': 1, 'IT': 2, 'management': 3, 'marketing': 4, 'product_mng': 5, 'RandD': 6, 'sales': 7, 'support': 8, 'technical': 9} ).astype(float)\n",
    "data2['salary'] = data2['salary'].map( {'low': 0, 'medium': 1, 'high': 2} ).astype(float)"
   ]
  },
  {
   "cell_type": "code",
   "execution_count": 230,
   "metadata": {},
   "outputs": [
    {
     "data": {
      "text/plain": [
       "satisfaction_level       float64\n",
       "last_evaluation          float64\n",
       "number_project             int64\n",
       "average_montly_hours       int64\n",
       "time_spend_company         int64\n",
       "Work_accident              int64\n",
       "left                       int64\n",
       "promotion_last_5years      int64\n",
       "Sales                    float64\n",
       "salary                   float64\n",
       "dtype: object"
      ]
     },
     "execution_count": 230,
     "metadata": {},
     "output_type": "execute_result"
    }
   ],
   "source": [
    "data2.dtypes"
   ]
  },
  {
   "cell_type": "code",
   "execution_count": 231,
   "metadata": {},
   "outputs": [
    {
     "data": {
      "image/png": "[encoded data removed]",
      "text/plain": [
       "<Figure size 432x288 with 1 Axes>"
      ]
     },
     "metadata": {},
     "output_type": "display_data"
    }
   ],
   "source": [
    "#Bar chart of independent variable\n",
    "labels = data2['left'].astype('category').cat.categories.tolist()\n",
    "counts = data2['left'].value_counts()\n",
    "sizes = [counts[var_cat] for var_cat in labels]\n",
    "fig1, ax1 = plt.subplots()\n",
    "ax1.pie(sizes, labels=labels, autopct='%1.1f%%', shadow=True) #autopct is show the % on plot\n",
    "ax1.axis('equal')\n",
    "plt.show()"
   ]
  },
  {
   "cell_type": "code",
   "execution_count": 276,
   "metadata": {},
   "outputs": [
    {
     "data": {
      "image/png": "[encoded data removed]",
      "text/plain": [
       "<Figure size 432x288 with 1 Axes>"
      ]
     },
     "metadata": {
      "needs_background": "light"
     },
     "output_type": "display_data"
    }
   ],
   "source": [
    "# Define a function for a histogram\n",
    "def histogram(data, x_label, y_label, title):\n",
    "    _, ax = plt.subplots()\n",
    "    ax.hist(data, color = '#539caf')\n",
    "    ax.set_ylabel(y_label)\n",
    "    ax.set_xlabel(x_label)\n",
    "    ax.set_title(title)\n",
    "\n",
    "# Call the function to create plot\n",
    "histogram(data = data2['left']\n",
    "           , x_label = 'left'\n",
    "           , y_label = 'Frequency'\n",
    "           , title = 'Distribution of left')"
   ]
  },
  {
   "cell_type": "code",
   "execution_count": 277,
   "metadata": {},
   "outputs": [
    {
     "data": {
      "image/png": "[encoded data removed]",
      "text/plain": [
       "<Figure size 432x288 with 1 Axes>"
      ]
     },
     "metadata": {
      "needs_background": "light"
     },
     "output_type": "display_data"
    }
   ],
   "source": [
    "sns.countplot(x='left',data=data2, palette='hls')\n",
    "plt.show()"
   ]
  },
  {
   "cell_type": "code",
   "execution_count": 232,
   "metadata": {},
   "outputs": [],
   "source": [
    "#Feature Selection\n",
    "Y2 = data2['left']\n",
    "X2 = data2.drop(['left'] , axis = 1)"
   ]
  },
  {
   "cell_type": "code",
   "execution_count": 233,
   "metadata": {},
   "outputs": [
    {
     "name": "stdout",
     "output_type": "stream",
     "text": [
      "X2_train shape is :  (10499, 9)\n",
      "X2_test shape is :  (4500, 9)\n",
      "Y2_train shape is :  (10499,)\n",
      "Y2_test shape is :  (4500,)\n"
     ]
    }
   ],
   "source": [
    "#Creating train and test data\n",
    "from sklearn.model_selection import train_test_split\n",
    "X2_train, X2_test, Y2_train, Y2_test = train_test_split(X2, Y2, random_state=0, test_size = 0.3)\n",
    "\n",
    "print ('X2_train shape is : ', X2_train.shape)\n",
    "print('X2_test shape is : ', X2_test.shape)\n",
    "print('Y2_train shape is : ', Y2_train.shape)\n",
    "print('Y2_test shape is : ', Y2_test.shape)"
   ]
  },
  {
   "cell_type": "code",
   "execution_count": 234,
   "metadata": {},
   "outputs": [
    {
     "name": "stderr",
     "output_type": "stream",
     "text": [
      "C:\\Users\\fateh\\Anaconda3\\lib\\site-packages\\sklearn\\preprocessing\\data.py:323: DataConversionWarning: Data with input dtype int64, float64 were all converted to float64 by MinMaxScaler.\n",
      "  return self.partial_fit(X, y)\n"
     ]
    }
   ],
   "source": [
    "#Scaling \n",
    "from sklearn.preprocessing import MinMaxScaler\n",
    "scaler = MinMaxScaler()\n",
    "X2_train_scaled = scaler.fit_transform(X2_train)\n",
    "X2_test_scaled = scaler.transform(X2_test)\n",
    "\n"
   ]
  },
  {
   "cell_type": "code",
   "execution_count": 237,
   "metadata": {},
   "outputs": [
    {
     "data": {
      "text/plain": [
       "78.51"
      ]
     },
     "execution_count": 237,
     "metadata": {},
     "output_type": "execute_result"
    }
   ],
   "source": [
    "#Support vector machines - linear kernel\n",
    "from sklearn import svm \n",
    "svc4 = svm.SVC(kernel='linear')\n",
    "svc4.fit(X2_train_scaled, Y2_train)\n",
    "acc_svc = round(svc4.score(X2_test_scaled, Y2_test) * 100, 2)\n",
    "acc_svc"
   ]
  },
  {
   "cell_type": "code",
   "execution_count": 238,
   "metadata": {},
   "outputs": [
    {
     "name": "stdout",
     "output_type": "stream",
     "text": [
      "              precision    recall  f1-score   support\n",
      "\n",
      "           0       0.81      0.94      0.87      3462\n",
      "           1       0.58      0.26      0.36      1038\n",
      "\n",
      "   micro avg       0.79      0.79      0.79      4500\n",
      "   macro avg       0.69      0.60      0.62      4500\n",
      "weighted avg       0.76      0.79      0.75      4500\n",
      "\n"
     ]
    }
   ],
   "source": [
    "predictions11 = svc4.predict(X2_test_scaled)\n",
    "from sklearn.metrics import classification_report\n",
    "print(classification_report(Y2_test, predictions11))\n"
   ]
  },
  {
   "cell_type": "code",
   "execution_count": 239,
   "metadata": {},
   "outputs": [
    {
     "name": "stdout",
     "output_type": "stream",
     "text": [
      "[[3261  201]\n",
      " [ 766  272]]\n"
     ]
    }
   ],
   "source": [
    "from sklearn.metrics import confusion_matrix\n",
    "print(confusion_matrix(Y2_test, predictions11))\n"
   ]
  },
  {
   "cell_type": "code",
   "execution_count": 240,
   "metadata": {},
   "outputs": [
    {
     "data": {
      "text/plain": [
       "Text(0.5, 0, 'False Positive Rate')"
      ]
     },
     "execution_count": 240,
     "metadata": {},
     "output_type": "execute_result"
    },
    {
     "data": {
      "image/png": "[encoded data removed]",
      "text/plain": [
       "<Figure size 720x720 with 1 Axes>"
      ]
     },
     "metadata": {
      "needs_background": "light"
     },
     "output_type": "display_data"
    }
   ],
   "source": [
    "auc_roc=metrics.roc_auc_score(Y2_test,predictions11)\n",
    "auc_roc\n",
    "from sklearn.metrics import roc_curve, auc\n",
    "false_positive_rate, true_positive_rate, thresholds = roc_curve(Y2_test, predictions11)\n",
    "roc_auc = auc(false_positive_rate, true_positive_rate)\n",
    "roc_auc\n",
    "import matplotlib.pyplot as plt\n",
    "plt.figure(figsize=(10,10))\n",
    "plt.title('Receiver Operating Characteristic')\n",
    "plt.plot(false_positive_rate,true_positive_rate, color='red',label = 'AUC = %0.2f' % roc_auc)\n",
    "plt.legend(loc = 'lower right')\n",
    "plt.plot([0, 1], [0, 1],linestyle='--')\n",
    "plt.axis('tight')\n",
    "plt.ylabel('True Positive Rate')\n",
    "plt.xlabel('False Positive Rate')\n",
    "\n",
    "\n"
   ]
  },
  {
   "cell_type": "code",
   "execution_count": 241,
   "metadata": {},
   "outputs": [
    {
     "name": "stderr",
     "output_type": "stream",
     "text": [
      "C:\\Users\\fateh\\Anaconda3\\lib\\site-packages\\sklearn\\svm\\base.py:196: FutureWarning: The default value of gamma will change from 'auto' to 'scale' in version 0.22 to account better for unscaled features. Set gamma explicitly to 'auto' or 'scale' to avoid this warning.\n",
      "  \"avoid this warning.\", FutureWarning)\n"
     ]
    },
    {
     "data": {
      "text/plain": [
       "82.02"
      ]
     },
     "execution_count": 241,
     "metadata": {},
     "output_type": "execute_result"
    }
   ],
   "source": [
    "#Support vector machines - Polynomial kernel\n",
    "from sklearn import svm \n",
    "svc5 = svm.SVC(kernel='poly')\n",
    "svc5.fit(X2_train_scaled, Y2_train)\n",
    "acc_svc = round(svc5.score(X2_test_scaled, Y2_test) * 100, 2)\n",
    "acc_svc"
   ]
  },
  {
   "cell_type": "code",
   "execution_count": 242,
   "metadata": {},
   "outputs": [
    {
     "name": "stdout",
     "output_type": "stream",
     "text": [
      "              precision    recall  f1-score   support\n",
      "\n",
      "           0       0.00      0.00      0.00      3462\n",
      "           1       0.23      1.00      0.37      1038\n",
      "\n",
      "   micro avg       0.23      0.23      0.23      4500\n",
      "   macro avg       0.12      0.50      0.19      4500\n",
      "weighted avg       0.05      0.23      0.09      4500\n",
      "\n"
     ]
    },
    {
     "name": "stderr",
     "output_type": "stream",
     "text": [
      "C:\\Users\\fateh\\Anaconda3\\lib\\site-packages\\sklearn\\metrics\\classification.py:1143: UndefinedMetricWarning: Precision and F-score are ill-defined and being set to 0.0 in labels with no predicted samples.\n",
      "  'precision', 'predicted', average, warn_for)\n",
      "C:\\Users\\fateh\\Anaconda3\\lib\\site-packages\\sklearn\\metrics\\classification.py:1143: UndefinedMetricWarning: Precision and F-score are ill-defined and being set to 0.0 in labels with no predicted samples.\n",
      "  'precision', 'predicted', average, warn_for)\n",
      "C:\\Users\\fateh\\Anaconda3\\lib\\site-packages\\sklearn\\metrics\\classification.py:1143: UndefinedMetricWarning: Precision and F-score are ill-defined and being set to 0.0 in labels with no predicted samples.\n",
      "  'precision', 'predicted', average, warn_for)\n"
     ]
    }
   ],
   "source": [
    "predictions12 = svc5.predict(X2_test)\n",
    "from sklearn.metrics import classification_report\n",
    "print(classification_report(Y2_test, predictions12))"
   ]
  },
  {
   "cell_type": "code",
   "execution_count": 243,
   "metadata": {},
   "outputs": [
    {
     "name": "stdout",
     "output_type": "stream",
     "text": [
      "[[   0 3462]\n",
      " [   0 1038]]\n"
     ]
    }
   ],
   "source": [
    "from sklearn.metrics import confusion_matrix\n",
    "print(confusion_matrix(Y2_test, predictions12))"
   ]
  },
  {
   "cell_type": "code",
   "execution_count": 244,
   "metadata": {},
   "outputs": [
    {
     "data": {
      "text/plain": [
       "Text(0.5, 0, 'False Positive Rate')"
      ]
     },
     "execution_count": 244,
     "metadata": {},
     "output_type": "execute_result"
    },
    {
     "data": {
      "image/png": "[encoded data removed]",
      "text/plain": [
       "<Figure size 720x720 with 1 Axes>"
      ]
     },
     "metadata": {
      "needs_background": "light"
     },
     "output_type": "display_data"
    }
   ],
   "source": [
    "auc_roc=metrics.roc_auc_score(Y2_test,predictions12)\n",
    "auc_roc\n",
    "from sklearn.metrics import roc_curve, auc\n",
    "false_positive_rate, true_positive_rate, thresholds = roc_curve(Y2_test, predictions12)\n",
    "roc_auc = auc(false_positive_rate, true_positive_rate)\n",
    "roc_auc\n",
    "import matplotlib.pyplot as plt\n",
    "plt.figure(figsize=(10,10))\n",
    "plt.title('Receiver Operating Characteristic')\n",
    "plt.plot(false_positive_rate,true_positive_rate, color='red',label = 'AUC = %0.2f' % roc_auc)\n",
    "plt.legend(loc = 'lower right')\n",
    "plt.plot([0, 1], [0, 1],linestyle='--')\n",
    "plt.axis('tight')\n",
    "plt.ylabel('True Positive Rate')\n",
    "plt.xlabel('False Positive Rate')\n",
    "\n"
   ]
  },
  {
   "cell_type": "code",
   "execution_count": 245,
   "metadata": {},
   "outputs": [
    {
     "name": "stderr",
     "output_type": "stream",
     "text": [
      "C:\\Users\\fateh\\Anaconda3\\lib\\site-packages\\sklearn\\svm\\base.py:196: FutureWarning: The default value of gamma will change from 'auto' to 'scale' in version 0.22 to account better for unscaled features. Set gamma explicitly to 'auto' or 'scale' to avoid this warning.\n",
      "  \"avoid this warning.\", FutureWarning)\n"
     ]
    },
    {
     "data": {
      "text/plain": [
       "95.38"
      ]
     },
     "execution_count": 245,
     "metadata": {},
     "output_type": "execute_result"
    }
   ],
   "source": [
    "#Support vector machines - RBF kernel\n",
    "from sklearn import svm \n",
    "svc6 = svm.SVC(kernel='rbf')\n",
    "svc6.fit(X2_train, Y2_train)\n",
    "acc_svc = round(svc6.score(X2_test, Y2_test) * 100, 2)\n",
    "acc_svc"
   ]
  },
  {
   "cell_type": "code",
   "execution_count": 246,
   "metadata": {},
   "outputs": [
    {
     "name": "stdout",
     "output_type": "stream",
     "text": [
      "              precision    recall  f1-score   support\n",
      "\n",
      "           0       0.97      0.97      0.97      3462\n",
      "           1       0.89      0.91      0.90      1038\n",
      "\n",
      "   micro avg       0.95      0.95      0.95      4500\n",
      "   macro avg       0.93      0.94      0.94      4500\n",
      "weighted avg       0.95      0.95      0.95      4500\n",
      "\n"
     ]
    }
   ],
   "source": [
    "predictions13 = svc6.predict(X2_test)\n",
    "from sklearn.metrics import classification_report\n",
    "print(classification_report(Y2_test, predictions13))"
   ]
  },
  {
   "cell_type": "code",
   "execution_count": 278,
   "metadata": {},
   "outputs": [
    {
     "name": "stdout",
     "output_type": "stream",
     "text": [
      "[[3343  119]\n",
      " [  89  949]]\n"
     ]
    }
   ],
   "source": [
    "from sklearn.metrics import confusion_matrix\n",
    "print(confusion_matrix(Y2_test, predictions13))"
   ]
  },
  {
   "cell_type": "code",
   "execution_count": 247,
   "metadata": {},
   "outputs": [
    {
     "data": {
      "text/plain": [
       "Text(0.5, 0, 'False Positive Rate')"
      ]
     },
     "execution_count": 247,
     "metadata": {},
     "output_type": "execute_result"
    },
    {
     "data": {
      "image/png": "[encoded data removed]",
      "text/plain": [
       "<Figure size 720x720 with 1 Axes>"
      ]
     },
     "metadata": {
      "needs_background": "light"
     },
     "output_type": "display_data"
    }
   ],
   "source": [
    "auc_roc=metrics.roc_auc_score(Y2_test,predictions13)\n",
    "auc_roc\n",
    "from sklearn.metrics import roc_curve, auc\n",
    "false_positive_rate, true_positive_rate, thresholds = roc_curve(Y2_test, predictions13)\n",
    "roc_auc = auc(false_positive_rate, true_positive_rate)\n",
    "roc_auc\n",
    "import matplotlib.pyplot as plt\n",
    "plt.figure(figsize=(10,10))\n",
    "plt.title('Receiver Operating Characteristic')\n",
    "plt.plot(false_positive_rate,true_positive_rate, color='red',label = 'AUC = %0.2f' % roc_auc)\n",
    "plt.legend(loc = 'lower right')\n",
    "plt.plot([0, 1], [0, 1],linestyle='--')\n",
    "plt.axis('tight')\n",
    "plt.ylabel('True Positive Rate')\n",
    "plt.xlabel('False Positive Rate')"
   ]
  },
  {
   "cell_type": "code",
   "execution_count": 248,
   "metadata": {},
   "outputs": [
    {
     "name": "stdout",
     "output_type": "stream",
     "text": [
      "              precision    recall  f1-score   support\n",
      "\n",
      "           0       0.98      0.99      0.98      3462\n",
      "           1       0.96      0.92      0.94      1038\n",
      "\n",
      "   micro avg       0.97      0.97      0.97      4500\n",
      "   macro avg       0.97      0.96      0.96      4500\n",
      "weighted avg       0.97      0.97      0.97      4500\n",
      "\n"
     ]
    }
   ],
   "source": [
    "#Decision tree (max depth=5)\n",
    "from sklearn.tree import DecisionTreeClassifier\n",
    "dtree4 = DecisionTreeClassifier(criterion='gini', max_depth=5)\n",
    "dtree4.fit(X2_train_scaled,Y2_train)\n",
    "\n",
    "predictions14 = dtree4.predict(X2_test_scaled)\n",
    "from sklearn.metrics import classification_report,confusion_matrix\n",
    "print(classification_report(Y2_test,predictions14))"
   ]
  },
  {
   "cell_type": "code",
   "execution_count": 249,
   "metadata": {},
   "outputs": [
    {
     "name": "stdout",
     "output_type": "stream",
     "text": [
      "[[3418   44]\n",
      " [  78  960]]\n"
     ]
    }
   ],
   "source": [
    "print(confusion_matrix(Y2_test,predictions14))"
   ]
  },
  {
   "cell_type": "code",
   "execution_count": 251,
   "metadata": {},
   "outputs": [
    {
     "data": {
      "text/plain": [
       "97.29"
      ]
     },
     "execution_count": 251,
     "metadata": {},
     "output_type": "execute_result"
    }
   ],
   "source": [
    "dtree_score4 = round(dtree4.score(X2_test_scaled, Y2_test) * 100, 2)\n",
    "dtree_score4"
   ]
  },
  {
   "cell_type": "code",
   "execution_count": 253,
   "metadata": {},
   "outputs": [
    {
     "data": {
      "text/plain": [
       "Text(0.5, 0, 'False Positive Rate')"
      ]
     },
     "execution_count": 253,
     "metadata": {},
     "output_type": "execute_result"
    },
    {
     "data": {
      "image/png": "[encoded data removed]",
      "text/plain": [
       "<Figure size 720x720 with 1 Axes>"
      ]
     },
     "metadata": {
      "needs_background": "light"
     },
     "output_type": "display_data"
    }
   ],
   "source": [
    "auc_roc=metrics.roc_auc_score(Y2_test,predictions14)\n",
    "auc_roc\n",
    "from sklearn.metrics import roc_curve, auc\n",
    "false_positive_rate, true_positive_rate, thresholds = roc_curve(Y2_test, predictions13)\n",
    "roc_auc = auc(false_positive_rate, true_positive_rate)\n",
    "roc_auc\n",
    "import matplotlib.pyplot as plt\n",
    "plt.figure(figsize=(10,10))\n",
    "plt.title('Receiver Operating Characteristic')\n",
    "plt.plot(false_positive_rate,true_positive_rate, color='red',label = 'AUC = %0.2f' % roc_auc)\n",
    "plt.legend(loc = 'lower right')\n",
    "plt.plot([0, 1], [0, 1],linestyle='--')\n",
    "plt.axis('tight')\n",
    "plt.ylabel('True Positive Rate')\n",
    "plt.xlabel('False Positive Rate')"
   ]
  },
  {
   "cell_type": "code",
   "execution_count": 255,
   "metadata": {},
   "outputs": [
    {
     "name": "stdout",
     "output_type": "stream",
     "text": [
      "              precision    recall  f1-score   support\n",
      "\n",
      "           0       0.98      0.99      0.99      3462\n",
      "           1       0.97      0.94      0.96      1038\n",
      "\n",
      "   micro avg       0.98      0.98      0.98      4500\n",
      "   macro avg       0.98      0.97      0.97      4500\n",
      "weighted avg       0.98      0.98      0.98      4500\n",
      "\n"
     ]
    }
   ],
   "source": [
    "#Decision tree (max depth=10)\n",
    "dtree5 = DecisionTreeClassifier(criterion='gini', max_depth=10)\n",
    "dtree5.fit(X2_train_scaled,Y2_train)\n",
    "\n",
    "predictions15 = dtree5.predict(X2_test_scaled)\n",
    "from sklearn.metrics import classification_report,confusion_matrix\n",
    "print(classification_report(Y2_test,predictions15))"
   ]
  },
  {
   "cell_type": "code",
   "execution_count": 256,
   "metadata": {},
   "outputs": [
    {
     "name": "stdout",
     "output_type": "stream",
     "text": [
      "[[3433   29]\n",
      " [  59  979]]\n"
     ]
    }
   ],
   "source": [
    "print(confusion_matrix(Y2_test,predictions15))"
   ]
  },
  {
   "cell_type": "code",
   "execution_count": 257,
   "metadata": {},
   "outputs": [
    {
     "data": {
      "text/plain": [
       "98.04"
      ]
     },
     "execution_count": 257,
     "metadata": {},
     "output_type": "execute_result"
    }
   ],
   "source": [
    "dtree_score5 = round(dtree5.score(X2_test_scaled, Y2_test) * 100, 2)\n",
    "dtree_score5"
   ]
  },
  {
   "cell_type": "code",
   "execution_count": 258,
   "metadata": {},
   "outputs": [
    {
     "data": {
      "text/plain": [
       "Text(0.5, 0, 'False Positive Rate')"
      ]
     },
     "execution_count": 258,
     "metadata": {},
     "output_type": "execute_result"
    },
    {
     "data": {
      "image/png": "[encoded data removed]",
      "text/plain": [
       "<Figure size 720x720 with 1 Axes>"
      ]
     },
     "metadata": {
      "needs_background": "light"
     },
     "output_type": "display_data"
    }
   ],
   "source": [
    "auc_roc=metrics.roc_auc_score(Y2_test,predictions15)\n",
    "auc_roc\n",
    "from sklearn.metrics import roc_curve, auc\n",
    "false_positive_rate, true_positive_rate, thresholds = roc_curve(Y2_test, predictions13)\n",
    "roc_auc = auc(false_positive_rate, true_positive_rate)\n",
    "roc_auc\n",
    "import matplotlib.pyplot as plt\n",
    "plt.figure(figsize=(10,10))\n",
    "plt.title('Receiver Operating Characteristic')\n",
    "plt.plot(false_positive_rate,true_positive_rate, color='red',label = 'AUC = %0.2f' % roc_auc)\n",
    "plt.legend(loc = 'lower right')\n",
    "plt.plot([0, 1], [0, 1],linestyle='--')\n",
    "plt.axis('tight')\n",
    "plt.ylabel('True Positive Rate')\n",
    "plt.xlabel('False Positive Rate')"
   ]
  },
  {
   "cell_type": "code",
   "execution_count": 279,
   "metadata": {},
   "outputs": [
    {
     "name": "stdout",
     "output_type": "stream",
     "text": [
      "              precision    recall  f1-score   support\n",
      "\n",
      "           0       0.99      0.98      0.99      3462\n",
      "           1       0.94      0.97      0.96      1038\n",
      "\n",
      "   micro avg       0.98      0.98      0.98      4500\n",
      "   macro avg       0.97      0.98      0.97      4500\n",
      "weighted avg       0.98      0.98      0.98      4500\n",
      "\n"
     ]
    }
   ],
   "source": [
    "#Decision tree (max depth=8)\n",
    "from sklearn.tree import DecisionTreeClassifier\n",
    "dtree6 = DecisionTreeClassifier(criterion='gini', max_depth=None)\n",
    "dtree6.fit(X2_train_scaled,Y2_train)\n",
    "\n",
    "predictions16 = dtree6.predict(X2_test_scaled)\n",
    "from sklearn.metrics import classification_report,confusion_matrix\n",
    "print(classification_report(Y2_test,predictions16))"
   ]
  },
  {
   "cell_type": "code",
   "execution_count": 280,
   "metadata": {},
   "outputs": [
    {
     "name": "stdout",
     "output_type": "stream",
     "text": [
      "[[3400   62]\n",
      " [  30 1008]]\n"
     ]
    }
   ],
   "source": [
    "print(confusion_matrix(Y2_test,predictions16))"
   ]
  },
  {
   "cell_type": "code",
   "execution_count": 281,
   "metadata": {},
   "outputs": [
    {
     "data": {
      "text/plain": [
       "97.96"
      ]
     },
     "execution_count": 281,
     "metadata": {},
     "output_type": "execute_result"
    }
   ],
   "source": [
    "dtree_score6 = round(dtree6.score(X2_test_scaled, Y2_test) * 100, 2)\n",
    "dtree_score6"
   ]
  },
  {
   "cell_type": "code",
   "execution_count": 282,
   "metadata": {},
   "outputs": [
    {
     "data": {
      "text/plain": [
       "Text(0.5, 0, 'False Positive Rate')"
      ]
     },
     "execution_count": 282,
     "metadata": {},
     "output_type": "execute_result"
    },
    {
     "data": {
      "image/png": "[encoded data removed]",
      "text/plain": [
       "<Figure size 720x720 with 1 Axes>"
      ]
     },
     "metadata": {
      "needs_background": "light"
     },
     "output_type": "display_data"
    }
   ],
   "source": [
    "auc_roc=metrics.roc_auc_score(Y2_test,predictions16)\n",
    "auc_roc\n",
    "from sklearn.metrics import roc_curve, auc\n",
    "false_positive_rate, true_positive_rate, thresholds = roc_curve(Y2_test, predictions13)\n",
    "roc_auc = auc(false_positive_rate, true_positive_rate)\n",
    "roc_auc\n",
    "import matplotlib.pyplot as plt\n",
    "plt.figure(figsize=(10,10))\n",
    "plt.title('Receiver Operating Characteristic')\n",
    "plt.plot(false_positive_rate,true_positive_rate, color='red',label = 'AUC = %0.2f' % roc_auc)\n",
    "plt.legend(loc = 'lower right')\n",
    "plt.plot([0, 1], [0, 1],linestyle='--')\n",
    "plt.axis('tight')\n",
    "plt.ylabel('True Positive Rate')\n",
    "plt.xlabel('False Positive Rate')"
   ]
  },
  {
   "cell_type": "code",
   "execution_count": 263,
   "metadata": {},
   "outputs": [],
   "source": [
    "#BOOSTING (Turnover dataset)"
   ]
  },
  {
   "cell_type": "code",
   "execution_count": 264,
   "metadata": {},
   "outputs": [
    {
     "data": {
      "text/plain": [
       "98.8"
      ]
     },
     "execution_count": 264,
     "metadata": {},
     "output_type": "execute_result"
    }
   ],
   "source": [
    "#AdaBoost, max depth=5: \n",
    "from sklearn.ensemble import AdaBoostClassifier \n",
    "classifier4 = AdaBoostClassifier(base_estimator=DecisionTreeClassifier(max_depth=5), n_estimators=500)\n",
    "classifier4.fit(X2_train_scaled, Y2_train)\n",
    "Y_pred4 = classifier4.predict(X2_test_scaled)\n",
    "acc_boosted_decision_tree4 = round(classifier4.score(X2_test_scaled, Y2_test) * 100, 2)\n",
    "acc_boosted_decision_tree4"
   ]
  },
  {
   "cell_type": "code",
   "execution_count": 265,
   "metadata": {},
   "outputs": [
    {
     "name": "stdout",
     "output_type": "stream",
     "text": [
      "              precision    recall  f1-score   support\n",
      "\n",
      "           0       0.99      0.99      0.99      3462\n",
      "           1       0.98      0.97      0.97      1038\n",
      "\n",
      "   micro avg       0.99      0.99      0.99      4500\n",
      "   macro avg       0.98      0.98      0.98      4500\n",
      "weighted avg       0.99      0.99      0.99      4500\n",
      "\n"
     ]
    }
   ],
   "source": [
    "predictions17 = classifier4.predict(X2_test_scaled)\n",
    "from sklearn.metrics import classification_report\n",
    "print(classification_report(Y2_test, predictions17))"
   ]
  },
  {
   "cell_type": "code",
   "execution_count": 266,
   "metadata": {},
   "outputs": [
    {
     "name": "stdout",
     "output_type": "stream",
     "text": [
      "[[3439   23]\n",
      " [  31 1007]]\n"
     ]
    }
   ],
   "source": [
    "from sklearn.metrics import confusion_matrix\n",
    "print(confusion_matrix(Y2_test, predictions17))"
   ]
  },
  {
   "cell_type": "code",
   "execution_count": 267,
   "metadata": {},
   "outputs": [
    {
     "data": {
      "text/plain": [
       "Text(0.5, 0, 'False Positive Rate')"
      ]
     },
     "execution_count": 267,
     "metadata": {},
     "output_type": "execute_result"
    },
    {
     "data": {
      "image/png": "[encoded data removed]",
      "text/plain": [
       "<Figure size 720x720 with 1 Axes>"
      ]
     },
     "metadata": {
      "needs_background": "light"
     },
     "output_type": "display_data"
    }
   ],
   "source": [
    "auc_roc=metrics.roc_auc_score(Y2_test,predictions17)\n",
    "auc_roc\n",
    "from sklearn.metrics import roc_curve, auc\n",
    "false_positive_rate, true_positive_rate, thresholds = roc_curve(Y2_test, predictions13)\n",
    "roc_auc = auc(false_positive_rate, true_positive_rate)\n",
    "roc_auc\n",
    "import matplotlib.pyplot as plt\n",
    "plt.figure(figsize=(10,10))\n",
    "plt.title('Receiver Operating Characteristic')\n",
    "plt.plot(false_positive_rate,true_positive_rate, color='red',label = 'AUC = %0.2f' % roc_auc)\n",
    "plt.legend(loc = 'lower right')\n",
    "plt.plot([0, 1], [0, 1],linestyle='--')\n",
    "plt.axis('tight')\n",
    "plt.ylabel('True Positive Rate')\n",
    "plt.xlabel('False Positive Rate')"
   ]
  },
  {
   "cell_type": "code",
   "execution_count": 268,
   "metadata": {},
   "outputs": [
    {
     "data": {
      "text/plain": [
       "98.8"
      ]
     },
     "execution_count": 268,
     "metadata": {},
     "output_type": "execute_result"
    }
   ],
   "source": [
    "#AdaBoost, max depth=10: \n",
    "from sklearn.ensemble import AdaBoostClassifier \n",
    "classifier5 = AdaBoostClassifier(base_estimator=DecisionTreeClassifier(max_depth=10), n_estimators=500)\n",
    "classifier5.fit(X2_train_scaled, Y2_train)\n",
    "Y_pred5 = classifier5.predict(X2_test_scaled)\n",
    "acc_boosted_decision_tree5 = round(classifier4.score(X2_test_scaled, Y2_test) * 100, 2)\n",
    "acc_boosted_decision_tree5"
   ]
  },
  {
   "cell_type": "code",
   "execution_count": 269,
   "metadata": {},
   "outputs": [
    {
     "name": "stdout",
     "output_type": "stream",
     "text": [
      "              precision    recall  f1-score   support\n",
      "\n",
      "           0       0.99      1.00      0.99      3462\n",
      "           1       0.99      0.97      0.98      1038\n",
      "\n",
      "   micro avg       0.99      0.99      0.99      4500\n",
      "   macro avg       0.99      0.98      0.99      4500\n",
      "weighted avg       0.99      0.99      0.99      4500\n",
      "\n"
     ]
    }
   ],
   "source": [
    "predictions18 = classifier5.predict(X2_test_scaled)\n",
    "from sklearn.metrics import classification_report\n",
    "print(classification_report(Y2_test, predictions18))"
   ]
  },
  {
   "cell_type": "code",
   "execution_count": 270,
   "metadata": {},
   "outputs": [
    {
     "name": "stdout",
     "output_type": "stream",
     "text": [
      "[[3450   12]\n",
      " [  34 1004]]\n"
     ]
    }
   ],
   "source": [
    "from sklearn.metrics import confusion_matrix\n",
    "print(confusion_matrix(Y2_test, predictions18))"
   ]
  },
  {
   "cell_type": "code",
   "execution_count": 271,
   "metadata": {},
   "outputs": [
    {
     "data": {
      "text/plain": [
       "Text(0.5, 0, 'False Positive Rate')"
      ]
     },
     "execution_count": 271,
     "metadata": {},
     "output_type": "execute_result"
    },
    {
     "data": {
      "image/png": "[encoded data removed]",
      "text/plain": [
       "<Figure size 720x720 with 1 Axes>"
      ]
     },
     "metadata": {
      "needs_background": "light"
     },
     "output_type": "display_data"
    }
   ],
   "source": [
    "auc_roc=metrics.roc_auc_score(Y2_test,predictions18)\n",
    "auc_roc\n",
    "from sklearn.metrics import roc_curve, auc\n",
    "false_positive_rate, true_positive_rate, thresholds = roc_curve(Y2_test, predictions13)\n",
    "roc_auc = auc(false_positive_rate, true_positive_rate)\n",
    "roc_auc\n",
    "import matplotlib.pyplot as plt\n",
    "plt.figure(figsize=(10,10))\n",
    "plt.title('Receiver Operating Characteristic')\n",
    "plt.plot(false_positive_rate,true_positive_rate, color='red',label = 'AUC = %0.2f' % roc_auc)\n",
    "plt.legend(loc = 'lower right')\n",
    "plt.plot([0, 1], [0, 1],linestyle='--')\n",
    "plt.axis('tight')\n",
    "plt.ylabel('True Positive Rate')\n",
    "plt.xlabel('False Positive Rate')"
   ]
  },
  {
   "cell_type": "code",
   "execution_count": 272,
   "metadata": {},
   "outputs": [
    {
     "data": {
      "text/plain": [
       "98.36"
      ]
     },
     "execution_count": 272,
     "metadata": {},
     "output_type": "execute_result"
    }
   ],
   "source": [
    "#AdaBoost, max depth=3: ***************************************************************\n",
    "from sklearn.ensemble import AdaBoostClassifier \n",
    "classifier6 = AdaBoostClassifier(base_estimator=DecisionTreeClassifier(max_depth=3), n_estimators=500, learning_rate=1.3)\n",
    "classifier6.fit(X2_train_scaled, Y2_train)\n",
    "Y_pred6 = classifier6.predict(X2_test_scaled)\n",
    "acc_boosted_decision_tree6 = round(classifier6.score(X2_test_scaled, Y2_test) * 100, 2)\n",
    "acc_boosted_decision_tree6"
   ]
  },
  {
   "cell_type": "code",
   "execution_count": 273,
   "metadata": {},
   "outputs": [
    {
     "name": "stdout",
     "output_type": "stream",
     "text": [
      "              precision    recall  f1-score   support\n",
      "\n",
      "           0       0.99      0.99      0.99      3462\n",
      "           1       0.96      0.97      0.96      1038\n",
      "\n",
      "   micro avg       0.98      0.98      0.98      4500\n",
      "   macro avg       0.98      0.98      0.98      4500\n",
      "weighted avg       0.98      0.98      0.98      4500\n",
      "\n"
     ]
    }
   ],
   "source": [
    "predictions19 = classifier6.predict(X2_test_scaled)\n",
    "from sklearn.metrics import classification_report\n",
    "print(classification_report(Y2_test, predictions19))"
   ]
  },
  {
   "cell_type": "code",
   "execution_count": 274,
   "metadata": {},
   "outputs": [
    {
     "name": "stdout",
     "output_type": "stream",
     "text": [
      "[[3419   43]\n",
      " [  31 1007]]\n"
     ]
    }
   ],
   "source": [
    "print(confusion_matrix(Y2_test,predictions19))"
   ]
  },
  {
   "cell_type": "code",
   "execution_count": 275,
   "metadata": {},
   "outputs": [
    {
     "data": {
      "text/plain": [
       "Text(0.5, 0, 'False Positive Rate')"
      ]
     },
     "execution_count": 275,
     "metadata": {},
     "output_type": "execute_result"
    },
    {
     "data": {
      "image/png": "[encoded data removed]",
      "text/plain": [
       "<Figure size 720x720 with 1 Axes>"
      ]
     },
     "metadata": {
      "needs_background": "light"
     },
     "output_type": "display_data"
    }
   ],
   "source": [
    "auc_roc=metrics.roc_auc_score(Y2_test,predictions19)\n",
    "auc_roc\n",
    "from sklearn.metrics import roc_curve, auc\n",
    "false_positive_rate, true_positive_rate, thresholds = roc_curve(Y2_test, predictions13)\n",
    "roc_auc = auc(false_positive_rate, true_positive_rate)\n",
    "roc_auc\n",
    "import matplotlib.pyplot as plt\n",
    "plt.figure(figsize=(10,10))\n",
    "plt.title('Receiver Operating Characteristic')\n",
    "plt.plot(false_positive_rate,true_positive_rate, color='red',label = 'AUC = %0.2f' % roc_auc)\n",
    "plt.legend(loc = 'lower right')\n",
    "plt.plot([0, 1], [0, 1],linestyle='--')\n",
    "plt.axis('tight')\n",
    "plt.ylabel('True Positive Rate')\n",
    "plt.xlabel('False Positive Rate')"
   ]
  },
  {
   "cell_type": "code",
   "execution_count": null,
   "metadata": {},
   "outputs": [],
   "source": []
  },
  {
   "cell_type": "code",
   "execution_count": null,
   "metadata": {},
   "outputs": [],
   "source": []
  },
  {
   "cell_type": "code",
   "execution_count": null,
   "metadata": {},
   "outputs": [],
   "source": []
  },
  {
   "cell_type": "code",
   "execution_count": null,
   "metadata": {},
   "outputs": [],
   "source": []
  }
 ],
 "metadata": {
  "kernelspec": {
   "display_name": "Python 3",
   "language": "python",
   "name": "python3"
  },
  "language_info": {
   "codemirror_mode": {
    "name": "ipython",
    "version": 3
   },
   "file_extension": ".py",
   "mimetype": "text/x-python",
   "name": "python",
   "nbconvert_exporter": "python",
   "pygments_lexer": "ipython3",
   "version": "3.7.1"
  }
 },
 "nbformat": 4,
 "nbformat_minor": 2
}
